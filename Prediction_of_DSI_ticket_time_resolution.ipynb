{
  "nbformat": 4,
  "nbformat_minor": 0,
  "metadata": {
    "colab": {
      "name": "Prediction_of_DSI_ticket_time_resolution.ipynb",
      "provenance": [],
      "collapsed_sections": [],
      "include_colab_link": true
    },
    "language_info": {
      "codemirror_mode": {
        "name": "ipython",
        "version": 3
      },
      "file_extension": ".py",
      "mimetype": "text/x-python",
      "name": "python",
      "nbconvert_exporter": "python",
      "pygments_lexer": "ipython3",
      "version": "3.7.1"
    },
    "kernelspec": {
      "display_name": "Python 3",
      "language": "python",
      "name": "python3"
    }
  },
  "cells": [
    {
      "cell_type": "markdown",
      "metadata": {
        "id": "view-in-github",
        "colab_type": "text"
      },
      "source": [
        "<a href=\"https://colab.research.google.com/github/farfaness/Machine_learning/blob/master/Prediction_of_DSI_ticket_time_resolution.ipynb\" target=\"_parent\"><img src=\"https://colab.research.google.com/assets/colab-badge.svg\" alt=\"Open In Colab\"/></a>"
      ]
    },
    {
      "cell_type": "markdown",
      "metadata": {
        "id": "DOZ581xfZNRD",
        "colab_type": "text"
      },
      "source": [
        "# Analyse & Visualisation \n",
        "\n",
        "**Pour prédire le temps de résolution d'un ticket DSI**. \n",
        "\n",
        "Selon les informations reçues du client : \n",
        "- les données couvrent la période allant de janvier 2015 à novembre 2018 inclus\n",
        "- Au total, il devrait y avoir ~ 86 000 lignes de données\n",
        "- les lignes sont triées par ordre chronologique croissant\n",
        "- mêmes attributs de données que ceux fournis / expliqués précédemment\n",
        "\n",
        "Vérifions les réclamations de notre cher client et recherchons une date limite convenable !\n",
        "\n",
        "\n",
        "## Organisation du notebook \n",
        "Ce notebook est organisé par cellules, avec des consignes et des outputs pour vous montrer à quoi doivent ressembler les résultats. \n",
        "\n",
        "### Data\n",
        "Les variables sont : \n",
        "- timestamp: Contains the date and time of each single ticket change. \n",
        "- work_item: The unique ID of a support ticket.\n",
        "- work_type: What kind of ticket (e.g. hotfix, bug, change request)\n",
        "- work_priority: How important the ticket is. Lower numbers mean more important.\n",
        "- domain: From which business area is the ticket\n",
        "- platform: From which platform is the ticket\n",
        "- components: Which components are affected by the ticket\n",
        "- from_phase: The phase in which the ticket was before the change. Note that a missing value denotes a new ticket.\n",
        "- to_phase: The phase in which the ticket was after the change. Note that a missing value denotes that the ticket was closed\n",
        "- from_resource: The ID of the resource (i.e. person) who was working on the ticket till now\n",
        "- to_resource: The ID of the resource (i.e. person) who will now work on this ticket\n",
        "\n",
        "At first glance it seems that the most important columns are timestamp and work_item. Timestamp will define the values we have to predict, work_item sets the IDs. The remaining columns contain information that can be used as features for our model.\n",
        "\n",
        "____________________________________"
      ]
    },
    {
      "cell_type": "markdown",
      "metadata": {
        "id": "s-eAcOOIZNRF",
        "colab_type": "text"
      },
      "source": [
        "## Import et analyse préliminaire "
      ]
    },
    {
      "cell_type": "code",
      "metadata": {
        "id": "YrMED9wnZNRG",
        "colab_type": "code",
        "colab": {}
      },
      "source": [
        "#Importer les librairies qui vous semble utiles \n",
        "import warnings\n",
        "warnings.simplefilter(\"ignore\")\n",
        "\n",
        "import seaborn as sns\n",
        "import matplotlib.pyplot as plt\n",
        "import pandas as pd\n",
        "import numpy as np\n",
        "from datetime import date, time, datetime, timedelta"
      ],
      "execution_count": 0,
      "outputs": []
    },
    {
      "cell_type": "code",
      "metadata": {
        "id": "CsNmWM8rZNRK",
        "colab_type": "code",
        "outputId": "0c4b700e-a176-484b-e333-b7fa8425f6b5",
        "colab": {
          "base_uri": "https://localhost:8080/",
          "height": 204
        }
      },
      "source": [
        "#Charger le dataset `20181130_Full_Dataset.xlsx`\n",
        "data = pd.read_excel('/content/20181130_Full_Dataset.xlsx')\n",
        "data.head(5)"
      ],
      "execution_count": 0,
      "outputs": [
        {
          "output_type": "execute_result",
          "data": {
            "text/html": [
              "<div>\n",
              "<style scoped>\n",
              "    .dataframe tbody tr th:only-of-type {\n",
              "        vertical-align: middle;\n",
              "    }\n",
              "\n",
              "    .dataframe tbody tr th {\n",
              "        vertical-align: top;\n",
              "    }\n",
              "\n",
              "    .dataframe thead th {\n",
              "        text-align: right;\n",
              "    }\n",
              "</style>\n",
              "<table border=\"1\" class=\"dataframe\">\n",
              "  <thead>\n",
              "    <tr style=\"text-align: right;\">\n",
              "      <th></th>\n",
              "      <th>timestamp</th>\n",
              "      <th>work_item</th>\n",
              "      <th>work_type</th>\n",
              "      <th>work_priority</th>\n",
              "      <th>domain</th>\n",
              "      <th>platform</th>\n",
              "      <th>components</th>\n",
              "      <th>from_phase</th>\n",
              "      <th>to_phase</th>\n",
              "      <th>from_resource</th>\n",
              "      <th>to_resource</th>\n",
              "    </tr>\n",
              "  </thead>\n",
              "  <tbody>\n",
              "    <tr>\n",
              "      <th>0</th>\n",
              "      <td>2015-01-02 14:39:14</td>\n",
              "      <td>WI_000001</td>\n",
              "      <td>WT_00001</td>\n",
              "      <td>WP_00003</td>\n",
              "      <td>BD_00001</td>\n",
              "      <td>PL_00001</td>\n",
              "      <td>NaN</td>\n",
              "      <td>NaN</td>\n",
              "      <td>Analyze</td>\n",
              "      <td>NaN</td>\n",
              "      <td>ER_00043</td>\n",
              "    </tr>\n",
              "    <tr>\n",
              "      <th>1</th>\n",
              "      <td>2015-01-02 15:04:20</td>\n",
              "      <td>WI_000002</td>\n",
              "      <td>WT_00002</td>\n",
              "      <td>WP_00004</td>\n",
              "      <td>BD_00002</td>\n",
              "      <td>PL_00002</td>\n",
              "      <td>CO_00037/CO_00071</td>\n",
              "      <td>NaN</td>\n",
              "      <td>Analyze</td>\n",
              "      <td>NaN</td>\n",
              "      <td>ER_00225</td>\n",
              "    </tr>\n",
              "    <tr>\n",
              "      <th>2</th>\n",
              "      <td>2015-01-02 15:28:22</td>\n",
              "      <td>WI_000003</td>\n",
              "      <td>WT_00002</td>\n",
              "      <td>WP_00004</td>\n",
              "      <td>BD_00002</td>\n",
              "      <td>PL_00002</td>\n",
              "      <td>CO_00037/CO_00071</td>\n",
              "      <td>NaN</td>\n",
              "      <td>Analyze</td>\n",
              "      <td>NaN</td>\n",
              "      <td>ER_00225</td>\n",
              "    </tr>\n",
              "    <tr>\n",
              "      <th>3</th>\n",
              "      <td>2015-01-02 15:33:54</td>\n",
              "      <td>WI_000004</td>\n",
              "      <td>WT_00002</td>\n",
              "      <td>WP_00004</td>\n",
              "      <td>BD_00002</td>\n",
              "      <td>PL_00002</td>\n",
              "      <td>CO_00037/CO_00071</td>\n",
              "      <td>NaN</td>\n",
              "      <td>Analyze</td>\n",
              "      <td>NaN</td>\n",
              "      <td>ER_00225</td>\n",
              "    </tr>\n",
              "    <tr>\n",
              "      <th>4</th>\n",
              "      <td>2015-01-02 16:32:11</td>\n",
              "      <td>WI_000005</td>\n",
              "      <td>WT_00002</td>\n",
              "      <td>WP_00003</td>\n",
              "      <td>BD_00003</td>\n",
              "      <td>PL_00003</td>\n",
              "      <td>CO_00113</td>\n",
              "      <td>NaN</td>\n",
              "      <td>Analyze</td>\n",
              "      <td>NaN</td>\n",
              "      <td>ER_00206</td>\n",
              "    </tr>\n",
              "  </tbody>\n",
              "</table>\n",
              "</div>"
            ],
            "text/plain": [
              "            timestamp  work_item work_type work_priority    domain  platform  \\\n",
              "0 2015-01-02 14:39:14  WI_000001  WT_00001      WP_00003  BD_00001  PL_00001   \n",
              "1 2015-01-02 15:04:20  WI_000002  WT_00002      WP_00004  BD_00002  PL_00002   \n",
              "2 2015-01-02 15:28:22  WI_000003  WT_00002      WP_00004  BD_00002  PL_00002   \n",
              "3 2015-01-02 15:33:54  WI_000004  WT_00002      WP_00004  BD_00002  PL_00002   \n",
              "4 2015-01-02 16:32:11  WI_000005  WT_00002      WP_00003  BD_00003  PL_00003   \n",
              "\n",
              "          components from_phase to_phase from_resource to_resource  \n",
              "0                NaN        NaN  Analyze           NaN    ER_00043  \n",
              "1  CO_00037/CO_00071        NaN  Analyze           NaN    ER_00225  \n",
              "2  CO_00037/CO_00071        NaN  Analyze           NaN    ER_00225  \n",
              "3  CO_00037/CO_00071        NaN  Analyze           NaN    ER_00225  \n",
              "4           CO_00113        NaN  Analyze           NaN    ER_00206  "
            ]
          },
          "metadata": {
            "tags": []
          },
          "execution_count": 198
        }
      ]
    },
    {
      "cell_type": "code",
      "metadata": {
        "id": "o5y8Z6tfZNRS",
        "colab_type": "code",
        "outputId": "b41aa4ca-7936-436f-a089-b4a570d7eddb",
        "colab": {}
      },
      "source": [
        "#Afficher les informations du dataset \n",
        "data.info(memory_usage = True)"
      ],
      "execution_count": 0,
      "outputs": [
        {
          "output_type": "stream",
          "text": [
            "<class 'pandas.core.frame.DataFrame'>\n",
            "RangeIndex: 85794 entries, 0 to 85793\n",
            "Data columns (total 11 columns):\n",
            "timestamp        85794 non-null datetime64[ns]\n",
            "work_item        85794 non-null object\n",
            "work_type        85794 non-null object\n",
            "work_priority    85794 non-null object\n",
            "domain           85794 non-null object\n",
            "platform         85794 non-null object\n",
            "components       59497 non-null object\n",
            "from_phase       72097 non-null object\n",
            "to_phase         73284 non-null object\n",
            "from_resource    72097 non-null object\n",
            "to_resource      73284 non-null object\n",
            "dtypes: datetime64[ns](1), object(10)\n",
            "memory usage: 7.2+ MB\n"
          ],
          "name": "stdout"
        }
      ]
    },
    {
      "cell_type": "code",
      "metadata": {
        "id": "7nH-V6beZNRY",
        "colab_type": "code",
        "outputId": "d47631f9-1131-4a3d-f598-8443a0a4704f",
        "colab": {}
      },
      "source": [
        "#Afficher les stat descriptive \n",
        "data.describe() "
      ],
      "execution_count": 0,
      "outputs": [
        {
          "output_type": "execute_result",
          "data": {
            "text/html": [
              "<div>\n",
              "<style scoped>\n",
              "    .dataframe tbody tr th:only-of-type {\n",
              "        vertical-align: middle;\n",
              "    }\n",
              "\n",
              "    .dataframe tbody tr th {\n",
              "        vertical-align: top;\n",
              "    }\n",
              "\n",
              "    .dataframe thead th {\n",
              "        text-align: right;\n",
              "    }\n",
              "</style>\n",
              "<table border=\"1\" class=\"dataframe\">\n",
              "  <thead>\n",
              "    <tr style=\"text-align: right;\">\n",
              "      <th></th>\n",
              "      <th>timestamp</th>\n",
              "      <th>work_item</th>\n",
              "      <th>work_type</th>\n",
              "      <th>work_priority</th>\n",
              "      <th>domain</th>\n",
              "      <th>platform</th>\n",
              "      <th>components</th>\n",
              "      <th>from_phase</th>\n",
              "      <th>to_phase</th>\n",
              "      <th>from_resource</th>\n",
              "      <th>to_resource</th>\n",
              "    </tr>\n",
              "  </thead>\n",
              "  <tbody>\n",
              "    <tr>\n",
              "      <th>count</th>\n",
              "      <td>85794</td>\n",
              "      <td>85794</td>\n",
              "      <td>85794</td>\n",
              "      <td>85794</td>\n",
              "      <td>85794</td>\n",
              "      <td>85794</td>\n",
              "      <td>59497</td>\n",
              "      <td>72097</td>\n",
              "      <td>73284</td>\n",
              "      <td>72097</td>\n",
              "      <td>73284</td>\n",
              "    </tr>\n",
              "    <tr>\n",
              "      <th>unique</th>\n",
              "      <td>85260</td>\n",
              "      <td>13697</td>\n",
              "      <td>3</td>\n",
              "      <td>5</td>\n",
              "      <td>11</td>\n",
              "      <td>19</td>\n",
              "      <td>366</td>\n",
              "      <td>8</td>\n",
              "      <td>8</td>\n",
              "      <td>299</td>\n",
              "      <td>308</td>\n",
              "    </tr>\n",
              "    <tr>\n",
              "      <th>top</th>\n",
              "      <td>2018-02-26 10:12:33</td>\n",
              "      <td>WI_006500</td>\n",
              "      <td>WT_00001</td>\n",
              "      <td>WP_00003</td>\n",
              "      <td>BD_00002</td>\n",
              "      <td>PL_00002</td>\n",
              "      <td>CO_00118</td>\n",
              "      <td>Analyze</td>\n",
              "      <td>Analyze</td>\n",
              "      <td>ER_00239</td>\n",
              "      <td>ER_00239</td>\n",
              "    </tr>\n",
              "    <tr>\n",
              "      <th>freq</th>\n",
              "      <td>10</td>\n",
              "      <td>34</td>\n",
              "      <td>33212</td>\n",
              "      <td>42797</td>\n",
              "      <td>17841</td>\n",
              "      <td>17841</td>\n",
              "      <td>4923</td>\n",
              "      <td>14223</td>\n",
              "      <td>14884</td>\n",
              "      <td>3143</td>\n",
              "      <td>3155</td>\n",
              "    </tr>\n",
              "    <tr>\n",
              "      <th>first</th>\n",
              "      <td>2015-01-02 14:39:14</td>\n",
              "      <td>NaN</td>\n",
              "      <td>NaN</td>\n",
              "      <td>NaN</td>\n",
              "      <td>NaN</td>\n",
              "      <td>NaN</td>\n",
              "      <td>NaN</td>\n",
              "      <td>NaN</td>\n",
              "      <td>NaN</td>\n",
              "      <td>NaN</td>\n",
              "      <td>NaN</td>\n",
              "    </tr>\n",
              "    <tr>\n",
              "      <th>last</th>\n",
              "      <td>2018-11-30 18:52:35</td>\n",
              "      <td>NaN</td>\n",
              "      <td>NaN</td>\n",
              "      <td>NaN</td>\n",
              "      <td>NaN</td>\n",
              "      <td>NaN</td>\n",
              "      <td>NaN</td>\n",
              "      <td>NaN</td>\n",
              "      <td>NaN</td>\n",
              "      <td>NaN</td>\n",
              "      <td>NaN</td>\n",
              "    </tr>\n",
              "  </tbody>\n",
              "</table>\n",
              "</div>"
            ],
            "text/plain": [
              "                  timestamp  work_item work_type work_priority    domain  \\\n",
              "count                 85794      85794     85794         85794     85794   \n",
              "unique                85260      13697         3             5        11   \n",
              "top     2018-02-26 10:12:33  WI_006500  WT_00001      WP_00003  BD_00002   \n",
              "freq                     10         34     33212         42797     17841   \n",
              "first   2015-01-02 14:39:14        NaN       NaN           NaN       NaN   \n",
              "last    2018-11-30 18:52:35        NaN       NaN           NaN       NaN   \n",
              "\n",
              "        platform components from_phase to_phase from_resource to_resource  \n",
              "count      85794      59497      72097    73284         72097       73284  \n",
              "unique        19        366          8        8           299         308  \n",
              "top     PL_00002   CO_00118    Analyze  Analyze      ER_00239    ER_00239  \n",
              "freq       17841       4923      14223    14884          3143        3155  \n",
              "first        NaN        NaN        NaN      NaN           NaN         NaN  \n",
              "last         NaN        NaN        NaN      NaN           NaN         NaN  "
            ]
          },
          "metadata": {
            "tags": []
          },
          "execution_count": 4
        }
      ]
    },
    {
      "cell_type": "code",
      "metadata": {
        "id": "vHt9hCI9ZNRe",
        "colab_type": "code",
        "outputId": "94fd0e47-92f8-40c5-ddba-9aaf2648603d",
        "colab": {
          "base_uri": "https://localhost:8080/",
          "height": 153
        }
      },
      "source": [
        "#Regarder le 'work_item' WI_005405\n",
        "#Que remarquez vous ? \n",
        "def delay(ID):\n",
        "  tickets = data.loc[data.work_item == ID].index\n",
        "  time_send = data['timestamp'][tickets[0]]\n",
        "  time_closed = data['timestamp'][tickets[-1]]\n",
        "  delay = time_closed - time_send\n",
        "  print('Le ticket {} est résolu en {} jours et {} secondes ' .format(ID, delay.days, delay.seconds))\n",
        "\n",
        "delay(\"WI_005405\")\n",
        "\n",
        "#pd.set_option('display.max_rows', 500)\n",
        "#pd.set_option('display.width', 1000)\n",
        "pd.set_option('display.max_columns', 11)\n",
        "\n",
        "print(data[data.work_item == \"WI_005405\"][data.columns])"
      ],
      "execution_count": 0,
      "outputs": [
        {
          "output_type": "stream",
          "text": [
            "Le ticket WI_005405 est résolu en 0 jours et 4 secondes \n",
            "                timestamp  work_item work_type work_priority    domain  \\\n",
            "32621 2016-11-16 14:53:35  WI_005405  WT_00001      WP_00002  BD_00008   \n",
            "32622 2016-11-16 14:53:39  WI_005405  WT_00001      WP_00002  BD_00008   \n",
            "\n",
            "       platform components from_phase to_phase from_resource to_resource  \n",
            "32621  PL_00014        NaN        NaN  Analyze           NaN    ER_00284  \n",
            "32622  PL_00014        NaN    Analyze      NaN      ER_00284         NaN  \n"
          ],
          "name": "stdout"
        }
      ]
    },
    {
      "cell_type": "code",
      "metadata": {
        "id": "KOIHoZrpZNRk",
        "colab_type": "code",
        "outputId": "d9c3df84-305a-42f9-b7e3-aa5911ab2a15",
        "colab": {
          "base_uri": "https://localhost:8080/",
          "height": 527
        }
      },
      "source": [
        "#Pareil pour le 'WI_000273' \n",
        "#Que remarquez vous par rapport à 'WI_005405'? \n",
        "delay(\"WI_000273\")\n",
        "\n",
        "print(data[data.work_item == \"WI_000273\"][data.columns])"
      ],
      "execution_count": 0,
      "outputs": [
        {
          "output_type": "stream",
          "text": [
            "Le ticket WI_000273 est résolu en 1281 jours et 52999 secondes \n",
            "                timestamp  work_item work_type work_priority    domain  \\\n",
            "1165  2015-02-02 19:58:53  WI_000273  WT_00003      WP_00002  BD_00007   \n",
            "1184  2015-02-03 10:38:27  WI_000273  WT_00003      WP_00002  BD_00007   \n",
            "26789 2016-08-01 17:04:51  WI_000273  WT_00003      WP_00002  BD_00007   \n",
            "26790 2016-08-01 17:05:13  WI_000273  WT_00003      WP_00002  BD_00007   \n",
            "26791 2016-08-01 17:05:17  WI_000273  WT_00003      WP_00002  BD_00007   \n",
            "26792 2016-08-01 17:05:24  WI_000273  WT_00003      WP_00002  BD_00007   \n",
            "43738 2017-05-03 14:42:20  WI_000273  WT_00003      WP_00002  BD_00007   \n",
            "57574 2017-10-30 16:11:27  WI_000273  WT_00003      WP_00002  BD_00007   \n",
            "71819 2018-03-29 13:39:26  WI_000273  WT_00003      WP_00002  BD_00007   \n",
            "75189 2018-05-23 07:35:57  WI_000273  WT_00003      WP_00002  BD_00007   \n",
            "75190 2018-05-23 07:36:01  WI_000273  WT_00003      WP_00002  BD_00007   \n",
            "76698 2018-06-14 12:30:48  WI_000273  WT_00003      WP_00002  BD_00007   \n",
            "79737 2018-08-07 10:42:12  WI_000273  WT_00003      WP_00002  BD_00007   \n",
            "\n",
            "       platform components from_phase to_phase from_resource to_resource  \n",
            "1165   PL_00007        NaN        NaN  Analyze           NaN    ER_00048  \n",
            "1184   PL_00007        NaN    Analyze   Design      ER_00048    ER_00091  \n",
            "26789  PL_00007        NaN     Design    Build      ER_00091    ER_00091  \n",
            "26790  PL_00007        NaN      Build     Test      ER_00091    ER_00091  \n",
            "26791  PL_00007        NaN       Test  Package      ER_00091    ER_00091  \n",
            "26792  PL_00007        NaN    Package   Accept      ER_00091    ER_00091  \n",
            "43738  PL_00007        NaN     Accept     Test      ER_00091    ER_00048  \n",
            "57574  PL_00007        NaN       Test    Build      ER_00048    ER_00262  \n",
            "71819  PL_00007        NaN      Build     Test      ER_00262    ER_00262  \n",
            "75189  PL_00007        NaN       Test  Package      ER_00262    ER_00262  \n",
            "75190  PL_00007        NaN    Package   Accept      ER_00262    ER_00262  \n",
            "76698  PL_00007        NaN     Accept   Deploy      ER_00262    ER_00108  \n",
            "79737  PL_00007        NaN     Deploy      NaN      ER_00108         NaN  \n"
          ],
          "name": "stdout"
        }
      ]
    },
    {
      "cell_type": "markdown",
      "metadata": {
        "id": "qitU8TvnZNRp",
        "colab_type": "text"
      },
      "source": [
        "### Focus sur les variables \n",
        "Explorer les différentes variables du dataset, les décrire et les ploter à l'aide de la librairie de votre choix. **Ci-dessous quelques exemples de plot, n'hésitez pas à explorer le dataset** "
      ]
    },
    {
      "cell_type": "code",
      "metadata": {
        "id": "s4eGPt8pZNRq",
        "colab_type": "code",
        "outputId": "b2c20630-8487-477c-d4d7-4094e176ac51",
        "colab": {
          "base_uri": "https://localhost:8080/",
          "height": 6086
        }
      },
      "source": [
        "for colonne in data.columns : \n",
        "  nbr_unique_value = len(data[colonne].value_counts())\n",
        "  print(\"La colonne {} comporte {} valeurs uniques\" .format(colonne, nbr_unique_value))\n",
        "  if nbr_unique_value < 10 : print(data[colonne].value_counts())\n",
        "  elif (data[colonne].dtype == object) : print(data[colonne].value_counts())\n",
        "  else :  print(data[colonne].value_counts(bins = 15)) #Lorsque beaucoup de valeurs pour une variable num me les regroupe en 15 bins\n",
        "  print('\\n')"
      ],
      "execution_count": 0,
      "outputs": [
        {
          "output_type": "stream",
          "text": [
            "La colonne timestamp comporte 85260 valeurs uniques\n",
            "(2017-11-14 22:33:01.400000, 2018-02-18 03:37:54.800000]       9233\n",
            "(2017-08-11 17:28:08, 2017-11-14 22:33:01.400000]              8011\n",
            "(2017-05-08 12:23:14.600000, 2017-08-11 17:28:08]              7183\n",
            "(2018-02-18 03:37:54.800000, 2018-05-24 08:42:48.200000]       6879\n",
            "(2017-02-02 07:18:21.200000, 2017-05-08 12:23:14.600000]       6767\n",
            "(2016-01-18 10:58:47.600000, 2016-04-22 16:03:41]              6028\n",
            "(2018-05-24 08:42:48.200000, 2018-08-27 13:47:41.600000]       5444\n",
            "(2016-10-30 02:13:27.800000, 2017-02-02 07:18:21.200000]       5370\n",
            "(2016-07-26 21:08:34.400000, 2016-10-30 02:13:27.800000]       5227\n",
            "(2018-08-27 13:47:41.600000, 2018-11-30 18:52:35]              5051\n",
            "(2015-10-15 05:53:54.200000, 2016-01-18 10:58:47.600000]       4660\n",
            "(2016-04-22 16:03:41, 2016-07-26 21:08:34.400000]              4616\n",
            "(2015-01-01 04:22:39.599000063, 2015-04-07 19:44:07.400000]    4387\n",
            "(2015-04-07 19:44:07.400000, 2015-07-12 00:49:00.800000]       3480\n",
            "(2015-07-12 00:49:00.800000, 2015-10-15 05:53:54.200000]       3458\n",
            "Name: timestamp, dtype: int64\n",
            "\n",
            "\n",
            "La colonne work_item comporte 13697 valeurs uniques\n",
            "WI_006500    34\n",
            "WI_008786    31\n",
            "WI_004262    31\n",
            "WI_011425    28\n",
            "WI_008268    27\n",
            "WI_000911    27\n",
            "WI_006607    26\n",
            "WI_009123    26\n",
            "WI_002323    26\n",
            "WI_004371    26\n",
            "WI_010909    25\n",
            "WI_002369    25\n",
            "WI_003666    24\n",
            "WI_011997    24\n",
            "WI_004382    24\n",
            "WI_011110    24\n",
            "WI_005765    24\n",
            "WI_005949    23\n",
            "WI_005660    23\n",
            "WI_006953    23\n",
            "WI_005777    23\n",
            "WI_007837    23\n",
            "WI_006574    22\n",
            "WI_007913    22\n",
            "WI_009449    22\n",
            "WI_013001    21\n",
            "WI_009558    21\n",
            "WI_009667    21\n",
            "WI_007441    21\n",
            "WI_007146    21\n",
            "             ..\n",
            "WI_007028     1\n",
            "WI_003801     1\n",
            "WI_012159     1\n",
            "WI_011527     1\n",
            "WI_013202     1\n",
            "WI_013601     1\n",
            "WI_013134     1\n",
            "WI_012794     1\n",
            "WI_001813     1\n",
            "WI_013309     1\n",
            "WI_013599     1\n",
            "WI_012726     1\n",
            "WI_011712     1\n",
            "WI_012630     1\n",
            "WI_005093     1\n",
            "WI_013516     1\n",
            "WI_012436     1\n",
            "WI_012780     1\n",
            "WI_012518     1\n",
            "WI_013326     1\n",
            "WI_008833     1\n",
            "WI_012787     1\n",
            "WI_012775     1\n",
            "WI_006752     1\n",
            "WI_011699     1\n",
            "WI_012685     1\n",
            "WI_009734     1\n",
            "WI_011659     1\n",
            "WI_012860     1\n",
            "WI_012233     1\n",
            "Name: work_item, Length: 13697, dtype: int64\n",
            "\n",
            "\n",
            "La colonne work_type comporte 3 valeurs uniques\n",
            "WT_00001    33212\n",
            "WT_00003    32432\n",
            "WT_00002    20150\n",
            "Name: work_type, dtype: int64\n",
            "\n",
            "\n",
            "La colonne work_priority comporte 5 valeurs uniques\n",
            "WP_00003    42797\n",
            "WP_00002    18456\n",
            "WP_00001     9039\n",
            "WP_00004     7989\n",
            "WP_00005     7513\n",
            "Name: work_priority, dtype: int64\n",
            "\n",
            "\n",
            "La colonne domain comporte 11 valeurs uniques\n",
            "BD_00002    17841\n",
            "BD_00005    16646\n",
            "BD_00003    10951\n",
            "BD_00001     8045\n",
            "BD_00007     7442\n",
            "BD_00006     6666\n",
            "BD_00008     4809\n",
            "BD_00010     3946\n",
            "BD_00004     3828\n",
            "BD_00009     3560\n",
            "BD_00011     2060\n",
            "Name: domain, dtype: int64\n",
            "\n",
            "\n",
            "La colonne platform comporte 19 valeurs uniques\n",
            "PL_00002    17841\n",
            "PL_00005    16646\n",
            "PL_00001     8045\n",
            "PL_00012     5707\n",
            "PL_00008     5688\n",
            "PL_00003     5263\n",
            "PL_00006     4344\n",
            "PL_00016     3946\n",
            "PL_00019     3218\n",
            "PL_00009     3148\n",
            "PL_00010     2322\n",
            "PL_00004     2251\n",
            "PL_00007     1735\n",
            "PL_00018     1586\n",
            "PL_00011     1577\n",
            "PL_00013     1120\n",
            "PL_00014      541\n",
            "PL_00017      474\n",
            "PL_00015      342\n",
            "Name: platform, dtype: int64\n",
            "\n",
            "\n",
            "La colonne components comporte 366 valeurs uniques\n",
            "CO_00118                               4923\n",
            "CO_00113                               4439\n",
            "CO_00108                               3972\n",
            "CO_00153                               3811\n",
            "CO_00035                               3483\n",
            "CO_00026                               2423\n",
            "CO_00069                               2070\n",
            "CO_00164                               1894\n",
            "CO_00037/CO_00071                      1814\n",
            "CO_00010                               1719\n",
            "CO_00031                               1713\n",
            "CO_00160                               1611\n",
            "CO_00068                               1307\n",
            "CO_00016                               1169\n",
            "CO_00099/CO_00073                       973\n",
            "CO_00023                                943\n",
            "CO_00027                                755\n",
            "CO_00139                                695\n",
            "CO_00173                                557\n",
            "CO_00067                                557\n",
            "CO_00057                                537\n",
            "CO_00096                                528\n",
            "CO_00064                                514\n",
            "CO_00174                                508\n",
            "CO_00081                                506\n",
            "CO_00129                                432\n",
            "CO_00135                                411\n",
            "CO_00141                                396\n",
            "CO_00072                                382\n",
            "CO_00137                                364\n",
            "                                       ... \n",
            "CO_00007/CO_00102                         3\n",
            "CO_00060/CO_00053/CO_00035                3\n",
            "CO_00170                                  3\n",
            "CO_00038/CO_00168                         3\n",
            "CO_00171                                  2\n",
            "CO_00035/CO_00054                         2\n",
            "CO_00062/CO_00174                         2\n",
            "CO_00088/CO_00111/CO_00112                2\n",
            "CO_00164/CO_00160                         2\n",
            "CO_00061                                  2\n",
            "CO_00132/CO_00023                         2\n",
            "CO_00137/CO_00164                         2\n",
            "CO_00177/CO_00027                         2\n",
            "CO_00129/CO_00179                         2\n",
            "CO_00072/CO_00108                         2\n",
            "CO_00025/CO_00031/CO_00064                2\n",
            "CO_00132/CO_00037/CO_00071                2\n",
            "CO_00010/CO_00069/CO_00107                2\n",
            "CO_00035/CO_00032                         2\n",
            "CO_00003/CO_00029                         2\n",
            "CO_00131/CO_00016                         2\n",
            "CO_00096/CO_00026                         2\n",
            "CO_00114                                  1\n",
            "CO_00096/CO_00016                         1\n",
            "CO_00035/CO_00069/CO_00030                1\n",
            "CO_00116/CO_00031                         1\n",
            "CO_00094/CO_00135/CO_00107/CO_00140       1\n",
            "CO_00121/CO_00107                         1\n",
            "CO_00115                                  1\n",
            "CO_00180                                  1\n",
            "Name: components, Length: 366, dtype: int64\n",
            "\n",
            "\n",
            "La colonne from_phase comporte 8 valeurs uniques\n",
            "Analyze    14223\n",
            "Design     12763\n",
            "Build      11846\n",
            "Accept      9642\n",
            "Deploy      8405\n",
            "Test        8196\n",
            "Package     7020\n",
            "Clarify        2\n",
            "Name: from_phase, dtype: int64\n",
            "\n",
            "\n",
            "La colonne to_phase comporte 8 valeurs uniques\n",
            "Analyze    14884\n",
            "Design     12924\n",
            "Build      11964\n",
            "Accept      9734\n",
            "Deploy      8489\n",
            "Test        8258\n",
            "Package     7028\n",
            "Clarify        3\n",
            "Name: to_phase, dtype: int64\n",
            "\n",
            "\n",
            "La colonne from_resource comporte 299 valeurs uniques\n",
            "ER_00239    3143\n",
            "ER_00251    2960\n",
            "ER_00225    2925\n",
            "ER_00149    2902\n",
            "ER_00061    2715\n",
            "ER_00212    2688\n",
            "ER_00099    2470\n",
            "ER_00068    2238\n",
            "ER_00075    2036\n",
            "ER_00060    1911\n",
            "ER_00284    1828\n",
            "ER_00091    1762\n",
            "ER_00098    1732\n",
            "ER_00073    1711\n",
            "ER_00217    1671\n",
            "ER_00242    1588\n",
            "ER_00137    1551\n",
            "ER_00287    1419\n",
            "ER_00206    1307\n",
            "ER_00016    1217\n",
            "ER_00058    1096\n",
            "ER_00156    1053\n",
            "ER_00166    1027\n",
            "ER_00262    1001\n",
            "ER_00088     878\n",
            "ER_00263     874\n",
            "ER_00222     818\n",
            "ER_00219     738\n",
            "ER_00028     738\n",
            "ER_00052     723\n",
            "            ... \n",
            "ER_00169       1\n",
            "ER_00274       1\n",
            "ER_00077       1\n",
            "ER_00257       1\n",
            "ER_00056       1\n",
            "ER_00122       1\n",
            "ER_00161       1\n",
            "ER_00300       1\n",
            "ER_00202       1\n",
            "ER_00133       1\n",
            "ER_00105       1\n",
            "ER_00046       1\n",
            "ER_00019       1\n",
            "ER_00103       1\n",
            "ER_00250       1\n",
            "ER_00304       1\n",
            "ER_00096       1\n",
            "ER_00175       1\n",
            "ER_00029       1\n",
            "ER_00064       1\n",
            "ER_00220       1\n",
            "ER_00187       1\n",
            "ER_00185       1\n",
            "ER_00227       1\n",
            "ER_00078       1\n",
            "ER_00031       1\n",
            "ER_00143       1\n",
            "ER_00280       1\n",
            "ER_00292       1\n",
            "ER_00281       1\n",
            "Name: from_resource, Length: 299, dtype: int64\n",
            "\n",
            "\n",
            "La colonne to_resource comporte 308 valeurs uniques\n",
            "ER_00239    3155\n",
            "ER_00251    2976\n",
            "ER_00225    2968\n",
            "ER_00149    2916\n",
            "ER_00061    2804\n",
            "ER_00212    2707\n",
            "ER_00099    2505\n",
            "ER_00068    2285\n",
            "ER_00075    2050\n",
            "ER_00060    1913\n",
            "ER_00284    1856\n",
            "ER_00098    1772\n",
            "ER_00091    1763\n",
            "ER_00073    1746\n",
            "ER_00217    1696\n",
            "ER_00242    1640\n",
            "ER_00137    1561\n",
            "ER_00287    1426\n",
            "ER_00206    1308\n",
            "ER_00016    1241\n",
            "ER_00058    1119\n",
            "ER_00156    1082\n",
            "ER_00166    1034\n",
            "ER_00262    1028\n",
            "ER_00263     883\n",
            "ER_00088     882\n",
            "ER_00222     818\n",
            "ER_00219     776\n",
            "ER_00028     740\n",
            "ER_00052     727\n",
            "            ... \n",
            "ER_00056       1\n",
            "ER_00161       1\n",
            "ER_00169       1\n",
            "ER_00105       1\n",
            "ER_00202       1\n",
            "ER_00292       1\n",
            "ER_00300       1\n",
            "ER_00133       1\n",
            "ER_00046       1\n",
            "ER_00250       1\n",
            "ER_00304       1\n",
            "ER_00103       1\n",
            "ER_00019       1\n",
            "ER_00185       1\n",
            "ER_00143       1\n",
            "ER_00227       1\n",
            "ER_00096       1\n",
            "ER_00220       1\n",
            "ER_00029       1\n",
            "ER_00064       1\n",
            "ER_00257       1\n",
            "ER_00306       1\n",
            "ER_00187       1\n",
            "ER_00031       1\n",
            "ER_00078       1\n",
            "ER_00153       1\n",
            "ER_00280       1\n",
            "ER_00122       1\n",
            "ER_00303       1\n",
            "ER_00277       1\n",
            "Name: to_resource, Length: 308, dtype: int64\n",
            "\n",
            "\n"
          ],
          "name": "stdout"
        }
      ]
    },
    {
      "cell_type": "code",
      "metadata": {
        "id": "tHTQc0S1ZNRw",
        "colab_type": "code",
        "outputId": "c2ee5438-a12b-4107-fe08-6ec4192509bd",
        "colab": {}
      },
      "source": [
        "l=['domain']\n",
        "\n",
        "for i in l :\n",
        "    sns.set(rc={\"figure.figsize\": [10, 5]})\n",
        "    fig = sns.countplot(data[i])\n",
        "    plt.xticks(rotation=45)\n",
        "    plt.show()\n",
        "    \n",
        "#ou\n",
        "#for i in dataframe.columns.tolist():\n",
        "#  if dataframe[i].dtype == 'object': #le faire uniquement sur les variables catégorielles\n",
        "#    sns.countplot(i, data = dataframe)\n",
        "#    plt.show()\n"
      ],
      "execution_count": 0,
      "outputs": [
        {
          "output_type": "display_data",
          "data": {
            "image/png": "[encoded data removed]",
            "text/plain": [
              "<Figure size 1152x648 with 1 Axes>"
            ]
          },
          "metadata": {
            "tags": [],
            "needs_background": "light"
          }
        }
      ]
    },
    {
      "cell_type": "code",
      "metadata": {
        "id": "eMmIm-ytZNR2",
        "colab_type": "code",
        "outputId": "787fe438-7682-4e67-ce56-4bf92a731106",
        "colab": {}
      },
      "source": [
        "sns.set(rc={\"figure.figsize\": [15, 10]})\n",
        "fig = sns.countplot(data['from_phase'], hue = data['work_priority'])\n",
        "plt.xticks(rotation=45)\n",
        "plt.show()"
      ],
      "execution_count": 0,
      "outputs": [
        {
          "output_type": "display_data",
          "data": {
            "image/png": "[encoded data removed]",
            "text/plain": [
              "<Figure size 1152x648 with 1 Axes>"
            ]
          },
          "metadata": {
            "tags": [],
            "needs_background": "light"
          }
        }
      ]
    },
    {
      "cell_type": "markdown",
      "metadata": {
        "id": "lmeNoigvZNR8",
        "colab_type": "text"
      },
      "source": [
        "Regardons le dataset plus en détail notamment : \n",
        "- l'ordre chronologique des lignes  \n",
        "- les dates minimales et maximales couvertes dans le jeu de données \n",
        "- les éléments de travail uniques qui sont dans l'ensemble de données \n",
        "- le nombre total d'éléments de travail ouverts et fermés, et le nombre de travaux en cours à la date maximale\n"
      ]
    },
    {
      "cell_type": "code",
      "metadata": {
        "id": "B6-QQc1RZNR-",
        "colab_type": "code",
        "outputId": "34939593-2620-49b1-ca86-b1f7f696d991",
        "colab": {
          "base_uri": "https://localhost:8080/",
          "height": 221
        }
      },
      "source": [
        "#Filtrer le dataframe pour compter les NaN dans la colonne from_phase   \n",
        "#value_counts de toutes les lignes ayant un nan dans la colonne from_phase et pas de nan dans from_resource\n",
        "\n",
        "mask = (data['from_phase'].isna() == True) & (data['from_resource'].isna() == False)\n",
        "df = data.loc[mask]\n",
        "\n",
        "#Select the tickets openned between these two dates\n",
        "df.isna().sum(axis = 0)\n",
        "\n",
        "#ou\n",
        "#data[data['from_phase'].isnull()].count()"
      ],
      "execution_count": 0,
      "outputs": [
        {
          "output_type": "execute_result",
          "data": {
            "text/plain": [
              "timestamp        0\n",
              "work_item        0\n",
              "work_type        0\n",
              "work_priority    0\n",
              "domain           0\n",
              "platform         0\n",
              "components       0\n",
              "from_phase       0\n",
              "to_phase         0\n",
              "from_resource    0\n",
              "to_resource      0\n",
              "dtype: int64"
            ]
          },
          "metadata": {
            "tags": []
          },
          "execution_count": 5
        }
      ]
    },
    {
      "cell_type": "code",
      "metadata": {
        "id": "5-4GuojtZNSD",
        "colab_type": "code",
        "outputId": "6653a189-c25b-4141-ee57-c19fbd993f35",
        "colab": {
          "base_uri": "https://localhost:8080/",
          "height": 221
        }
      },
      "source": [
        "#Filtrer le dataframe pour compter les NaN dans la colonne to_phase   \n",
        "mask = (data['to_phase'].isna() == True) & (data['to_resource'].isna() == False)\n",
        "df = data.loc[mask]\n",
        "\n",
        "#Select the tickets openned between these two dates\n",
        "df.isna().sum(axis = 0)\n",
        "\n",
        "#data[data['to_phase'].isnull()].count()"
      ],
      "execution_count": 0,
      "outputs": [
        {
          "output_type": "execute_result",
          "data": {
            "text/plain": [
              "timestamp        0\n",
              "work_item        0\n",
              "work_type        0\n",
              "work_priority    0\n",
              "domain           0\n",
              "platform         0\n",
              "components       0\n",
              "from_phase       0\n",
              "to_phase         0\n",
              "from_resource    0\n",
              "to_resource      0\n",
              "dtype: int64"
            ]
          },
          "metadata": {
            "tags": []
          },
          "execution_count": 6
        }
      ]
    },
    {
      "cell_type": "code",
      "metadata": {
        "id": "UqjbPYL1ZNSK",
        "colab_type": "code",
        "outputId": "53d9d9d6-62d6-41d7-9da2-16bef6c8e86f",
        "colab": {
          "base_uri": "https://localhost:8080/",
          "height": 34
        }
      },
      "source": [
        "#Retrouver la date la plus ancienne dans le dataset\n",
        "min_date = min(data['timestamp'])\n",
        "min_date"
      ],
      "execution_count": 0,
      "outputs": [
        {
          "output_type": "execute_result",
          "data": {
            "text/plain": [
              "Timestamp('2015-01-02 14:39:14')"
            ]
          },
          "metadata": {
            "tags": []
          },
          "execution_count": 5
        }
      ]
    },
    {
      "cell_type": "code",
      "metadata": {
        "id": "5tuGK5o1ZNSQ",
        "colab_type": "code",
        "outputId": "506a8fa4-94fd-4ee0-e8ef-e89fe0636e54",
        "colab": {
          "base_uri": "https://localhost:8080/",
          "height": 34
        }
      },
      "source": [
        "#Retrouver la date la plus la plus récente dans le dataset\n",
        "max_date = max(data['timestamp'])\n",
        "max_date"
      ],
      "execution_count": 0,
      "outputs": [
        {
          "output_type": "execute_result",
          "data": {
            "text/plain": [
              "Timestamp('2018-11-30 18:52:35')"
            ]
          },
          "metadata": {
            "tags": []
          },
          "execution_count": 6
        }
      ]
    },
    {
      "cell_type": "code",
      "metadata": {
        "id": "aWb-lGKYZNSY",
        "colab_type": "code",
        "colab": {}
      },
      "source": [
        "#Trier le dataset par date croissante\n",
        "data_ordonne = data.sort_values(by='timestamp')"
      ],
      "execution_count": 0,
      "outputs": []
    },
    {
      "cell_type": "code",
      "metadata": {
        "id": "ORedyWnOZNSf",
        "colab_type": "code",
        "outputId": "4163baec-121a-49df-86b7-5483b93c48cf",
        "colab": {
          "base_uri": "https://localhost:8080/",
          "height": 34
        }
      },
      "source": [
        "#Compter les `work_item` unique \n",
        "#Que remarquez vous \n",
        "print(len(data_ordonne['work_item'].value_counts()))"
      ],
      "execution_count": 0,
      "outputs": [
        {
          "output_type": "stream",
          "text": [
            "13697\n"
          ],
          "name": "stdout"
        }
      ]
    },
    {
      "cell_type": "code",
      "metadata": {
        "id": "JRyB09eUZNSj",
        "colab_type": "code",
        "outputId": "0fd60985-7555-4893-81e8-8481483cc6ec",
        "colab": {
          "base_uri": "https://localhost:8080/",
          "height": 34
        }
      },
      "source": [
        "#Compter les tickets ouverts durant la période du 2015-01-02 au 2018-11-30 \n",
        "#Select the tickets between these two dates\n",
        "mask = (data['timestamp'] >= min_date) & (data['timestamp'] <= max_date)\n",
        "df = data.loc[mask]\n",
        "\n",
        "#Select the tickets openned between these two dates\n",
        "print(len(df[df['from_phase'].isna() == True]))\n",
        "\n",
        "df[df.from_phase.isnull()].work_item.count() #mieux car unique nan pour unique work_item"
      ],
      "execution_count": 0,
      "outputs": [
        {
          "output_type": "stream",
          "text": [
            "13697\n"
          ],
          "name": "stdout"
        }
      ]
    },
    {
      "cell_type": "code",
      "metadata": {
        "id": "-64vJeKwZNSr",
        "colab_type": "code",
        "outputId": "342d221e-3823-4440-ff41-b2d81a00e074",
        "colab": {
          "base_uri": "https://localhost:8080/",
          "height": 34
        }
      },
      "source": [
        "#Compter les tickets fermés sur cette même période \n",
        "print(len(df[df['to_phase'].isna() == True]))\n",
        "\n",
        "df[df.to_phase.isnull()].work_item.count()"
      ],
      "execution_count": 0,
      "outputs": [
        {
          "output_type": "stream",
          "text": [
            "12510\n"
          ],
          "name": "stdout"
        }
      ]
    },
    {
      "cell_type": "code",
      "metadata": {
        "id": "CvdTi_jWZNS1",
        "colab_type": "code",
        "outputId": "87026f8c-a1e9-4075-be87-98fea8b1e122",
        "colab": {
          "base_uri": "https://localhost:8080/",
          "height": 34
        }
      },
      "source": [
        "#Compter les tickets qui sont restés ouvert (les Work In Progress tickets)\n",
        "#Que pouvez vous conclure  ? \n",
        "print(len(df[df['from_phase'].isna() == True]) - len(df[df['to_phase'].isna() == True]))"
      ],
      "execution_count": 0,
      "outputs": [
        {
          "output_type": "stream",
          "text": [
            "1187\n"
          ],
          "name": "stdout"
        }
      ]
    },
    {
      "cell_type": "markdown",
      "metadata": {
        "id": "aKGGluDkZNTI",
        "colab_type": "text"
      },
      "source": [
        "### Check des \"valeurs manquantes\""
      ]
    },
    {
      "cell_type": "code",
      "metadata": {
        "id": "ER1yQ7BkZNTS",
        "colab_type": "code",
        "outputId": "ec82c66e-a38b-43c6-fed1-999e20121b89",
        "colab": {
          "base_uri": "https://localhost:8080/",
          "height": 221
        }
      },
      "source": [
        "#compter les NaN par variables  \n",
        "data.isna().sum(axis = 0)"
      ],
      "execution_count": 0,
      "outputs": [
        {
          "output_type": "execute_result",
          "data": {
            "text/plain": [
              "timestamp            0\n",
              "work_item            0\n",
              "work_type            0\n",
              "work_priority        0\n",
              "domain               0\n",
              "platform             0\n",
              "components       26297\n",
              "from_phase       13697\n",
              "to_phase         12510\n",
              "from_resource    13697\n",
              "to_resource      12510\n",
              "dtype: int64"
            ]
          },
          "metadata": {
            "tags": []
          },
          "execution_count": 12
        }
      ]
    },
    {
      "cell_type": "code",
      "metadata": {
        "id": "fecAeoV2ZNTX",
        "colab_type": "code",
        "outputId": "f2869230-a3e1-4921-c9fb-c11b4f31d30f",
        "colab": {}
      },
      "source": [
        "#Afficher une heatmap de ces valeurs \n",
        "sns.heatmap(data.isna())"
      ],
      "execution_count": 0,
      "outputs": [
        {
          "output_type": "display_data",
          "data": {
            "image/png": "[encoded data removed]",
            "text/plain": [
              "<Figure size 1152x432 with 2 Axes>"
            ]
          },
          "metadata": {
            "tags": [],
            "needs_background": "light"
          }
        }
      ]
    },
    {
      "cell_type": "markdown",
      "metadata": {
        "id": "VuPSmdjlZNTf",
        "colab_type": "text"
      },
      "source": [
        "________________________________________\n",
        "\n",
        "## Feature Engineering n°1 : Agrégation \n",
        "\n",
        "Pour cette analyse, nous ne nous intéressons qu'aux éléments de travail (tickets) entrant et sortant du processus de fin de cycle.\n",
        "\n",
        "Sachant que : \n",
        "- lorsqu'un élément de travail entre dans le process, la variable `from_phase` contient une valeur null\n",
        "- quand un élément quitte le processus, la variable `to_phase` contient une valeur null\n",
        "\n",
        "On va donc utiliser ces connaissances pour regrouper rapidement les varibales présentant un intérêt pour notre étude."
      ]
    },
    {
      "cell_type": "code",
      "metadata": {
        "id": "3LcHLUA8ZNTg",
        "colab_type": "code",
        "outputId": "c46fefb1-69ee-4dfe-bc2a-d46741375cfe",
        "colab": {
          "base_uri": "https://localhost:8080/",
          "height": 359
        }
      },
      "source": [
        "#Sélectionner un sous échantillon aléatoire de taille 10 dans le dataset  \n",
        "random_10 = data.loc[np.random.choice(df.index, 10, replace=False)]  #Pas de remise, évite répétition\n",
        "random_10.head(10)"
      ],
      "execution_count": 0,
      "outputs": [
        {
          "output_type": "execute_result",
          "data": {
            "text/html": [
              "<div>\n",
              "<style scoped>\n",
              "    .dataframe tbody tr th:only-of-type {\n",
              "        vertical-align: middle;\n",
              "    }\n",
              "\n",
              "    .dataframe tbody tr th {\n",
              "        vertical-align: top;\n",
              "    }\n",
              "\n",
              "    .dataframe thead th {\n",
              "        text-align: right;\n",
              "    }\n",
              "</style>\n",
              "<table border=\"1\" class=\"dataframe\">\n",
              "  <thead>\n",
              "    <tr style=\"text-align: right;\">\n",
              "      <th></th>\n",
              "      <th>timestamp</th>\n",
              "      <th>work_item</th>\n",
              "      <th>work_type</th>\n",
              "      <th>work_priority</th>\n",
              "      <th>domain</th>\n",
              "      <th>platform</th>\n",
              "      <th>components</th>\n",
              "      <th>from_phase</th>\n",
              "      <th>to_phase</th>\n",
              "      <th>from_resource</th>\n",
              "      <th>to_resource</th>\n",
              "    </tr>\n",
              "  </thead>\n",
              "  <tbody>\n",
              "    <tr>\n",
              "      <th>23775</th>\n",
              "      <td>2016-05-25 15:43:35</td>\n",
              "      <td>WI_003994</td>\n",
              "      <td>WT_00003</td>\n",
              "      <td>WP_00002</td>\n",
              "      <td>BD_00003</td>\n",
              "      <td>PL_00008</td>\n",
              "      <td>CO_00118</td>\n",
              "      <td>Analyze</td>\n",
              "      <td>Design</td>\n",
              "      <td>ER_00238</td>\n",
              "      <td>ER_00212</td>\n",
              "    </tr>\n",
              "    <tr>\n",
              "      <th>77784</th>\n",
              "      <td>2018-06-27 15:03:40</td>\n",
              "      <td>WI_012440</td>\n",
              "      <td>WT_00003</td>\n",
              "      <td>WP_00003</td>\n",
              "      <td>BD_00002</td>\n",
              "      <td>PL_00002</td>\n",
              "      <td>CO_00069</td>\n",
              "      <td>Package</td>\n",
              "      <td>Accept</td>\n",
              "      <td>ER_00217</td>\n",
              "      <td>ER_00217</td>\n",
              "    </tr>\n",
              "    <tr>\n",
              "      <th>43810</th>\n",
              "      <td>2017-05-04 10:10:47</td>\n",
              "      <td>WI_007241</td>\n",
              "      <td>WT_00001</td>\n",
              "      <td>WP_00004</td>\n",
              "      <td>BD_00005</td>\n",
              "      <td>PL_00005</td>\n",
              "      <td>CO_00164</td>\n",
              "      <td>Test</td>\n",
              "      <td>Package</td>\n",
              "      <td>ER_00222</td>\n",
              "      <td>ER_00222</td>\n",
              "    </tr>\n",
              "    <tr>\n",
              "      <th>2848</th>\n",
              "      <td>2015-03-09 13:42:48</td>\n",
              "      <td>WI_000559</td>\n",
              "      <td>WT_00003</td>\n",
              "      <td>WP_00001</td>\n",
              "      <td>BD_00007</td>\n",
              "      <td>PL_00007</td>\n",
              "      <td>NaN</td>\n",
              "      <td>Test</td>\n",
              "      <td>Package</td>\n",
              "      <td>ER_00198</td>\n",
              "      <td>ER_00198</td>\n",
              "    </tr>\n",
              "    <tr>\n",
              "      <th>61205</th>\n",
              "      <td>2017-11-29 16:51:53</td>\n",
              "      <td>WI_009834</td>\n",
              "      <td>WT_00003</td>\n",
              "      <td>WP_00001</td>\n",
              "      <td>BD_00008</td>\n",
              "      <td>PL_00013</td>\n",
              "      <td>NaN</td>\n",
              "      <td>Deploy</td>\n",
              "      <td>NaN</td>\n",
              "      <td>ER_00221</td>\n",
              "      <td>NaN</td>\n",
              "    </tr>\n",
              "    <tr>\n",
              "      <th>18243</th>\n",
              "      <td>2016-02-19 11:53:47</td>\n",
              "      <td>WI_002443</td>\n",
              "      <td>WT_00002</td>\n",
              "      <td>WP_00002</td>\n",
              "      <td>BD_00011</td>\n",
              "      <td>PL_00018</td>\n",
              "      <td>NaN</td>\n",
              "      <td>Design</td>\n",
              "      <td>Build</td>\n",
              "      <td>ER_00215</td>\n",
              "      <td>ER_00215</td>\n",
              "    </tr>\n",
              "    <tr>\n",
              "      <th>57600</th>\n",
              "      <td>2017-10-30 17:01:44</td>\n",
              "      <td>WI_009560</td>\n",
              "      <td>WT_00003</td>\n",
              "      <td>WP_00004</td>\n",
              "      <td>BD_00002</td>\n",
              "      <td>PL_00002</td>\n",
              "      <td>CO_00153</td>\n",
              "      <td>Analyze</td>\n",
              "      <td>Design</td>\n",
              "      <td>ER_00110</td>\n",
              "      <td>ER_00239</td>\n",
              "    </tr>\n",
              "    <tr>\n",
              "      <th>17975</th>\n",
              "      <td>2016-02-15 18:54:27</td>\n",
              "      <td>WI_003046</td>\n",
              "      <td>WT_00001</td>\n",
              "      <td>WP_00005</td>\n",
              "      <td>BD_00007</td>\n",
              "      <td>PL_00012</td>\n",
              "      <td>CO_00098</td>\n",
              "      <td>Design</td>\n",
              "      <td>Build</td>\n",
              "      <td>ER_00060</td>\n",
              "      <td>ER_00146</td>\n",
              "    </tr>\n",
              "    <tr>\n",
              "      <th>68140</th>\n",
              "      <td>2018-02-13 09:09:38</td>\n",
              "      <td>WI_010207</td>\n",
              "      <td>WT_00001</td>\n",
              "      <td>WP_00003</td>\n",
              "      <td>BD_00006</td>\n",
              "      <td>PL_00006</td>\n",
              "      <td>NaN</td>\n",
              "      <td>Deploy</td>\n",
              "      <td>Accept</td>\n",
              "      <td>ER_00108</td>\n",
              "      <td>ER_00099</td>\n",
              "    </tr>\n",
              "    <tr>\n",
              "      <th>15876</th>\n",
              "      <td>2016-01-14 15:16:06</td>\n",
              "      <td>WI_002254</td>\n",
              "      <td>WT_00001</td>\n",
              "      <td>WP_00003</td>\n",
              "      <td>BD_00004</td>\n",
              "      <td>PL_00011</td>\n",
              "      <td>NaN</td>\n",
              "      <td>Package</td>\n",
              "      <td>Accept</td>\n",
              "      <td>ER_00073</td>\n",
              "      <td>ER_00073</td>\n",
              "    </tr>\n",
              "  </tbody>\n",
              "</table>\n",
              "</div>"
            ],
            "text/plain": [
              "                timestamp  work_item work_type work_priority    domain  \\\n",
              "23775 2016-05-25 15:43:35  WI_003994  WT_00003      WP_00002  BD_00003   \n",
              "77784 2018-06-27 15:03:40  WI_012440  WT_00003      WP_00003  BD_00002   \n",
              "43810 2017-05-04 10:10:47  WI_007241  WT_00001      WP_00004  BD_00005   \n",
              "2848  2015-03-09 13:42:48  WI_000559  WT_00003      WP_00001  BD_00007   \n",
              "61205 2017-11-29 16:51:53  WI_009834  WT_00003      WP_00001  BD_00008   \n",
              "18243 2016-02-19 11:53:47  WI_002443  WT_00002      WP_00002  BD_00011   \n",
              "57600 2017-10-30 17:01:44  WI_009560  WT_00003      WP_00004  BD_00002   \n",
              "17975 2016-02-15 18:54:27  WI_003046  WT_00001      WP_00005  BD_00007   \n",
              "68140 2018-02-13 09:09:38  WI_010207  WT_00001      WP_00003  BD_00006   \n",
              "15876 2016-01-14 15:16:06  WI_002254  WT_00001      WP_00003  BD_00004   \n",
              "\n",
              "       platform components from_phase to_phase from_resource to_resource  \n",
              "23775  PL_00008   CO_00118    Analyze   Design      ER_00238    ER_00212  \n",
              "77784  PL_00002   CO_00069    Package   Accept      ER_00217    ER_00217  \n",
              "43810  PL_00005   CO_00164       Test  Package      ER_00222    ER_00222  \n",
              "2848   PL_00007        NaN       Test  Package      ER_00198    ER_00198  \n",
              "61205  PL_00013        NaN     Deploy      NaN      ER_00221         NaN  \n",
              "18243  PL_00018        NaN     Design    Build      ER_00215    ER_00215  \n",
              "57600  PL_00002   CO_00153    Analyze   Design      ER_00110    ER_00239  \n",
              "17975  PL_00012   CO_00098     Design    Build      ER_00060    ER_00146  \n",
              "68140  PL_00006        NaN     Deploy   Accept      ER_00108    ER_00099  \n",
              "15876  PL_00011        NaN    Package   Accept      ER_00073    ER_00073  "
            ]
          },
          "metadata": {
            "tags": []
          },
          "execution_count": 13
        }
      ]
    },
    {
      "cell_type": "code",
      "metadata": {
        "scrolled": true,
        "id": "huesP8lCZNTm",
        "colab_type": "code",
        "outputId": "3a02f12a-1743-4204-b886-22658a6cabbe",
        "colab": {
          "base_uri": "https://localhost:8080/",
          "height": 119
        }
      },
      "source": [
        "#Définir des filtre sur les 'NaN' qui vont servir à construire un nouveau dataset avec les entrées et sorties des tickets\n",
        "#Aider vous de la description sur le dataset et des questions précédentes\n",
        "#Que remarquez vous ? \n",
        "\n",
        "# filtre 1\n",
        "#filtre_openned = data.loc[data['from_phase'].isna() == True].index\n",
        "#print(filtre_openned.value_counts())\n",
        "print((data['from_phase'].isna() == True).value_counts())\n",
        "\n",
        "#filtre 2\n",
        "print((data['to_phase'].isna() == True).value_counts())"
      ],
      "execution_count": 0,
      "outputs": [
        {
          "output_type": "stream",
          "text": [
            "False    72097\n",
            "True     13697\n",
            "Name: from_phase, dtype: int64\n",
            "False    73284\n",
            "True     12510\n",
            "Name: to_phase, dtype: int64\n"
          ],
          "name": "stdout"
        }
      ]
    },
    {
      "cell_type": "markdown",
      "metadata": {
        "id": "iQqRKqtqZNTs",
        "colab_type": "text"
      },
      "source": [
        "### Les phases de travail \n",
        "Les différentes phases d'un 'work_item' sont des indicateurs majeurs de ce \"qu'est vraiment\" cette variable 'work_item'. Voyons donc les relations (si existante) entre les différente phases. \n",
        "\n",
        "#### Le problème des NaN \n",
        "Les variables from_phase et to_phase pausent problème car les NaN comme vous l'avez compris sont des informations importantes."
      ]
    },
    {
      "cell_type": "code",
      "metadata": {
        "id": "BIvvtkPCZNTt",
        "colab_type": "code",
        "outputId": "6e7e9131-96e5-4bc7-806a-e4fe1abe0bb3",
        "colab": {
          "base_uri": "https://localhost:8080/",
          "height": 391
        }
      },
      "source": [
        "#Remplacer les NaN des colonnes from_phase et to_phase par 'start' et 'end'\n",
        "#À votre avis pourquoi ce remplacement?  Plus clair car ces NaN sont des informations\n",
        "\n",
        "# Tickets start\n",
        "data['from_phase'].fillna('start', axis = 0, inplace = True) #index not columns to replace\n",
        "print(data['from_phase'].isna().sum())\n",
        "print(data['from_phase'].value_counts())\n",
        "\n",
        "# Tickets end\n",
        "data['to_phase'].fillna('end', axis = 0, inplace = True) \n",
        "print(data['to_phase'].isna().sum())\n",
        "print(data['to_phase'].value_counts())"
      ],
      "execution_count": 0,
      "outputs": [
        {
          "output_type": "stream",
          "text": [
            "0\n",
            "Analyze    14223\n",
            "start      13697\n",
            "Design     12763\n",
            "Build      11846\n",
            "Accept      9642\n",
            "Deploy      8405\n",
            "Test        8196\n",
            "Package     7020\n",
            "Clarify        2\n",
            "Name: from_phase, dtype: int64\n",
            "0\n",
            "Analyze    14884\n",
            "Design     12924\n",
            "end        12510\n",
            "Build      11964\n",
            "Accept      9734\n",
            "Deploy      8489\n",
            "Test        8258\n",
            "Package     7028\n",
            "Clarify        3\n",
            "Name: to_phase, dtype: int64\n"
          ],
          "name": "stdout"
        }
      ]
    },
    {
      "cell_type": "code",
      "metadata": {
        "id": "mS02tpL_ZNTz",
        "colab_type": "code",
        "outputId": "158e9ba4-83af-425b-d0cf-6e1c32e49788",
        "colab": {
          "base_uri": "https://localhost:8080/",
          "height": 391
        }
      },
      "source": [
        "#Voir les différentes valeurs possible suivants les phases (from_phase & to_phase)\n",
        "#Que remarquez vous ?  #même ordre croissant = chemin des tickets\n",
        "\n",
        "print(data['from_phase'].value_counts())\n",
        "print('\\n')\n",
        "print(data['to_phase'].value_counts())"
      ],
      "execution_count": 0,
      "outputs": [
        {
          "output_type": "stream",
          "text": [
            "Analyze    14223\n",
            "start      13697\n",
            "Design     12763\n",
            "Build      11846\n",
            "Accept      9642\n",
            "Deploy      8405\n",
            "Test        8196\n",
            "Package     7020\n",
            "Clarify        2\n",
            "Name: from_phase, dtype: int64\n",
            "\n",
            "\n",
            "Analyze    14884\n",
            "Design     12924\n",
            "end        12510\n",
            "Build      11964\n",
            "Accept      9734\n",
            "Deploy      8489\n",
            "Test        8258\n",
            "Package     7028\n",
            "Clarify        3\n",
            "Name: to_phase, dtype: int64\n"
          ],
          "name": "stdout"
        }
      ]
    },
    {
      "cell_type": "markdown",
      "metadata": {
        "id": "y0Z3dvmfZNT5",
        "colab_type": "text"
      },
      "source": [
        "#### Une phase oui ? Mais de quoi ? "
      ]
    },
    {
      "cell_type": "code",
      "metadata": {
        "id": "NCCmA0uPZNT6",
        "colab_type": "code",
        "outputId": "66159f37-3b22-41d6-dabc-009fac9daa6f",
        "colab": {
          "base_uri": "https://localhost:8080/",
          "height": 359
        }
      },
      "source": [
        "#Afficher un tableau croisé entre 'from_phase' et 'to_phase'\n",
        "#Que remarquez vous ? \n",
        "#Essayer d'intuiter un \"chemin\" pour un work_item  \n",
        "\n",
        "pd.crosstab(data.from_phase,data.to_phase) "
      ],
      "execution_count": 0,
      "outputs": [
        {
          "output_type": "execute_result",
          "data": {
            "text/html": [
              "<div>\n",
              "<style scoped>\n",
              "    .dataframe tbody tr th:only-of-type {\n",
              "        vertical-align: middle;\n",
              "    }\n",
              "\n",
              "    .dataframe tbody tr th {\n",
              "        vertical-align: top;\n",
              "    }\n",
              "\n",
              "    .dataframe thead th {\n",
              "        text-align: right;\n",
              "    }\n",
              "</style>\n",
              "<table border=\"1\" class=\"dataframe\">\n",
              "  <thead>\n",
              "    <tr style=\"text-align: right;\">\n",
              "      <th>to_phase</th>\n",
              "      <th>Accept</th>\n",
              "      <th>Analyze</th>\n",
              "      <th>Build</th>\n",
              "      <th>Clarify</th>\n",
              "      <th>Deploy</th>\n",
              "      <th>Design</th>\n",
              "      <th>Package</th>\n",
              "      <th>Test</th>\n",
              "      <th>end</th>\n",
              "    </tr>\n",
              "    <tr>\n",
              "      <th>from_phase</th>\n",
              "      <th></th>\n",
              "      <th></th>\n",
              "      <th></th>\n",
              "      <th></th>\n",
              "      <th></th>\n",
              "      <th></th>\n",
              "      <th></th>\n",
              "      <th></th>\n",
              "      <th></th>\n",
              "    </tr>\n",
              "  </thead>\n",
              "  <tbody>\n",
              "    <tr>\n",
              "      <th>Accept</th>\n",
              "      <td>0</td>\n",
              "      <td>0</td>\n",
              "      <td>0</td>\n",
              "      <td>0</td>\n",
              "      <td>7872</td>\n",
              "      <td>0</td>\n",
              "      <td>0</td>\n",
              "      <td>1770</td>\n",
              "      <td>0</td>\n",
              "    </tr>\n",
              "    <tr>\n",
              "      <th>Analyze</th>\n",
              "      <td>0</td>\n",
              "      <td>224</td>\n",
              "      <td>12</td>\n",
              "      <td>3</td>\n",
              "      <td>0</td>\n",
              "      <td>11936</td>\n",
              "      <td>0</td>\n",
              "      <td>0</td>\n",
              "      <td>2048</td>\n",
              "    </tr>\n",
              "    <tr>\n",
              "      <th>Build</th>\n",
              "      <td>3761</td>\n",
              "      <td>2</td>\n",
              "      <td>0</td>\n",
              "      <td>0</td>\n",
              "      <td>0</td>\n",
              "      <td>925</td>\n",
              "      <td>0</td>\n",
              "      <td>6367</td>\n",
              "      <td>791</td>\n",
              "    </tr>\n",
              "    <tr>\n",
              "      <th>Clarify</th>\n",
              "      <td>0</td>\n",
              "      <td>2</td>\n",
              "      <td>0</td>\n",
              "      <td>0</td>\n",
              "      <td>0</td>\n",
              "      <td>0</td>\n",
              "      <td>0</td>\n",
              "      <td>0</td>\n",
              "      <td>0</td>\n",
              "    </tr>\n",
              "    <tr>\n",
              "      <th>Deploy</th>\n",
              "      <td>196</td>\n",
              "      <td>0</td>\n",
              "      <td>0</td>\n",
              "      <td>0</td>\n",
              "      <td>0</td>\n",
              "      <td>0</td>\n",
              "      <td>0</td>\n",
              "      <td>0</td>\n",
              "      <td>8209</td>\n",
              "    </tr>\n",
              "    <tr>\n",
              "      <th>Design</th>\n",
              "      <td>0</td>\n",
              "      <td>959</td>\n",
              "      <td>10784</td>\n",
              "      <td>0</td>\n",
              "      <td>0</td>\n",
              "      <td>63</td>\n",
              "      <td>0</td>\n",
              "      <td>1</td>\n",
              "      <td>956</td>\n",
              "    </tr>\n",
              "    <tr>\n",
              "      <th>Package</th>\n",
              "      <td>5777</td>\n",
              "      <td>0</td>\n",
              "      <td>0</td>\n",
              "      <td>0</td>\n",
              "      <td>617</td>\n",
              "      <td>0</td>\n",
              "      <td>0</td>\n",
              "      <td>120</td>\n",
              "      <td>506</td>\n",
              "    </tr>\n",
              "    <tr>\n",
              "      <th>Test</th>\n",
              "      <td>0</td>\n",
              "      <td>0</td>\n",
              "      <td>1168</td>\n",
              "      <td>0</td>\n",
              "      <td>0</td>\n",
              "      <td>0</td>\n",
              "      <td>7028</td>\n",
              "      <td>0</td>\n",
              "      <td>0</td>\n",
              "    </tr>\n",
              "    <tr>\n",
              "      <th>start</th>\n",
              "      <td>0</td>\n",
              "      <td>13697</td>\n",
              "      <td>0</td>\n",
              "      <td>0</td>\n",
              "      <td>0</td>\n",
              "      <td>0</td>\n",
              "      <td>0</td>\n",
              "      <td>0</td>\n",
              "      <td>0</td>\n",
              "    </tr>\n",
              "  </tbody>\n",
              "</table>\n",
              "</div>"
            ],
            "text/plain": [
              "to_phase    Accept  Analyze  Build  Clarify  Deploy  Design  Package  Test  \\\n",
              "from_phase                                                                   \n",
              "Accept           0        0      0        0    7872       0        0  1770   \n",
              "Analyze          0      224     12        3       0   11936        0     0   \n",
              "Build         3761        2      0        0       0     925        0  6367   \n",
              "Clarify          0        2      0        0       0       0        0     0   \n",
              "Deploy         196        0      0        0       0       0        0     0   \n",
              "Design           0      959  10784        0       0      63        0     1   \n",
              "Package       5777        0      0        0     617       0        0   120   \n",
              "Test             0        0   1168        0       0       0     7028     0   \n",
              "start            0    13697      0        0       0       0        0     0   \n",
              "\n",
              "to_phase     end  \n",
              "from_phase        \n",
              "Accept         0  \n",
              "Analyze     2048  \n",
              "Build        791  \n",
              "Clarify        0  \n",
              "Deploy      8209  \n",
              "Design       956  \n",
              "Package      506  \n",
              "Test           0  \n",
              "start          0  "
            ]
          },
          "metadata": {
            "tags": []
          },
          "execution_count": 59
        }
      ]
    },
    {
      "cell_type": "markdown",
      "metadata": {
        "id": "1Gup8mF7zU2k",
        "colab_type": "text"
      },
      "source": [
        "Un work_item commence par être analysé, ensuite le service analyse demande parfois clarification ou l'envoi vers le service pertinent (autre service d'analyse, build, design, ou clos le ticket). Ensuite le work item peut soit être amené à voyager entre les services build et design, soit être clos, être réanalysé, ou être soumis au services Accept ou Test. Le service accept peut ensuite l'envoyer en Deployement ou test, et le service test peut ensuite l'envoyer vers le service Package (ou build si besoin de finalisation). Le service package pourra ensuite l'envoyer vers Accept, Deploy ou test. Le service Deploy envoi vers Accept ou cloturer le ticket.\n",
        "\n",
        "En résumé, le service analyse est le point de départ de tout les tickets. Les tickets voyagent ensuite entre les services build et design selon les besoins. Et en bout de chaine on retrouve les services Accept, le service de deployement, de test et de package.\n",
        "\n",
        "Chemin classique = suivre le mode dans chaque ligne, soit : start, analyze, design, build, test, package, accept, deploy, end"
      ]
    },
    {
      "cell_type": "markdown",
      "metadata": {
        "id": "icYTaFKAZNUC",
        "colab_type": "text"
      },
      "source": [
        "#### Et les fonctions dans tout ca ? "
      ]
    },
    {
      "cell_type": "code",
      "metadata": {
        "id": "cDHCNk5C45il",
        "colab_type": "code",
        "outputId": "2a89f415-666b-4192-eb82-868aba98d17b",
        "colab": {
          "base_uri": "https://localhost:8080/",
          "height": 235
        }
      },
      "source": [
        "#Définir une fonction qui prend un dataframe afin d'agréer les données et de savoir\n",
        "#Si le work_item est fermé \n",
        "#Le nombre de phase par lequel le work_item est passé \n",
        "#Le nombre unique de phase \n",
        "#\n",
        "#--->La fonction devra ressortir une pandas series\n",
        "\n",
        "def statut(dataframe):  \n",
        "  infos = []\n",
        "  ID = dataframe['work_item'].unique()\n",
        "\n",
        "  for work_item in ID :\n",
        "    lignes_ticket = dataframe.loc[dataframe.work_item == work_item].index #retrieve indexs of the ticket with his ID\n",
        "\n",
        "    # statut : ticket closed ?\n",
        "    if dataframe['to_phase'][lignes_ticket[-1]] == 'end' : statut = 'closed'\n",
        "    else : statut = 'in_progress'\n",
        "\n",
        "    #nbr phases\n",
        "    phases = []\n",
        "    [phases.append(dataframe['to_phase'][x]) for x in lignes_ticket[0:-1]]\n",
        "    nbr_phase = len(phases)\n",
        "    nbr_unique_phase = len(set(phases))\n",
        "\n",
        "    # Put the infos on the ticket in a list\n",
        "    liste = []\n",
        "    liste = [work_item, statut, nbr_phase, nbr_unique_phase]\n",
        "\n",
        "    # Append the liste in a list for all the tickets\n",
        "    infos.append(liste)\n",
        "\n",
        "  #Create serie from the list with all the tickets\n",
        "  closed = pd.DataFrame(infos, columns = ['ID_work_item', 'statut', 'nbr_phase', 'nbr_unique_phase']) \n",
        "  closed.set_index('ID_work_item', inplace=True, drop = True)\n",
        "  return closed\n",
        "\n",
        "closed = statut(data)\n",
        "closed.head(5)\n",
        "\n",
        "###########################################################################\n",
        "#ou sinon:\n",
        "def aggregation(x:pd.DataFrame)->pd.Series:  #force à avoir un dataframe en entrée et une séries en sortie\n",
        "    names = {\n",
        "        'was_closed': max(x['to_phase'] == 'End'),\n",
        "        'nr_of_phases': len(x),  # Not counting the start phase\n",
        "        'unique_phases': x['from_phase'].nunique()  # Not counting the end phase\n",
        "        }\n",
        "    return pd.Series(names)\n",
        "  \n",
        "df_work_item_agg = data.groupby('work_item').apply(aggregation)"
      ],
      "execution_count": 0,
      "outputs": [
        {
          "output_type": "execute_result",
          "data": {
            "text/html": [
              "<div>\n",
              "<style scoped>\n",
              "    .dataframe tbody tr th:only-of-type {\n",
              "        vertical-align: middle;\n",
              "    }\n",
              "\n",
              "    .dataframe tbody tr th {\n",
              "        vertical-align: top;\n",
              "    }\n",
              "\n",
              "    .dataframe thead th {\n",
              "        text-align: right;\n",
              "    }\n",
              "</style>\n",
              "<table border=\"1\" class=\"dataframe\">\n",
              "  <thead>\n",
              "    <tr style=\"text-align: right;\">\n",
              "      <th></th>\n",
              "      <th>statut</th>\n",
              "      <th>nbr_phase</th>\n",
              "      <th>nbr_unique_phase</th>\n",
              "    </tr>\n",
              "    <tr>\n",
              "      <th>ID_work_item</th>\n",
              "      <th></th>\n",
              "      <th></th>\n",
              "      <th></th>\n",
              "    </tr>\n",
              "  </thead>\n",
              "  <tbody>\n",
              "    <tr>\n",
              "      <th>WI_000001</th>\n",
              "      <td>closed</td>\n",
              "      <td>11</td>\n",
              "      <td>7</td>\n",
              "    </tr>\n",
              "    <tr>\n",
              "      <th>WI_000002</th>\n",
              "      <td>closed</td>\n",
              "      <td>3</td>\n",
              "      <td>3</td>\n",
              "    </tr>\n",
              "    <tr>\n",
              "      <th>WI_000003</th>\n",
              "      <td>closed</td>\n",
              "      <td>7</td>\n",
              "      <td>5</td>\n",
              "    </tr>\n",
              "    <tr>\n",
              "      <th>WI_000004</th>\n",
              "      <td>closed</td>\n",
              "      <td>7</td>\n",
              "      <td>7</td>\n",
              "    </tr>\n",
              "    <tr>\n",
              "      <th>WI_000005</th>\n",
              "      <td>closed</td>\n",
              "      <td>7</td>\n",
              "      <td>5</td>\n",
              "    </tr>\n",
              "  </tbody>\n",
              "</table>\n",
              "</div>"
            ],
            "text/plain": [
              "              statut  nbr_phase  nbr_unique_phase\n",
              "ID_work_item                                     \n",
              "WI_000001     closed         11                 7\n",
              "WI_000002     closed          3                 3\n",
              "WI_000003     closed          7                 5\n",
              "WI_000004     closed          7                 7\n",
              "WI_000005     closed          7                 5"
            ]
          },
          "metadata": {
            "tags": []
          },
          "execution_count": 21
        }
      ]
    },
    {
      "cell_type": "code",
      "metadata": {
        "id": "uW-cZh_JL6_d",
        "colab_type": "code",
        "outputId": "b52447a9-6f52-41d5-d4ca-6cdd827d41d4",
        "colab": {
          "base_uri": "https://localhost:8080/",
          "height": 68
        }
      },
      "source": [
        "closed['statut'].value_counts()"
      ],
      "execution_count": 0,
      "outputs": [
        {
          "output_type": "execute_result",
          "data": {
            "text/plain": [
              "closed         12510\n",
              "in_progress     1187\n",
              "Name: statut, dtype: int64"
            ]
          },
          "metadata": {
            "tags": []
          },
          "execution_count": 22
        }
      ]
    },
    {
      "cell_type": "code",
      "metadata": {
        "id": "hXDX-gkUZNUI",
        "colab_type": "code",
        "outputId": "8f7c686c-551a-4269-cf7f-b29b0138fb99",
        "colab": {
          "base_uri": "https://localhost:8080/",
          "height": 235
        }
      },
      "source": [
        "#Grouper vos données afin d'appliquer la fonction \n",
        "closed.head(5)"
      ],
      "execution_count": 0,
      "outputs": [
        {
          "output_type": "execute_result",
          "data": {
            "text/html": [
              "<div>\n",
              "<style scoped>\n",
              "    .dataframe tbody tr th:only-of-type {\n",
              "        vertical-align: middle;\n",
              "    }\n",
              "\n",
              "    .dataframe tbody tr th {\n",
              "        vertical-align: top;\n",
              "    }\n",
              "\n",
              "    .dataframe thead th {\n",
              "        text-align: right;\n",
              "    }\n",
              "</style>\n",
              "<table border=\"1\" class=\"dataframe\">\n",
              "  <thead>\n",
              "    <tr style=\"text-align: right;\">\n",
              "      <th></th>\n",
              "      <th>statut</th>\n",
              "      <th>nbr_phase</th>\n",
              "      <th>nbr_unique_phase</th>\n",
              "    </tr>\n",
              "    <tr>\n",
              "      <th>ID_work_item</th>\n",
              "      <th></th>\n",
              "      <th></th>\n",
              "      <th></th>\n",
              "    </tr>\n",
              "  </thead>\n",
              "  <tbody>\n",
              "    <tr>\n",
              "      <th>WI_000001</th>\n",
              "      <td>closed</td>\n",
              "      <td>11</td>\n",
              "      <td>7</td>\n",
              "    </tr>\n",
              "    <tr>\n",
              "      <th>WI_000002</th>\n",
              "      <td>closed</td>\n",
              "      <td>3</td>\n",
              "      <td>3</td>\n",
              "    </tr>\n",
              "    <tr>\n",
              "      <th>WI_000003</th>\n",
              "      <td>closed</td>\n",
              "      <td>7</td>\n",
              "      <td>5</td>\n",
              "    </tr>\n",
              "    <tr>\n",
              "      <th>WI_000004</th>\n",
              "      <td>closed</td>\n",
              "      <td>7</td>\n",
              "      <td>7</td>\n",
              "    </tr>\n",
              "    <tr>\n",
              "      <th>WI_000005</th>\n",
              "      <td>closed</td>\n",
              "      <td>7</td>\n",
              "      <td>5</td>\n",
              "    </tr>\n",
              "  </tbody>\n",
              "</table>\n",
              "</div>"
            ],
            "text/plain": [
              "              statut  nbr_phase  nbr_unique_phase\n",
              "ID_work_item                                     \n",
              "WI_000001     closed         11                 7\n",
              "WI_000002     closed          3                 3\n",
              "WI_000003     closed          7                 5\n",
              "WI_000004     closed          7                 7\n",
              "WI_000005     closed          7                 5"
            ]
          },
          "metadata": {
            "tags": []
          },
          "execution_count": 23
        }
      ]
    },
    {
      "cell_type": "code",
      "metadata": {
        "id": "oXyMps4uRMDr",
        "colab_type": "code",
        "outputId": "c1818f21-f97c-4ff0-d574-5807ca58a2d9",
        "colab": {
          "base_uri": "https://localhost:8080/",
          "height": 476
        }
      },
      "source": [
        "print(data[data.work_item == 'WI_000001'])"
      ],
      "execution_count": 0,
      "outputs": [
        {
          "output_type": "stream",
          "text": [
            "              timestamp  work_item work_type work_priority    domain  \\\n",
            "0   2015-01-02 14:39:14  WI_000001  WT_00001      WP_00003  BD_00001   \n",
            "24  2015-01-05 11:48:08  WI_000001  WT_00001      WP_00003  BD_00001   \n",
            "29  2015-01-05 12:35:59  WI_000001  WT_00001      WP_00003  BD_00001   \n",
            "140 2015-01-07 11:04:51  WI_000001  WT_00001      WP_00003  BD_00001   \n",
            "145 2015-01-07 14:04:44  WI_000001  WT_00001      WP_00003  BD_00001   \n",
            "146 2015-01-07 14:07:56  WI_000001  WT_00001      WP_00003  BD_00001   \n",
            "149 2015-01-07 14:37:35  WI_000001  WT_00001      WP_00003  BD_00001   \n",
            "333 2015-01-13 10:25:36  WI_000001  WT_00001      WP_00003  BD_00001   \n",
            "473 2015-01-15 11:04:02  WI_000001  WT_00001      WP_00003  BD_00001   \n",
            "591 2015-01-19 08:54:54  WI_000001  WT_00001      WP_00003  BD_00001   \n",
            "633 2015-01-20 11:11:48  WI_000001  WT_00001      WP_00003  BD_00001   \n",
            "858 2015-01-27 11:36:51  WI_000001  WT_00001      WP_00003  BD_00001   \n",
            "\n",
            "     platform components from_phase to_phase from_resource to_resource  \n",
            "0    PL_00001        NaN      start  Analyze           NaN    ER_00043  \n",
            "24   PL_00001        NaN    Analyze   Design      ER_00043    ER_00149  \n",
            "29   PL_00001        NaN     Design  Analyze      ER_00149    ER_00149  \n",
            "140  PL_00001        NaN    Analyze   Design      ER_00149    ER_00043  \n",
            "145  PL_00001        NaN     Design  Analyze      ER_00043    ER_00149  \n",
            "146  PL_00001        NaN    Analyze   Design      ER_00149    ER_00043  \n",
            "149  PL_00001        NaN     Design    Build      ER_00043    ER_00149  \n",
            "333  PL_00001        NaN      Build     Test      ER_00149    ER_00058  \n",
            "473  PL_00001        NaN       Test  Package      ER_00058    ER_00149  \n",
            "591  PL_00001        NaN    Package   Accept      ER_00149    ER_00149  \n",
            "633  PL_00001        NaN     Accept   Deploy      ER_00149    ER_00043  \n",
            "858  PL_00001        NaN     Deploy      end      ER_00043         NaN  \n"
          ],
          "name": "stdout"
        }
      ]
    },
    {
      "cell_type": "markdown",
      "metadata": {
        "id": "n4-m5MhUZNUN",
        "colab_type": "text"
      },
      "source": [
        "## Nos filtres dans tout ça   \n",
        "On voudrait savoirmaintenant pour chaque work_item le temps associé à sa résolution, on va pour cela **construire un nouveau dataset avec seulement les données qui sont pertinentes.**"
      ]
    },
    {
      "cell_type": "code",
      "metadata": {
        "id": "rzP4tR_UZNUP",
        "colab_type": "code",
        "outputId": "83dd893e-2711-4219-c412-c48c4644f7b0",
        "colab": {
          "base_uri": "https://localhost:8080/",
          "height": 111
        }
      },
      "source": [
        "#Définir une liste de variables à utiliser pour notre problème\n",
        "subset_data = data[['work_item', 'timestamp']]\n",
        "subset_data.head(2)"
      ],
      "execution_count": 0,
      "outputs": [
        {
          "output_type": "execute_result",
          "data": {
            "text/html": [
              "<div>\n",
              "<style scoped>\n",
              "    .dataframe tbody tr th:only-of-type {\n",
              "        vertical-align: middle;\n",
              "    }\n",
              "\n",
              "    .dataframe tbody tr th {\n",
              "        vertical-align: top;\n",
              "    }\n",
              "\n",
              "    .dataframe thead th {\n",
              "        text-align: right;\n",
              "    }\n",
              "</style>\n",
              "<table border=\"1\" class=\"dataframe\">\n",
              "  <thead>\n",
              "    <tr style=\"text-align: right;\">\n",
              "      <th></th>\n",
              "      <th>work_item</th>\n",
              "      <th>timestamp</th>\n",
              "    </tr>\n",
              "  </thead>\n",
              "  <tbody>\n",
              "    <tr>\n",
              "      <th>0</th>\n",
              "      <td>WI_000001</td>\n",
              "      <td>2015-01-02 14:39:14</td>\n",
              "    </tr>\n",
              "    <tr>\n",
              "      <th>1</th>\n",
              "      <td>WI_000002</td>\n",
              "      <td>2015-01-02 15:04:20</td>\n",
              "    </tr>\n",
              "  </tbody>\n",
              "</table>\n",
              "</div>"
            ],
            "text/plain": [
              "   work_item           timestamp\n",
              "0  WI_000001 2015-01-02 14:39:14\n",
              "1  WI_000002 2015-01-02 15:04:20"
            ]
          },
          "metadata": {
            "tags": []
          },
          "execution_count": 39
        }
      ]
    },
    {
      "cell_type": "code",
      "metadata": {
        "id": "2ERRxQ_uZNUS",
        "colab_type": "code",
        "outputId": "4c3a13e5-da07-473b-8102-cfe17078e40a",
        "colab": {
          "base_uri": "https://localhost:8080/",
          "height": 221
        }
      },
      "source": [
        "#Appliquer un filtre ci-dessus sur les variables choisis (variables ci-dessus) du dataset et afficher les 5 premières lignes\n",
        "\n",
        "#List of index of the tickets closed\n",
        "select_ID =closed[closed['statut'] == 'closed'].index.tolist() \n",
        "#select_ID = closed.index.where(closed[\"statut\"] == 'closed').tolist() # Même chose\n",
        "\n",
        "filtred_subset_data = subset_data.loc[subset_data['work_item'].isin(select_ID)]\n",
        "\n",
        "print(len(filtred_subset_data['work_item'].unique()))\n",
        "filtred_subset_data.head(5)\n",
        "\n",
        "#Autre méthode si on avait travaillé avec les index de nos lignes\n",
        "#filtred_subset_data = subset_data.loc[list_of_index, :] # les : indiquent que l'on prend toutes les colonnes"
      ],
      "execution_count": 0,
      "outputs": [
        {
          "output_type": "stream",
          "text": [
            "12510\n"
          ],
          "name": "stdout"
        },
        {
          "output_type": "execute_result",
          "data": {
            "text/html": [
              "<div>\n",
              "<style scoped>\n",
              "    .dataframe tbody tr th:only-of-type {\n",
              "        vertical-align: middle;\n",
              "    }\n",
              "\n",
              "    .dataframe tbody tr th {\n",
              "        vertical-align: top;\n",
              "    }\n",
              "\n",
              "    .dataframe thead th {\n",
              "        text-align: right;\n",
              "    }\n",
              "</style>\n",
              "<table border=\"1\" class=\"dataframe\">\n",
              "  <thead>\n",
              "    <tr style=\"text-align: right;\">\n",
              "      <th></th>\n",
              "      <th>work_item</th>\n",
              "      <th>timestamp</th>\n",
              "    </tr>\n",
              "  </thead>\n",
              "  <tbody>\n",
              "    <tr>\n",
              "      <th>0</th>\n",
              "      <td>WI_000001</td>\n",
              "      <td>2015-01-02 14:39:14</td>\n",
              "    </tr>\n",
              "    <tr>\n",
              "      <th>1</th>\n",
              "      <td>WI_000002</td>\n",
              "      <td>2015-01-02 15:04:20</td>\n",
              "    </tr>\n",
              "    <tr>\n",
              "      <th>2</th>\n",
              "      <td>WI_000003</td>\n",
              "      <td>2015-01-02 15:28:22</td>\n",
              "    </tr>\n",
              "    <tr>\n",
              "      <th>3</th>\n",
              "      <td>WI_000004</td>\n",
              "      <td>2015-01-02 15:33:54</td>\n",
              "    </tr>\n",
              "    <tr>\n",
              "      <th>4</th>\n",
              "      <td>WI_000005</td>\n",
              "      <td>2015-01-02 16:32:11</td>\n",
              "    </tr>\n",
              "  </tbody>\n",
              "</table>\n",
              "</div>"
            ],
            "text/plain": [
              "   work_item           timestamp\n",
              "0  WI_000001 2015-01-02 14:39:14\n",
              "1  WI_000002 2015-01-02 15:04:20\n",
              "2  WI_000003 2015-01-02 15:28:22\n",
              "3  WI_000004 2015-01-02 15:33:54\n",
              "4  WI_000005 2015-01-02 16:32:11"
            ]
          },
          "metadata": {
            "tags": []
          },
          "execution_count": 44
        }
      ]
    },
    {
      "cell_type": "code",
      "metadata": {
        "id": "SdIe46gnYEcy",
        "colab_type": "code",
        "outputId": "3f7d6411-bfdf-41ae-f9ba-bb000b3febef",
        "colab": {
          "base_uri": "https://localhost:8080/",
          "height": 34
        }
      },
      "source": [
        "#Construire un nouveau dataframe à partir des attribut et des filtres ci-dessus\n",
        "#Vous l'avez sans doute compris \n",
        "#le nouveau dataframe regroupe les entrées et sorties des tickets par work_item\n",
        "\n",
        "new_dataset = data.loc[data['from_phase'].isin(['start']) | data['to_phase'].isin(['end'])] #On garde que les lignes avec start ou end\n",
        " \n",
        "ID = new_dataset['work_item'].unique() #ID de nos tickets\n",
        "infos = []\n",
        "  \n",
        "for work_item in ID :\n",
        "  lignes_ticket = new_dataset.loc[new_dataset.work_item == work_item].index #retrieve indexs of the ticket with his ID\n",
        "   \n",
        "  for x in lignes_ticket:\n",
        "    exit_time = 'no_exit' #for the tickets still in processing\n",
        "    if new_dataset['from_phase'][x] == 'start' : entry_time = new_dataset.timestamp[x]\n",
        "    elif new_dataset['to_phase'][x] == 'end' : exit_time = new_dataset.timestamp[x]  \n",
        "  \n",
        "  # Put the infos on the ticket in a list\n",
        "  liste = []\n",
        "  liste = [work_item, entry_time, exit_time]\n",
        "\n",
        "  # Append the liste in a list for all the tickets\n",
        "  infos.append(liste)\n",
        "\n",
        "#Create serie from the list with the tickets IDs and their time infos\n",
        "data_time = pd.DataFrame(infos, columns = ['work_item', 'entry_time', 'exit_time']) \n",
        "\n",
        "print('Le dataset à donc {} lignes' .format(len(data_time)))\n",
        "#data_time.resetindex(drop = True)\n",
        "\n",
        "#####################################################################################################\n",
        "# ou faisable avec un merge"
      ],
      "execution_count": 0,
      "outputs": [
        {
          "output_type": "stream",
          "text": [
            "Le dataset à donc 13697 lignes\n"
          ],
          "name": "stdout"
        }
      ]
    },
    {
      "cell_type": "code",
      "metadata": {
        "id": "XYR_hLpWfa0j",
        "colab_type": "code",
        "outputId": "5a1345ae-839b-4a56-fc97-4c672233e614",
        "colab": {
          "base_uri": "https://localhost:8080/",
          "height": 204
        }
      },
      "source": [
        "data_time.head(5)"
      ],
      "execution_count": 0,
      "outputs": [
        {
          "output_type": "execute_result",
          "data": {
            "text/html": [
              "<div>\n",
              "<style scoped>\n",
              "    .dataframe tbody tr th:only-of-type {\n",
              "        vertical-align: middle;\n",
              "    }\n",
              "\n",
              "    .dataframe tbody tr th {\n",
              "        vertical-align: top;\n",
              "    }\n",
              "\n",
              "    .dataframe thead th {\n",
              "        text-align: right;\n",
              "    }\n",
              "</style>\n",
              "<table border=\"1\" class=\"dataframe\">\n",
              "  <thead>\n",
              "    <tr style=\"text-align: right;\">\n",
              "      <th></th>\n",
              "      <th>work_item</th>\n",
              "      <th>entry_time</th>\n",
              "      <th>exit_time</th>\n",
              "    </tr>\n",
              "  </thead>\n",
              "  <tbody>\n",
              "    <tr>\n",
              "      <th>0</th>\n",
              "      <td>WI_000001</td>\n",
              "      <td>2015-01-02 14:39:14</td>\n",
              "      <td>2015-01-27 11:36:51</td>\n",
              "    </tr>\n",
              "    <tr>\n",
              "      <th>1</th>\n",
              "      <td>WI_000002</td>\n",
              "      <td>2015-01-02 15:04:20</td>\n",
              "      <td>2015-01-14 09:46:37</td>\n",
              "    </tr>\n",
              "    <tr>\n",
              "      <th>2</th>\n",
              "      <td>WI_000003</td>\n",
              "      <td>2015-01-02 15:28:22</td>\n",
              "      <td>2015-02-26 11:50:37</td>\n",
              "    </tr>\n",
              "    <tr>\n",
              "      <th>3</th>\n",
              "      <td>WI_000004</td>\n",
              "      <td>2015-01-02 15:33:54</td>\n",
              "      <td>2015-01-28 09:11:05</td>\n",
              "    </tr>\n",
              "    <tr>\n",
              "      <th>4</th>\n",
              "      <td>WI_000005</td>\n",
              "      <td>2015-01-02 16:32:11</td>\n",
              "      <td>2015-02-04 12:57:49</td>\n",
              "    </tr>\n",
              "  </tbody>\n",
              "</table>\n",
              "</div>"
            ],
            "text/plain": [
              "   work_item          entry_time            exit_time\n",
              "0  WI_000001 2015-01-02 14:39:14  2015-01-27 11:36:51\n",
              "1  WI_000002 2015-01-02 15:04:20  2015-01-14 09:46:37\n",
              "2  WI_000003 2015-01-02 15:28:22  2015-02-26 11:50:37\n",
              "3  WI_000004 2015-01-02 15:33:54  2015-01-28 09:11:05\n",
              "4  WI_000005 2015-01-02 16:32:11  2015-02-04 12:57:49"
            ]
          },
          "metadata": {
            "tags": []
          },
          "execution_count": 84
        }
      ]
    },
    {
      "cell_type": "code",
      "metadata": {
        "id": "LXUUAX82ZNUf",
        "colab_type": "code",
        "outputId": "b344773c-6ddf-47e5-e63c-b96504d290fe",
        "colab": {
          "base_uri": "https://localhost:8080/",
          "height": 204
        }
      },
      "source": [
        "#Créer un nouvelle varibale dans votre dataframe \n",
        "#cette variable indiquera le nombre de jour de l'entrée et la sortie du ticket \n",
        "#créer ensuite une variable qui indique la durée en jours et en jours h min sec\n",
        "\n",
        "liste = []\n",
        "[liste.append(data_time['exit_time'][x] - data_time['entry_time'][x]) if data_time['exit_time'][x]!= 'no_exit' else liste.append(np.nan) for x in data_time.index]\n",
        "data_time['duration'] = liste\n",
        "\n",
        "liste = []\n",
        "[liste.append(round(data_time['duration'][x].days + (data_time['duration'][x].seconds/60/60/24), 2)) for x in data_time.index]\n",
        "data_time['duration_in_days'] = liste\n",
        "\n",
        "\n",
        "data_time.head(5)"
      ],
      "execution_count": 0,
      "outputs": [
        {
          "output_type": "execute_result",
          "data": {
            "text/html": [
              "<div>\n",
              "<style scoped>\n",
              "    .dataframe tbody tr th:only-of-type {\n",
              "        vertical-align: middle;\n",
              "    }\n",
              "\n",
              "    .dataframe tbody tr th {\n",
              "        vertical-align: top;\n",
              "    }\n",
              "\n",
              "    .dataframe thead th {\n",
              "        text-align: right;\n",
              "    }\n",
              "</style>\n",
              "<table border=\"1\" class=\"dataframe\">\n",
              "  <thead>\n",
              "    <tr style=\"text-align: right;\">\n",
              "      <th></th>\n",
              "      <th>work_item</th>\n",
              "      <th>entry_time</th>\n",
              "      <th>exit_time</th>\n",
              "      <th>duration</th>\n",
              "      <th>duration_in_days</th>\n",
              "    </tr>\n",
              "  </thead>\n",
              "  <tbody>\n",
              "    <tr>\n",
              "      <th>0</th>\n",
              "      <td>WI_000001</td>\n",
              "      <td>2015-01-02 14:39:14</td>\n",
              "      <td>2015-01-27 11:36:51</td>\n",
              "      <td>24 days 20:57:37</td>\n",
              "      <td>24.87</td>\n",
              "    </tr>\n",
              "    <tr>\n",
              "      <th>1</th>\n",
              "      <td>WI_000002</td>\n",
              "      <td>2015-01-02 15:04:20</td>\n",
              "      <td>2015-01-14 09:46:37</td>\n",
              "      <td>11 days 18:42:17</td>\n",
              "      <td>11.78</td>\n",
              "    </tr>\n",
              "    <tr>\n",
              "      <th>2</th>\n",
              "      <td>WI_000003</td>\n",
              "      <td>2015-01-02 15:28:22</td>\n",
              "      <td>2015-02-26 11:50:37</td>\n",
              "      <td>54 days 20:22:15</td>\n",
              "      <td>54.85</td>\n",
              "    </tr>\n",
              "    <tr>\n",
              "      <th>3</th>\n",
              "      <td>WI_000004</td>\n",
              "      <td>2015-01-02 15:33:54</td>\n",
              "      <td>2015-01-28 09:11:05</td>\n",
              "      <td>25 days 17:37:11</td>\n",
              "      <td>25.73</td>\n",
              "    </tr>\n",
              "    <tr>\n",
              "      <th>4</th>\n",
              "      <td>WI_000005</td>\n",
              "      <td>2015-01-02 16:32:11</td>\n",
              "      <td>2015-02-04 12:57:49</td>\n",
              "      <td>32 days 20:25:38</td>\n",
              "      <td>32.85</td>\n",
              "    </tr>\n",
              "  </tbody>\n",
              "</table>\n",
              "</div>"
            ],
            "text/plain": [
              "   work_item          entry_time            exit_time         duration  \\\n",
              "0  WI_000001 2015-01-02 14:39:14  2015-01-27 11:36:51 24 days 20:57:37   \n",
              "1  WI_000002 2015-01-02 15:04:20  2015-01-14 09:46:37 11 days 18:42:17   \n",
              "2  WI_000003 2015-01-02 15:28:22  2015-02-26 11:50:37 54 days 20:22:15   \n",
              "3  WI_000004 2015-01-02 15:33:54  2015-01-28 09:11:05 25 days 17:37:11   \n",
              "4  WI_000005 2015-01-02 16:32:11  2015-02-04 12:57:49 32 days 20:25:38   \n",
              "\n",
              "   duration_in_days  \n",
              "0             24.87  \n",
              "1             11.78  \n",
              "2             54.85  \n",
              "3             25.73  \n",
              "4             32.85  "
            ]
          },
          "metadata": {
            "tags": []
          },
          "execution_count": 91
        }
      ]
    },
    {
      "cell_type": "markdown",
      "metadata": {
        "id": "rIq9mpb2ZNUi",
        "colab_type": "text"
      },
      "source": [
        "### Focus sur le temps de résolution d'un ticket \n",
        "Examinons de plus près le délai total des différents éléments de travail, c'est-à-dire **le temps qui s'écoule entre la création et la fermeture d'un ticket.**"
      ]
    },
    {
      "cell_type": "code",
      "metadata": {
        "id": "Rfce2yK9ZNUj",
        "colab_type": "code",
        "outputId": "30bf9501-2944-4955-80a2-206bf74b5f0f",
        "colab": {
          "base_uri": "https://localhost:8080/",
          "height": 170
        }
      },
      "source": [
        "#Afficher les stat descriptive de la variable 'duration'\n",
        "#Que remarquez vous ? \n",
        "data_time['duration'].describe()"
      ],
      "execution_count": 0,
      "outputs": [
        {
          "output_type": "execute_result",
          "data": {
            "text/plain": [
              "count                       12510\n",
              "mean      62 days 21:32:47.226618\n",
              "std      116 days 15:42:38.288169\n",
              "min               0 days 00:00:04\n",
              "25%        4 days 23:01:04.250000\n",
              "50%       20 days 02:48:47.500000\n",
              "75%              67 days 23:54:53\n",
              "max            1281 days 14:43:19\n",
              "Name: duration, dtype: object"
            ]
          },
          "metadata": {
            "tags": []
          },
          "execution_count": 92
        }
      ]
    },
    {
      "cell_type": "code",
      "metadata": {
        "id": "zDjS2cf6ZNUr",
        "colab_type": "code",
        "outputId": "8577c7b5-898d-4069-ff4e-0561fae7fdaa",
        "colab": {
          "base_uri": "https://localhost:8080/",
          "height": 402
        }
      },
      "source": [
        "#Afficher une boite à moustache sur votre nouvelle variable 'duration_in_days' \n",
        "#Que remarquez vous ? \n",
        "\n",
        "sns.set(style=\"whitegrid\", rc={'figure.figsize':(15,8)})\n",
        "#ax = sns.boxenplot(x=data_time[\"duration_in_days\"], linewidth=0)\n",
        "\n",
        "#from matplotlib import rcParams\n",
        "#rcParams['figure.figsize'] = 15,15\n",
        "\n",
        "ax = sns.catplot(x = \"duration_in_days\", kind = 'boxen', data = data_time, palette='bright')\n",
        "#plt.rc('figure', figsize=(15,5))\n",
        "plt.show()"
      ],
      "execution_count": 0,
      "outputs": [
        {
          "output_type": "stream",
          "text": [
            "'c' argument looks like a single numeric RGB or RGBA sequence, which should be avoided as value-mapping will have precedence in case its length matches with 'x' & 'y'.  Please use a 2-D array with a single row if you really want to specify the same RGB or RGBA value for all points.\n"
          ],
          "name": "stderr"
        },
        {
          "output_type": "display_data",
          "data": {
            "image/png": "[encoded data removed]",
            "text/plain": [
              "<Figure size 360x360 with 1 Axes>"
            ]
          },
          "metadata": {
            "tags": []
          }
        }
      ]
    },
    {
      "cell_type": "code",
      "metadata": {
        "id": "hb7T69WYZNUx",
        "colab_type": "code",
        "outputId": "e078d507-9fec-423e-a7cb-e0edbe6f3f6b",
        "colab": {
          "base_uri": "https://localhost:8080/",
          "height": 525
        }
      },
      "source": [
        "#Afficher un histogramme de cette durée afin de mieux voir les \"valeurs aberrantes\"\n",
        "x = data_time[\"duration_in_days\"].loc[data_time['exit_time']!= 'no_exit']\n",
        "sns.set(style=\"whitegrid\", palette = 'bright')\n",
        "sns.distplot(x, kde=False, rug=False)"
      ],
      "execution_count": 0,
      "outputs": [
        {
          "output_type": "execute_result",
          "data": {
            "text/plain": [
              "<matplotlib.axes._subplots.AxesSubplot at 0x7f84bb8f3cf8>"
            ]
          },
          "metadata": {
            "tags": []
          },
          "execution_count": 129
        },
        {
          "output_type": "display_data",
          "data": {
            "image/png": "[encoded data removed]",
            "text/plain": [
              "<Figure size 1080x576 with 1 Axes>"
            ]
          },
          "metadata": {
            "tags": []
          }
        }
      ]
    },
    {
      "cell_type": "code",
      "metadata": {
        "id": "bCWxGUowZNU2",
        "colab_type": "code",
        "outputId": "71e0c509-b357-4b3e-d154-d119c5f936a0",
        "colab": {
          "base_uri": "https://localhost:8080/",
          "height": 221
        }
      },
      "source": [
        "#Filtrer maintenant uniquement les ticket dont la durée est <700 jours \n",
        "data_inf_700days = data_time.loc[data_time['duration_in_days']< 700]\n",
        "print(len(data_inf_700days))\n",
        "data_inf_700days.head(5)"
      ],
      "execution_count": 0,
      "outputs": [
        {
          "output_type": "stream",
          "text": [
            "12425\n"
          ],
          "name": "stdout"
        },
        {
          "output_type": "execute_result",
          "data": {
            "text/html": [
              "<div>\n",
              "<style scoped>\n",
              "    .dataframe tbody tr th:only-of-type {\n",
              "        vertical-align: middle;\n",
              "    }\n",
              "\n",
              "    .dataframe tbody tr th {\n",
              "        vertical-align: top;\n",
              "    }\n",
              "\n",
              "    .dataframe thead th {\n",
              "        text-align: right;\n",
              "    }\n",
              "</style>\n",
              "<table border=\"1\" class=\"dataframe\">\n",
              "  <thead>\n",
              "    <tr style=\"text-align: right;\">\n",
              "      <th></th>\n",
              "      <th>work_item</th>\n",
              "      <th>entry_time</th>\n",
              "      <th>exit_time</th>\n",
              "      <th>duration</th>\n",
              "      <th>duration_in_days</th>\n",
              "    </tr>\n",
              "  </thead>\n",
              "  <tbody>\n",
              "    <tr>\n",
              "      <th>0</th>\n",
              "      <td>WI_000001</td>\n",
              "      <td>2015-01-02 14:39:14</td>\n",
              "      <td>2015-01-27 11:36:51</td>\n",
              "      <td>24 days 20:57:37</td>\n",
              "      <td>24.87</td>\n",
              "    </tr>\n",
              "    <tr>\n",
              "      <th>1</th>\n",
              "      <td>WI_000002</td>\n",
              "      <td>2015-01-02 15:04:20</td>\n",
              "      <td>2015-01-14 09:46:37</td>\n",
              "      <td>11 days 18:42:17</td>\n",
              "      <td>11.78</td>\n",
              "    </tr>\n",
              "    <tr>\n",
              "      <th>2</th>\n",
              "      <td>WI_000003</td>\n",
              "      <td>2015-01-02 15:28:22</td>\n",
              "      <td>2015-02-26 11:50:37</td>\n",
              "      <td>54 days 20:22:15</td>\n",
              "      <td>54.85</td>\n",
              "    </tr>\n",
              "    <tr>\n",
              "      <th>3</th>\n",
              "      <td>WI_000004</td>\n",
              "      <td>2015-01-02 15:33:54</td>\n",
              "      <td>2015-01-28 09:11:05</td>\n",
              "      <td>25 days 17:37:11</td>\n",
              "      <td>25.73</td>\n",
              "    </tr>\n",
              "    <tr>\n",
              "      <th>4</th>\n",
              "      <td>WI_000005</td>\n",
              "      <td>2015-01-02 16:32:11</td>\n",
              "      <td>2015-02-04 12:57:49</td>\n",
              "      <td>32 days 20:25:38</td>\n",
              "      <td>32.85</td>\n",
              "    </tr>\n",
              "  </tbody>\n",
              "</table>\n",
              "</div>"
            ],
            "text/plain": [
              "   work_item          entry_time            exit_time         duration  \\\n",
              "0  WI_000001 2015-01-02 14:39:14  2015-01-27 11:36:51 24 days 20:57:37   \n",
              "1  WI_000002 2015-01-02 15:04:20  2015-01-14 09:46:37 11 days 18:42:17   \n",
              "2  WI_000003 2015-01-02 15:28:22  2015-02-26 11:50:37 54 days 20:22:15   \n",
              "3  WI_000004 2015-01-02 15:33:54  2015-01-28 09:11:05 25 days 17:37:11   \n",
              "4  WI_000005 2015-01-02 16:32:11  2015-02-04 12:57:49 32 days 20:25:38   \n",
              "\n",
              "   duration_in_days  \n",
              "0             24.87  \n",
              "1             11.78  \n",
              "2             54.85  \n",
              "3             25.73  \n",
              "4             32.85  "
            ]
          },
          "metadata": {
            "tags": []
          },
          "execution_count": 132
        }
      ]
    },
    {
      "cell_type": "code",
      "metadata": {
        "id": "1y8QyOWXZNVA",
        "colab_type": "code",
        "outputId": "2c402c82-1002-4747-fe4f-410dc8f01af6",
        "colab": {
          "base_uri": "https://localhost:8080/",
          "height": 51
        }
      },
      "source": [
        "#Quelle est la répartition de ces derniers par rapports au total ? \n",
        "nbr_ticket = len(data_inf_700days) #12425\n",
        "pourcentage = round((len(data_inf_700days) / len(data_time)) * 100, 3) #90.713%\n",
        "\n",
        "print('Il y a {}% de ticket dont la durée est < à 700jours,'.format(pourcentage))\n",
        "print('Soit {} tickets'.format(nbr_ticket))"
      ],
      "execution_count": 0,
      "outputs": [
        {
          "output_type": "stream",
          "text": [
            "Il y a 90.713% de ticket dont la durée est < à 700jours,\n",
            "Soit 12425 tickets\n"
          ],
          "name": "stdout"
        }
      ]
    },
    {
      "cell_type": "code",
      "metadata": {
        "id": "6NXC-qVbZNVO",
        "colab_type": "code",
        "outputId": "c9bb2481-182a-4177-fba3-604c0df522ef",
        "colab": {
          "base_uri": "https://localhost:8080/",
          "height": 34
        }
      },
      "source": [
        "#Compter le nombre de jours pour gérer les 10 premiers `work_item`\n",
        "nbr_10eritems = int(data_inf_700days['duration_in_days'][0:10].sum())\n",
        "print('{} days of work pour les 10 premiers work_item'.format(nbr_10eritems)) #259"
      ],
      "execution_count": 0,
      "outputs": [
        {
          "output_type": "stream",
          "text": [
            "259 days of work pour les 10 premiers work_item\n"
          ],
          "name": "stdout"
        }
      ]
    },
    {
      "cell_type": "markdown",
      "metadata": {
        "id": "u5_8OQNPZNVe",
        "colab_type": "text"
      },
      "source": [
        "____________________________________________\n",
        "\n",
        "## Feature Engineering n°2 : Agrégation (suite)\n",
        "\n",
        "Avec cette base de données agrégée, nous pouvons désormais facilement compter les éléments de travail par jour en utilisant l'opération `resample ()`.\n",
        "\n",
        "* Remarque: * * `resample ()` est similaire à `groupby ()` **mais fonctionne avec les données datetime**.\n",
        "\n",
        "Nous allons commencer par calculer les comptes quotidiens de : \n",
        "- éléments de travail ouverts pendant la journée\n",
        "- éléments de travail fermés pendant la journée\n",
        "- éléments de travail restant ouverts jusqu'à la fin de la période"
      ]
    },
    {
      "cell_type": "code",
      "metadata": {
        "id": "MQ9X4jeyzwE2",
        "colab_type": "code",
        "outputId": "7ea3988d-9cda-483c-da52-88ec5a074299",
        "colab": {
          "base_uri": "https://localhost:8080/",
          "height": 390
        }
      },
      "source": [
        "#Agréger les données par jours \n",
        "#Filtrer les éléments qui sont toujours ouvert à la fin de la période (WIP)\n",
        "\n",
        "#saison 2 : comment modéliser ce taux de fermeture journalier (meilleur quand il est petit)\n",
        "\n",
        "data_inf_700 = data.loc[data['work_item'].isin(data_inf_700days['work_item'])]\n",
        "test = data_inf_700.copy()\n",
        "\n",
        "#test = data.copy()\n",
        "test.rename(columns={'timestamp': \"date\"}, inplace = True) #ajouter un groupby avant pour les duplicate + test avec verify integrety\n",
        "test.set_index(['date'], inplace = True)  #use date as index\n",
        "test.index = pd.to_datetime(test.index, unit='d') #transf the index in day unit\n",
        "test = test.ix[:, ['from_phase', 'to_phase', 'work_item']] #keep the needed columns\n",
        "\n",
        "liste_open = []\n",
        "liste_close = []\n",
        "\n",
        "# Encode opened\n",
        "for x in test.index : \n",
        "  if str(test['from_phase'][x]) == 'nan' : liste_open.append(1)\n",
        "  else : liste_open.append(0)\n",
        "\n",
        "# Encode closed\n",
        "for x in test.index : \n",
        "  if str(test['to_phase'][x]) == 'nan' : liste_close.append(1)\n",
        "  else : liste_close.append(0)\n",
        "\n",
        "# Store the values in the new dataset and resample at a frequency of one day\n",
        "test['opened_day'] = liste_open\n",
        "test['closed_day'] = liste_close\n",
        "new_dataset = test.resample('D').sum()\n",
        "\n",
        "# Encode remain open : nbr cumulated of ticket still openned at that date \n",
        "#(=cumulated openned - cummulated closed) from the beginning to that day\n",
        "liste_remain = np.zeros(len(new_dataset), dtype=int)\n",
        "new_dataset['remain_open'] = liste_remain\n",
        "for x in new_dataset.index :\n",
        "  new_dataset['remain_open'][x] = new_dataset['opened_day'][new_dataset.index[0]:x].sum() - new_dataset['closed_day'][new_dataset.index[0]:x].sum()\n",
        "\n",
        "new_dataset.head(10)"
      ],
      "execution_count": 0,
      "outputs": [
        {
          "output_type": "execute_result",
          "data": {
            "text/html": [
              "<div>\n",
              "<style scoped>\n",
              "    .dataframe tbody tr th:only-of-type {\n",
              "        vertical-align: middle;\n",
              "    }\n",
              "\n",
              "    .dataframe tbody tr th {\n",
              "        vertical-align: top;\n",
              "    }\n",
              "\n",
              "    .dataframe thead th {\n",
              "        text-align: right;\n",
              "    }\n",
              "</style>\n",
              "<table border=\"1\" class=\"dataframe\">\n",
              "  <thead>\n",
              "    <tr style=\"text-align: right;\">\n",
              "      <th></th>\n",
              "      <th>opened_day</th>\n",
              "      <th>closed_day</th>\n",
              "      <th>remain_open</th>\n",
              "    </tr>\n",
              "    <tr>\n",
              "      <th>date</th>\n",
              "      <th></th>\n",
              "      <th></th>\n",
              "      <th></th>\n",
              "    </tr>\n",
              "  </thead>\n",
              "  <tbody>\n",
              "    <tr>\n",
              "      <th>2015-01-02</th>\n",
              "      <td>6</td>\n",
              "      <td>0</td>\n",
              "      <td>6</td>\n",
              "    </tr>\n",
              "    <tr>\n",
              "      <th>2015-01-03</th>\n",
              "      <td>1</td>\n",
              "      <td>0</td>\n",
              "      <td>7</td>\n",
              "    </tr>\n",
              "    <tr>\n",
              "      <th>2015-01-04</th>\n",
              "      <td>2</td>\n",
              "      <td>0</td>\n",
              "      <td>9</td>\n",
              "    </tr>\n",
              "    <tr>\n",
              "      <th>2015-01-05</th>\n",
              "      <td>22</td>\n",
              "      <td>0</td>\n",
              "      <td>31</td>\n",
              "    </tr>\n",
              "    <tr>\n",
              "      <th>2015-01-06</th>\n",
              "      <td>17</td>\n",
              "      <td>7</td>\n",
              "      <td>41</td>\n",
              "    </tr>\n",
              "    <tr>\n",
              "      <th>2015-01-07</th>\n",
              "      <td>5</td>\n",
              "      <td>0</td>\n",
              "      <td>46</td>\n",
              "    </tr>\n",
              "    <tr>\n",
              "      <th>2015-01-08</th>\n",
              "      <td>4</td>\n",
              "      <td>3</td>\n",
              "      <td>47</td>\n",
              "    </tr>\n",
              "    <tr>\n",
              "      <th>2015-01-09</th>\n",
              "      <td>3</td>\n",
              "      <td>1</td>\n",
              "      <td>49</td>\n",
              "    </tr>\n",
              "    <tr>\n",
              "      <th>2015-01-10</th>\n",
              "      <td>2</td>\n",
              "      <td>0</td>\n",
              "      <td>51</td>\n",
              "    </tr>\n",
              "    <tr>\n",
              "      <th>2015-01-11</th>\n",
              "      <td>0</td>\n",
              "      <td>0</td>\n",
              "      <td>51</td>\n",
              "    </tr>\n",
              "  </tbody>\n",
              "</table>\n",
              "</div>"
            ],
            "text/plain": [
              "            opened_day  closed_day  remain_open\n",
              "date                                           \n",
              "2015-01-02           6           0            6\n",
              "2015-01-03           1           0            7\n",
              "2015-01-04           2           0            9\n",
              "2015-01-05          22           0           31\n",
              "2015-01-06          17           7           41\n",
              "2015-01-07           5           0           46\n",
              "2015-01-08           4           3           47\n",
              "2015-01-09           3           1           49\n",
              "2015-01-10           2           0           51\n",
              "2015-01-11           0           0           51"
            ]
          },
          "metadata": {
            "tags": []
          },
          "execution_count": 267
        }
      ]
    },
    {
      "cell_type": "markdown",
      "metadata": {
        "id": "TQQepkI2ZNVs",
        "colab_type": "text"
      },
      "source": [
        "## Répartition des tickets "
      ]
    },
    {
      "cell_type": "code",
      "metadata": {
        "id": "GAOl0dI5ZNVx",
        "colab_type": "code",
        "outputId": "f5f8c8cd-1c31-461c-f847-8a83e16201a1",
        "colab": {
          "base_uri": "https://localhost:8080/",
          "height": 297
        }
      },
      "source": [
        "#Afficher les stats descriptive de ce nouveau dataset \n",
        "\n",
        "# Compute column remain_open only for the last day of the dataset\n",
        "liste_remain = np.zeros(len(new_dataset), dtype=int)\n",
        "new_dataset['remain_open'] = liste_remain\n",
        "x = new_dataset.index[-1]\n",
        "new_dataset['remain_open'][x] = new_dataset['opened_day'][new_dataset.index[0]:x].sum() - new_dataset['closed_day'][new_dataset.index[0]:x].sum()\n",
        "  \n",
        "new_dataset.describe()"
      ],
      "execution_count": 0,
      "outputs": [
        {
          "output_type": "execute_result",
          "data": {
            "text/html": [
              "<div>\n",
              "<style scoped>\n",
              "    .dataframe tbody tr th:only-of-type {\n",
              "        vertical-align: middle;\n",
              "    }\n",
              "\n",
              "    .dataframe tbody tr th {\n",
              "        vertical-align: top;\n",
              "    }\n",
              "\n",
              "    .dataframe thead th {\n",
              "        text-align: right;\n",
              "    }\n",
              "</style>\n",
              "<table border=\"1\" class=\"dataframe\">\n",
              "  <thead>\n",
              "    <tr style=\"text-align: right;\">\n",
              "      <th></th>\n",
              "      <th>opened_day</th>\n",
              "      <th>closed_day</th>\n",
              "      <th>remain_open</th>\n",
              "    </tr>\n",
              "  </thead>\n",
              "  <tbody>\n",
              "    <tr>\n",
              "      <th>count</th>\n",
              "      <td>1429.000000</td>\n",
              "      <td>1429.000000</td>\n",
              "      <td>1429.000000</td>\n",
              "    </tr>\n",
              "    <tr>\n",
              "      <th>mean</th>\n",
              "      <td>8.671798</td>\n",
              "      <td>8.305808</td>\n",
              "      <td>0.365990</td>\n",
              "    </tr>\n",
              "    <tr>\n",
              "      <th>std</th>\n",
              "      <td>8.288102</td>\n",
              "      <td>9.516364</td>\n",
              "      <td>13.835204</td>\n",
              "    </tr>\n",
              "    <tr>\n",
              "      <th>min</th>\n",
              "      <td>0.000000</td>\n",
              "      <td>0.000000</td>\n",
              "      <td>0.000000</td>\n",
              "    </tr>\n",
              "    <tr>\n",
              "      <th>25%</th>\n",
              "      <td>0.000000</td>\n",
              "      <td>0.000000</td>\n",
              "      <td>0.000000</td>\n",
              "    </tr>\n",
              "    <tr>\n",
              "      <th>50%</th>\n",
              "      <td>8.000000</td>\n",
              "      <td>6.000000</td>\n",
              "      <td>0.000000</td>\n",
              "    </tr>\n",
              "    <tr>\n",
              "      <th>75%</th>\n",
              "      <td>14.000000</td>\n",
              "      <td>13.000000</td>\n",
              "      <td>0.000000</td>\n",
              "    </tr>\n",
              "    <tr>\n",
              "      <th>max</th>\n",
              "      <td>64.000000</td>\n",
              "      <td>60.000000</td>\n",
              "      <td>523.000000</td>\n",
              "    </tr>\n",
              "  </tbody>\n",
              "</table>\n",
              "</div>"
            ],
            "text/plain": [
              "        opened_day   closed_day  remain_open\n",
              "count  1429.000000  1429.000000  1429.000000\n",
              "mean      8.671798     8.305808     0.365990\n",
              "std       8.288102     9.516364    13.835204\n",
              "min       0.000000     0.000000     0.000000\n",
              "25%       0.000000     0.000000     0.000000\n",
              "50%       8.000000     6.000000     0.000000\n",
              "75%      14.000000    13.000000     0.000000\n",
              "max      64.000000    60.000000   523.000000"
            ]
          },
          "metadata": {
            "tags": []
          },
          "execution_count": 268
        }
      ]
    },
    {
      "cell_type": "code",
      "metadata": {
        "id": "yH9fUCdcZNV2",
        "colab_type": "code",
        "outputId": "94d6a5dc-1e58-4fbc-8a1f-52db0b54c00e",
        "colab": {
          "base_uri": "https://localhost:8080/",
          "height": 119
        }
      },
      "source": [
        "#Compter pour chaque jour le nombre de ticker ouvert (somme cumulée des ouverture)\n",
        "\n",
        "# Compute cumulated sum of openned ticket for each day\n",
        "liste = []\n",
        "for x in new_dataset.index:\n",
        "  liste.append(new_dataset['opened_day'][new_dataset.index[0]:x].sum())\n",
        "\n",
        "# Store the value in a pandas series\n",
        "opened_day = pd.Series(liste, name='opened_day')\n",
        "opened_day.head()"
      ],
      "execution_count": 0,
      "outputs": [
        {
          "output_type": "execute_result",
          "data": {
            "text/plain": [
              "0     6\n",
              "1     7\n",
              "2     9\n",
              "3    31\n",
              "4    48\n",
              "Name: opened_day, dtype: int64"
            ]
          },
          "metadata": {
            "tags": []
          },
          "execution_count": 274
        }
      ]
    }
  ]
}