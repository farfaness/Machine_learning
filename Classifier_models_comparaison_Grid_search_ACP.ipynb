{
  "nbformat": 4,
  "nbformat_minor": 0,
  "metadata": {
    "colab": {
      "name": "Classifier_models_comparaison_Grid_search_ACP.ipynb",
      "provenance": [],
      "collapsed_sections": [],
      "include_colab_link": true
    },
    "kernelspec": {
      "name": "python3",
      "display_name": "Python 3"
    },
    "accelerator": "GPU"
  },
  "cells": [
    {
      "cell_type": "markdown",
      "metadata": {
        "id": "view-in-github",
        "colab_type": "text"
      },
      "source": [
        "<a href=\"https://colab.research.google.com/github/farfaness/Machine_learning/blob/master/Classifier_models_comparaison_Grid_search_ACP.ipynb\" target=\"_parent\"><img src=\"https://colab.research.google.com/assets/colab-badge.svg\" alt=\"Open In Colab\"/></a>"
      ]
    },
    {
      "cell_type": "code",
      "metadata": {
        "id": "4IFfxHKDnqu6",
        "colab_type": "code",
        "colab": {}
      },
      "source": [
        "from google.colab import drive\n",
        "drive.mount('/content/drive')"
      ],
      "execution_count": 0,
      "outputs": []
    },
    {
      "cell_type": "code",
      "metadata": {
        "id": "MAtdSmhUn3Er",
        "colab_type": "code",
        "outputId": "63facd93-4674-4a58-c15a-737bae95a833",
        "colab": {
          "base_uri": "https://localhost:8080/",
          "height": 34
        }
      },
      "source": [
        "cd /content/drive/My Drive/Datasets"
      ],
      "execution_count": 0,
      "outputs": [
        {
          "output_type": "stream",
          "text": [
            "/content/drive/My Drive/Datasets\n"
          ],
          "name": "stdout"
        }
      ]
    },
    {
      "cell_type": "code",
      "metadata": {
        "id": "xG8BpCauNbgF",
        "colab_type": "code",
        "colab": {}
      },
      "source": [
        "# Librairies needed\n",
        "import pandas as pd\n",
        "import numpy as np\n",
        "import matplotlib.pyplot as plt"
      ],
      "execution_count": 0,
      "outputs": []
    },
    {
      "cell_type": "code",
      "metadata": {
        "id": "EdUDNCbqNmrS",
        "colab_type": "code",
        "colab": {}
      },
      "source": [
        "# Load the dataset\n",
        "data = pd.read_csv(\"/content/drive/My Drive/Datasets/SPAM.csv\")"
      ],
      "execution_count": 0,
      "outputs": []
    },
    {
      "cell_type": "markdown",
      "metadata": {
        "id": "OCjx8udzqCRa",
        "colab_type": "text"
      },
      "source": [
        "# Descriptive statistics"
      ]
    },
    {
      "cell_type": "code",
      "metadata": {
        "id": "XBSgfGoDTAis",
        "colab_type": "code",
        "outputId": "f5609a31-1c88-4533-beab-932694a9388a",
        "colab": {
          "base_uri": "https://localhost:8080/",
          "height": 226
        }
      },
      "source": [
        "# Visualize data\n",
        "data.head(5)"
      ],
      "execution_count": 0,
      "outputs": [
        {
          "output_type": "execute_result",
          "data": {
            "text/html": [
              "<div>\n",
              "<style scoped>\n",
              "    .dataframe tbody tr th:only-of-type {\n",
              "        vertical-align: middle;\n",
              "    }\n",
              "\n",
              "    .dataframe tbody tr th {\n",
              "        vertical-align: top;\n",
              "    }\n",
              "\n",
              "    .dataframe thead th {\n",
              "        text-align: right;\n",
              "    }\n",
              "</style>\n",
              "<table border=\"1\" class=\"dataframe\">\n",
              "  <thead>\n",
              "    <tr style=\"text-align: right;\">\n",
              "      <th></th>\n",
              "      <th>spam</th>\n",
              "      <th>testid</th>\n",
              "      <th>make</th>\n",
              "      <th>address</th>\n",
              "      <th>all</th>\n",
              "      <th>3d</th>\n",
              "      <th>our</th>\n",
              "      <th>over</th>\n",
              "      <th>remove</th>\n",
              "      <th>internet</th>\n",
              "      <th>order</th>\n",
              "      <th>mail</th>\n",
              "      <th>receive</th>\n",
              "      <th>will</th>\n",
              "      <th>people</th>\n",
              "      <th>report</th>\n",
              "      <th>addresses</th>\n",
              "      <th>free</th>\n",
              "      <th>business</th>\n",
              "      <th>email</th>\n",
              "      <th>you</th>\n",
              "      <th>credit</th>\n",
              "      <th>your</th>\n",
              "      <th>font</th>\n",
              "      <th>000</th>\n",
              "      <th>money</th>\n",
              "      <th>hp</th>\n",
              "      <th>hpl</th>\n",
              "      <th>george</th>\n",
              "      <th>650</th>\n",
              "      <th>lab</th>\n",
              "      <th>labs</th>\n",
              "      <th>telnet</th>\n",
              "      <th>857</th>\n",
              "      <th>data</th>\n",
              "      <th>415</th>\n",
              "      <th>85</th>\n",
              "      <th>technology</th>\n",
              "      <th>1999</th>\n",
              "      <th>parts</th>\n",
              "      <th>pm</th>\n",
              "      <th>direct</th>\n",
              "      <th>cs</th>\n",
              "      <th>meeting</th>\n",
              "      <th>original</th>\n",
              "      <th>project</th>\n",
              "      <th>re</th>\n",
              "      <th>edu</th>\n",
              "      <th>table</th>\n",
              "      <th>conference</th>\n",
              "      <th>ch;</th>\n",
              "      <th>ch(</th>\n",
              "      <th>ch[</th>\n",
              "      <th>ch!</th>\n",
              "      <th>ch$</th>\n",
              "      <th>ch#</th>\n",
              "      <th>crl.ave</th>\n",
              "      <th>crl.long</th>\n",
              "      <th>crl.tot</th>\n",
              "    </tr>\n",
              "  </thead>\n",
              "  <tbody>\n",
              "    <tr>\n",
              "      <th>0</th>\n",
              "      <td>True</td>\n",
              "      <td>True</td>\n",
              "      <td>0.00</td>\n",
              "      <td>0.64</td>\n",
              "      <td>0.64</td>\n",
              "      <td>0.0</td>\n",
              "      <td>0.32</td>\n",
              "      <td>0.00</td>\n",
              "      <td>0.00</td>\n",
              "      <td>0.00</td>\n",
              "      <td>0.00</td>\n",
              "      <td>0.00</td>\n",
              "      <td>0.00</td>\n",
              "      <td>0.64</td>\n",
              "      <td>0.00</td>\n",
              "      <td>0.00</td>\n",
              "      <td>0.00</td>\n",
              "      <td>0.32</td>\n",
              "      <td>0.00</td>\n",
              "      <td>1.29</td>\n",
              "      <td>1.93</td>\n",
              "      <td>0.00</td>\n",
              "      <td>0.96</td>\n",
              "      <td>0.0</td>\n",
              "      <td>0.00</td>\n",
              "      <td>0.00</td>\n",
              "      <td>0.0</td>\n",
              "      <td>0.0</td>\n",
              "      <td>0.0</td>\n",
              "      <td>0.0</td>\n",
              "      <td>0.0</td>\n",
              "      <td>0.0</td>\n",
              "      <td>0.0</td>\n",
              "      <td>0.0</td>\n",
              "      <td>0.0</td>\n",
              "      <td>0.0</td>\n",
              "      <td>0.0</td>\n",
              "      <td>0.0</td>\n",
              "      <td>0.00</td>\n",
              "      <td>0.0</td>\n",
              "      <td>0.0</td>\n",
              "      <td>0.00</td>\n",
              "      <td>0.0</td>\n",
              "      <td>0.0</td>\n",
              "      <td>0.00</td>\n",
              "      <td>0.0</td>\n",
              "      <td>0.00</td>\n",
              "      <td>0.00</td>\n",
              "      <td>0.0</td>\n",
              "      <td>0.0</td>\n",
              "      <td>0.00</td>\n",
              "      <td>0.000</td>\n",
              "      <td>0.0</td>\n",
              "      <td>0.778</td>\n",
              "      <td>0.000</td>\n",
              "      <td>0.000</td>\n",
              "      <td>3.756</td>\n",
              "      <td>61</td>\n",
              "      <td>278</td>\n",
              "    </tr>\n",
              "    <tr>\n",
              "      <th>1</th>\n",
              "      <td>True</td>\n",
              "      <td>False</td>\n",
              "      <td>0.21</td>\n",
              "      <td>0.28</td>\n",
              "      <td>0.50</td>\n",
              "      <td>0.0</td>\n",
              "      <td>0.14</td>\n",
              "      <td>0.28</td>\n",
              "      <td>0.21</td>\n",
              "      <td>0.07</td>\n",
              "      <td>0.00</td>\n",
              "      <td>0.94</td>\n",
              "      <td>0.21</td>\n",
              "      <td>0.79</td>\n",
              "      <td>0.65</td>\n",
              "      <td>0.21</td>\n",
              "      <td>0.14</td>\n",
              "      <td>0.14</td>\n",
              "      <td>0.07</td>\n",
              "      <td>0.28</td>\n",
              "      <td>3.47</td>\n",
              "      <td>0.00</td>\n",
              "      <td>1.59</td>\n",
              "      <td>0.0</td>\n",
              "      <td>0.43</td>\n",
              "      <td>0.43</td>\n",
              "      <td>0.0</td>\n",
              "      <td>0.0</td>\n",
              "      <td>0.0</td>\n",
              "      <td>0.0</td>\n",
              "      <td>0.0</td>\n",
              "      <td>0.0</td>\n",
              "      <td>0.0</td>\n",
              "      <td>0.0</td>\n",
              "      <td>0.0</td>\n",
              "      <td>0.0</td>\n",
              "      <td>0.0</td>\n",
              "      <td>0.0</td>\n",
              "      <td>0.07</td>\n",
              "      <td>0.0</td>\n",
              "      <td>0.0</td>\n",
              "      <td>0.00</td>\n",
              "      <td>0.0</td>\n",
              "      <td>0.0</td>\n",
              "      <td>0.00</td>\n",
              "      <td>0.0</td>\n",
              "      <td>0.00</td>\n",
              "      <td>0.00</td>\n",
              "      <td>0.0</td>\n",
              "      <td>0.0</td>\n",
              "      <td>0.00</td>\n",
              "      <td>0.132</td>\n",
              "      <td>0.0</td>\n",
              "      <td>0.372</td>\n",
              "      <td>0.180</td>\n",
              "      <td>0.048</td>\n",
              "      <td>5.114</td>\n",
              "      <td>101</td>\n",
              "      <td>1028</td>\n",
              "    </tr>\n",
              "    <tr>\n",
              "      <th>2</th>\n",
              "      <td>True</td>\n",
              "      <td>True</td>\n",
              "      <td>0.06</td>\n",
              "      <td>0.00</td>\n",
              "      <td>0.71</td>\n",
              "      <td>0.0</td>\n",
              "      <td>1.23</td>\n",
              "      <td>0.19</td>\n",
              "      <td>0.19</td>\n",
              "      <td>0.12</td>\n",
              "      <td>0.64</td>\n",
              "      <td>0.25</td>\n",
              "      <td>0.38</td>\n",
              "      <td>0.45</td>\n",
              "      <td>0.12</td>\n",
              "      <td>0.00</td>\n",
              "      <td>1.75</td>\n",
              "      <td>0.06</td>\n",
              "      <td>0.06</td>\n",
              "      <td>1.03</td>\n",
              "      <td>1.36</td>\n",
              "      <td>0.32</td>\n",
              "      <td>0.51</td>\n",
              "      <td>0.0</td>\n",
              "      <td>1.16</td>\n",
              "      <td>0.06</td>\n",
              "      <td>0.0</td>\n",
              "      <td>0.0</td>\n",
              "      <td>0.0</td>\n",
              "      <td>0.0</td>\n",
              "      <td>0.0</td>\n",
              "      <td>0.0</td>\n",
              "      <td>0.0</td>\n",
              "      <td>0.0</td>\n",
              "      <td>0.0</td>\n",
              "      <td>0.0</td>\n",
              "      <td>0.0</td>\n",
              "      <td>0.0</td>\n",
              "      <td>0.00</td>\n",
              "      <td>0.0</td>\n",
              "      <td>0.0</td>\n",
              "      <td>0.06</td>\n",
              "      <td>0.0</td>\n",
              "      <td>0.0</td>\n",
              "      <td>0.12</td>\n",
              "      <td>0.0</td>\n",
              "      <td>0.06</td>\n",
              "      <td>0.06</td>\n",
              "      <td>0.0</td>\n",
              "      <td>0.0</td>\n",
              "      <td>0.01</td>\n",
              "      <td>0.143</td>\n",
              "      <td>0.0</td>\n",
              "      <td>0.276</td>\n",
              "      <td>0.184</td>\n",
              "      <td>0.010</td>\n",
              "      <td>9.821</td>\n",
              "      <td>485</td>\n",
              "      <td>2259</td>\n",
              "    </tr>\n",
              "    <tr>\n",
              "      <th>3</th>\n",
              "      <td>True</td>\n",
              "      <td>False</td>\n",
              "      <td>0.00</td>\n",
              "      <td>0.00</td>\n",
              "      <td>0.00</td>\n",
              "      <td>0.0</td>\n",
              "      <td>0.63</td>\n",
              "      <td>0.00</td>\n",
              "      <td>0.31</td>\n",
              "      <td>0.63</td>\n",
              "      <td>0.31</td>\n",
              "      <td>0.63</td>\n",
              "      <td>0.31</td>\n",
              "      <td>0.31</td>\n",
              "      <td>0.31</td>\n",
              "      <td>0.00</td>\n",
              "      <td>0.00</td>\n",
              "      <td>0.31</td>\n",
              "      <td>0.00</td>\n",
              "      <td>0.00</td>\n",
              "      <td>3.18</td>\n",
              "      <td>0.00</td>\n",
              "      <td>0.31</td>\n",
              "      <td>0.0</td>\n",
              "      <td>0.00</td>\n",
              "      <td>0.00</td>\n",
              "      <td>0.0</td>\n",
              "      <td>0.0</td>\n",
              "      <td>0.0</td>\n",
              "      <td>0.0</td>\n",
              "      <td>0.0</td>\n",
              "      <td>0.0</td>\n",
              "      <td>0.0</td>\n",
              "      <td>0.0</td>\n",
              "      <td>0.0</td>\n",
              "      <td>0.0</td>\n",
              "      <td>0.0</td>\n",
              "      <td>0.0</td>\n",
              "      <td>0.00</td>\n",
              "      <td>0.0</td>\n",
              "      <td>0.0</td>\n",
              "      <td>0.00</td>\n",
              "      <td>0.0</td>\n",
              "      <td>0.0</td>\n",
              "      <td>0.00</td>\n",
              "      <td>0.0</td>\n",
              "      <td>0.00</td>\n",
              "      <td>0.00</td>\n",
              "      <td>0.0</td>\n",
              "      <td>0.0</td>\n",
              "      <td>0.00</td>\n",
              "      <td>0.137</td>\n",
              "      <td>0.0</td>\n",
              "      <td>0.137</td>\n",
              "      <td>0.000</td>\n",
              "      <td>0.000</td>\n",
              "      <td>3.537</td>\n",
              "      <td>40</td>\n",
              "      <td>191</td>\n",
              "    </tr>\n",
              "    <tr>\n",
              "      <th>4</th>\n",
              "      <td>True</td>\n",
              "      <td>False</td>\n",
              "      <td>0.00</td>\n",
              "      <td>0.00</td>\n",
              "      <td>0.00</td>\n",
              "      <td>0.0</td>\n",
              "      <td>0.63</td>\n",
              "      <td>0.00</td>\n",
              "      <td>0.31</td>\n",
              "      <td>0.63</td>\n",
              "      <td>0.31</td>\n",
              "      <td>0.63</td>\n",
              "      <td>0.31</td>\n",
              "      <td>0.31</td>\n",
              "      <td>0.31</td>\n",
              "      <td>0.00</td>\n",
              "      <td>0.00</td>\n",
              "      <td>0.31</td>\n",
              "      <td>0.00</td>\n",
              "      <td>0.00</td>\n",
              "      <td>3.18</td>\n",
              "      <td>0.00</td>\n",
              "      <td>0.31</td>\n",
              "      <td>0.0</td>\n",
              "      <td>0.00</td>\n",
              "      <td>0.00</td>\n",
              "      <td>0.0</td>\n",
              "      <td>0.0</td>\n",
              "      <td>0.0</td>\n",
              "      <td>0.0</td>\n",
              "      <td>0.0</td>\n",
              "      <td>0.0</td>\n",
              "      <td>0.0</td>\n",
              "      <td>0.0</td>\n",
              "      <td>0.0</td>\n",
              "      <td>0.0</td>\n",
              "      <td>0.0</td>\n",
              "      <td>0.0</td>\n",
              "      <td>0.00</td>\n",
              "      <td>0.0</td>\n",
              "      <td>0.0</td>\n",
              "      <td>0.00</td>\n",
              "      <td>0.0</td>\n",
              "      <td>0.0</td>\n",
              "      <td>0.00</td>\n",
              "      <td>0.0</td>\n",
              "      <td>0.00</td>\n",
              "      <td>0.00</td>\n",
              "      <td>0.0</td>\n",
              "      <td>0.0</td>\n",
              "      <td>0.00</td>\n",
              "      <td>0.135</td>\n",
              "      <td>0.0</td>\n",
              "      <td>0.135</td>\n",
              "      <td>0.000</td>\n",
              "      <td>0.000</td>\n",
              "      <td>3.537</td>\n",
              "      <td>40</td>\n",
              "      <td>191</td>\n",
              "    </tr>\n",
              "  </tbody>\n",
              "</table>\n",
              "</div>"
            ],
            "text/plain": [
              "   spam  testid  make  address   all  ...    ch$    ch#  crl.ave  crl.long  crl.tot\n",
              "0  True    True  0.00     0.64  0.64  ...  0.000  0.000    3.756        61      278\n",
              "1  True   False  0.21     0.28  0.50  ...  0.180  0.048    5.114       101     1028\n",
              "2  True    True  0.06     0.00  0.71  ...  0.184  0.010    9.821       485     2259\n",
              "3  True   False  0.00     0.00  0.00  ...  0.000  0.000    3.537        40      191\n",
              "4  True   False  0.00     0.00  0.00  ...  0.000  0.000    3.537        40      191\n",
              "\n",
              "[5 rows x 59 columns]"
            ]
          },
          "metadata": {
            "tags": []
          },
          "execution_count": 6
        }
      ]
    },
    {
      "cell_type": "code",
      "metadata": {
        "id": "2yjrK28bT_Ks",
        "colab_type": "code",
        "outputId": "df050710-46bd-4e1d-c920-d620216d9e94",
        "colab": {
          "base_uri": "https://localhost:8080/",
          "height": 34
        }
      },
      "source": [
        "# Data length\n",
        "print(\"Taille du dataset: {}\" .format(len(data)))"
      ],
      "execution_count": 0,
      "outputs": [
        {
          "output_type": "stream",
          "text": [
            "Taille du dataset: 4601\n"
          ],
          "name": "stdout"
        }
      ]
    },
    {
      "cell_type": "code",
      "metadata": {
        "id": "rQmM2ltnUDM-",
        "colab_type": "code",
        "outputId": "3ab643db-e84e-4b52-93a4-8c05f9c790cd",
        "colab": {
          "base_uri": "https://localhost:8080/",
          "height": 1000
        }
      },
      "source": [
        "data.info()"
      ],
      "execution_count": 0,
      "outputs": [
        {
          "output_type": "stream",
          "text": [
            "<class 'pandas.core.frame.DataFrame'>\n",
            "RangeIndex: 4601 entries, 0 to 4600\n",
            "Data columns (total 59 columns):\n",
            "spam          4601 non-null bool\n",
            "testid        4601 non-null bool\n",
            "make          4601 non-null float64\n",
            "address       4601 non-null float64\n",
            "all           4601 non-null float64\n",
            "3d            4601 non-null float64\n",
            "our           4601 non-null float64\n",
            "over          4601 non-null float64\n",
            "remove        4601 non-null float64\n",
            "internet      4601 non-null float64\n",
            "order         4601 non-null float64\n",
            "mail          4601 non-null float64\n",
            "receive       4601 non-null float64\n",
            "will          4601 non-null float64\n",
            "people        4601 non-null float64\n",
            "report        4601 non-null float64\n",
            "addresses     4601 non-null float64\n",
            "free          4601 non-null float64\n",
            "business      4601 non-null float64\n",
            "email         4601 non-null float64\n",
            "you           4601 non-null float64\n",
            "credit        4601 non-null float64\n",
            "your          4601 non-null float64\n",
            "font          4601 non-null float64\n",
            "000           4601 non-null float64\n",
            "money         4601 non-null float64\n",
            "hp            4601 non-null float64\n",
            "hpl           4601 non-null float64\n",
            "george        4601 non-null float64\n",
            "650           4601 non-null float64\n",
            "lab           4601 non-null float64\n",
            "labs          4601 non-null float64\n",
            "telnet        4601 non-null float64\n",
            "857           4601 non-null float64\n",
            "data          4601 non-null float64\n",
            "415           4601 non-null float64\n",
            "85            4601 non-null float64\n",
            "technology    4601 non-null float64\n",
            "1999          4601 non-null float64\n",
            "parts         4601 non-null float64\n",
            "pm            4601 non-null float64\n",
            "direct        4601 non-null float64\n",
            "cs            4601 non-null float64\n",
            "meeting       4601 non-null float64\n",
            "original      4601 non-null float64\n",
            "project       4601 non-null float64\n",
            "re            4601 non-null float64\n",
            "edu           4601 non-null float64\n",
            "table         4601 non-null float64\n",
            "conference    4601 non-null float64\n",
            "ch;           4601 non-null float64\n",
            "ch(           4601 non-null float64\n",
            "ch[           4601 non-null float64\n",
            "ch!           4601 non-null float64\n",
            "ch$           4601 non-null float64\n",
            "ch#           4601 non-null float64\n",
            "crl.ave       4601 non-null float64\n",
            "crl.long      4601 non-null int64\n",
            "crl.tot       4601 non-null int64\n",
            "dtypes: bool(2), float64(55), int64(2)\n",
            "memory usage: 2.0 MB\n"
          ],
          "name": "stdout"
        }
      ]
    },
    {
      "cell_type": "code",
      "metadata": {
        "id": "OvTeZKm5UTDJ",
        "colab_type": "code",
        "outputId": "d29267ce-40ba-453a-acc3-af281c4cd4a8",
        "colab": {
          "base_uri": "https://localhost:8080/",
          "height": 69
        }
      },
      "source": [
        "# Original dataset train-test partition\n",
        "data['testid'].value_counts()"
      ],
      "execution_count": 0,
      "outputs": [
        {
          "output_type": "execute_result",
          "data": {
            "text/plain": [
              "False    3065\n",
              "True     1536\n",
              "Name: testid, dtype: int64"
            ]
          },
          "metadata": {
            "tags": []
          },
          "execution_count": 24
        }
      ]
    },
    {
      "cell_type": "code",
      "metadata": {
        "id": "KWdjcIszUbEw",
        "colab_type": "code",
        "outputId": "d121c9df-2917-49ae-f36d-0d1d644fd587",
        "colab": {
          "base_uri": "https://localhost:8080/",
          "height": 69
        }
      },
      "source": [
        "# Target variable\n",
        "data['spam'].value_counts()"
      ],
      "execution_count": 0,
      "outputs": [
        {
          "output_type": "execute_result",
          "data": {
            "text/plain": [
              "False    2788\n",
              "True     1813\n",
              "Name: spam, dtype: int64"
            ]
          },
          "metadata": {
            "tags": []
          },
          "execution_count": 48
        }
      ]
    },
    {
      "cell_type": "code",
      "metadata": {
        "id": "BaawTKH_U9bq",
        "colab_type": "code",
        "outputId": "5dd216d8-ca2e-4226-dfa2-7dfbfba3dc7c",
        "colab": {
          "base_uri": "https://localhost:8080/",
          "height": 1000
        }
      },
      "source": [
        "# Check Nan\n",
        "print(data.isna().sum())"
      ],
      "execution_count": 0,
      "outputs": [
        {
          "output_type": "stream",
          "text": [
            "spam          0\n",
            "testid        0\n",
            "make          0\n",
            "address       0\n",
            "all           0\n",
            "3d            0\n",
            "our           0\n",
            "over          0\n",
            "remove        0\n",
            "internet      0\n",
            "order         0\n",
            "mail          0\n",
            "receive       0\n",
            "will          0\n",
            "people        0\n",
            "report        0\n",
            "addresses     0\n",
            "free          0\n",
            "business      0\n",
            "email         0\n",
            "you           0\n",
            "credit        0\n",
            "your          0\n",
            "font          0\n",
            "000           0\n",
            "money         0\n",
            "hp            0\n",
            "hpl           0\n",
            "george        0\n",
            "650           0\n",
            "lab           0\n",
            "labs          0\n",
            "telnet        0\n",
            "857           0\n",
            "data          0\n",
            "415           0\n",
            "85            0\n",
            "technology    0\n",
            "1999          0\n",
            "parts         0\n",
            "pm            0\n",
            "direct        0\n",
            "cs            0\n",
            "meeting       0\n",
            "original      0\n",
            "project       0\n",
            "re            0\n",
            "edu           0\n",
            "table         0\n",
            "conference    0\n",
            "ch;           0\n",
            "ch(           0\n",
            "ch[           0\n",
            "ch!           0\n",
            "ch$           0\n",
            "ch#           0\n",
            "crl.ave       0\n",
            "crl.long      0\n",
            "crl.tot       0\n",
            "dtype: int64\n"
          ],
          "name": "stdout"
        }
      ]
    },
    {
      "cell_type": "markdown",
      "metadata": {
        "id": "pJ4FCSGdUwuP",
        "colab_type": "text"
      },
      "source": [
        "# Feature engineering"
      ]
    },
    {
      "cell_type": "code",
      "metadata": {
        "id": "Ni3qGN5DU5mV",
        "colab_type": "code",
        "colab": {}
      },
      "source": [
        "#Removal of the column testid (i.e. original train-test partition of the dataset)\n",
        "data.drop(columns = 'testid', inplace= True)"
      ],
      "execution_count": 0,
      "outputs": []
    },
    {
      "cell_type": "code",
      "metadata": {
        "id": "yTP-5J9PVTsy",
        "colab_type": "code",
        "colab": {}
      },
      "source": [
        "# Create X and y\n",
        "liste_col = data.columns.tolist()\n",
        "X = data[liste_col[1::]]\n",
        "y = data[liste_col[0]]"
      ],
      "execution_count": 0,
      "outputs": []
    },
    {
      "cell_type": "code",
      "metadata": {
        "id": "DhbPdFb2fL2S",
        "colab_type": "code",
        "outputId": "d79a6e00-498f-4c47-b5dd-6da487d31c2d",
        "colab": {
          "base_uri": "https://localhost:8080/",
          "height": 121
        }
      },
      "source": [
        "# Sanity check : visualize first row of X and y\n",
        "print(X.loc[[0]])\n",
        "print(y.loc[[0]])"
      ],
      "execution_count": 0,
      "outputs": [
        {
          "output_type": "stream",
          "text": [
            "   make  address   all   3d   our  ...  ch$  ch#  crl.ave  crl.long  crl.tot\n",
            "0   0.0     0.64  0.64  0.0  0.32  ...  0.0  0.0    3.756        61      278\n",
            "\n",
            "[1 rows x 57 columns]\n",
            "0    True\n",
            "Name: spam, dtype: bool\n"
          ],
          "name": "stdout"
        }
      ]
    },
    {
      "cell_type": "markdown",
      "metadata": {
        "id": "sxBplPe3vOWH",
        "colab_type": "text"
      },
      "source": [
        "# Hyperparameters Randomized Search CV for a pipeline defined as : \n",
        "\n",
        "1.   Standard scaler\n",
        "2.   PCA\n",
        "3.   Logistic Regression\n",
        "\n",
        "\n",
        "\n",
        "\n",
        "\n"
      ]
    },
    {
      "cell_type": "code",
      "metadata": {
        "id": "WoOsLnT1vcmp",
        "colab_type": "code",
        "colab": {}
      },
      "source": [
        "from sklearn.preprocessing import StandardScaler\n",
        "from sklearn.linear_model import LogisticRegression\n",
        "from sklearn import decomposition\n",
        "from sklearn.pipeline import Pipeline\n",
        "from sklearn.model_selection import RandomizedSearchCV\n",
        "from scipy.stats import randint as sp_randint"
      ],
      "execution_count": 0,
      "outputs": []
    },
    {
      "cell_type": "code",
      "metadata": {
        "id": "_1zJ84ufIjUH",
        "colab_type": "code",
        "outputId": "a1f4ce62-f42c-463d-d584-d7bce9886559",
        "colab": {
          "base_uri": "https://localhost:8080/",
          "height": 324
        }
      },
      "source": [
        "# Parameters for the Grid search of ACP and Logistic regression\n",
        "dual= [True, False]\n",
        "#max_iter=[100,110,120,130,140, 150, 160, 170, 180, 190, 200, 210, 220, 230, 240, 250, 1000, 2000, 5000, 10000]\n",
        "#C = np.logspace(-5, 5, 100) \n",
        "#n_components = list(range(1, X.shape[1] +1)) \n",
        "\n",
        "max_iter = sp_randint(100, 10000)\n",
        "C = np.logspace(-5, 5, 100)\n",
        "n_components = sp_randint(1, X.shape[1])\n",
        "\n",
        "# Dicionnary of parameters for the grid search\n",
        "param_dist = dict(pca__n_components=n_components, logistic__dual= dual, logistic__max_iter=max_iter, logistic__C=C)\n",
        "\n",
        "# Pipeline definition\n",
        "scaling = StandardScaler()\n",
        "logistic = LogisticRegression() #l2 penalty, ibfgs solver\n",
        "pca = decomposition.PCA()\n",
        "pipe_ACP_logic = Pipeline(steps=[('scaling', scaling), ('pca', pca), ('logistic', logistic)])\n",
        "\n",
        "# Grid Search CV\n",
        "randomsearch= RandomizedSearchCV(estimator=pipe_ACP_logic, param_distributions=param_dist, cv = 10, n_jobs=-1, scoring = \"f1\", n_iter = 100)\n",
        "randomsearch_result = randomsearch.fit(X, y)\n",
        "\n",
        "optimised_logistic_reg = randomsearch_result.best_estimator_\n",
        "\n",
        "plt.axvline(randomsearch_result.best_estimator_.named_steps['pca'].n_components,\n",
        "            linestyle=':', label='n_components chosen')\n",
        "plt.legend(prop=dict(size=12))\n",
        "plt.show()"
      ],
      "execution_count": 0,
      "outputs": [
        {
          "output_type": "stream",
          "text": [
            "/usr/local/lib/python3.6/dist-packages/sklearn/linear_model/logistic.py:432: FutureWarning: Default solver will be changed to 'lbfgs' in 0.22. Specify a solver to silence this warning.\n",
            "  FutureWarning)\n"
          ],
          "name": "stderr"
        },
        {
          "output_type": "display_data",
          "data": {
            "image/png": "[encoded data removed]",
            "text/plain": [
              "<Figure size 432x288 with 1 Axes>"
            ]
          },
          "metadata": {
            "tags": []
          }
        }
      ]
    },
    {
      "cell_type": "code",
      "metadata": {
        "id": "fzamixSZJZKP",
        "colab_type": "code",
        "outputId": "9178ce46-37d9-4a8c-b63c-13df324afb48",
        "colab": {
          "base_uri": "https://localhost:8080/",
          "height": 54
        }
      },
      "source": [
        "# Summarize results\n",
        "print(\"Best: %f using %s\" % (randomsearch_result.best_score_, randomsearch_result.best_params_))"
      ],
      "execution_count": 0,
      "outputs": [
        {
          "output_type": "stream",
          "text": [
            "Best: 0.895458 using {'logistic__C': 11.497569953977356, 'logistic__dual': False, 'logistic__max_iter': 1952, 'pca__n_components': 51}\n"
          ],
          "name": "stdout"
        }
      ]
    },
    {
      "cell_type": "markdown",
      "metadata": {
        "id": "J4skb9gvWePc",
        "colab_type": "text"
      },
      "source": [
        "# Classification : Models comparison with statified K-folds as train/test split"
      ]
    },
    {
      "cell_type": "code",
      "metadata": {
        "id": "HR-W-cgvmmVE",
        "colab_type": "code",
        "colab": {}
      },
      "source": [
        "from sklearn.model_selection import StratifiedKFold\n",
        "from sklearn.metrics import accuracy_score, log_loss, f1_score\n",
        "from sklearn.naive_bayes import GaussianNB\n",
        "from sklearn.neighbors import KNeighborsClassifier\n",
        "from sklearn.svm import SVC, NuSVC\n",
        "from sklearn.tree import DecisionTreeClassifier\n",
        "from sklearn.ensemble import RandomForestClassifier, AdaBoostClassifier, GradientBoostingClassifier\n",
        "from sklearn.discriminant_analysis import LinearDiscriminantAnalysis, QuadraticDiscriminantAnalysis \n",
        "from time import perf_counter\n",
        "\n",
        "def warn(*args, **kwargs): pass\n",
        "import warnings\n",
        "warnings.warn = warn"
      ],
      "execution_count": 0,
      "outputs": []
    },
    {
      "cell_type": "code",
      "metadata": {
        "id": "VjRHxjJYWhI4",
        "colab_type": "code",
        "outputId": "bce29290-2c6c-4316-a2f8-1f265155e86f",
        "colab": {
          "base_uri": "https://localhost:8080/",
          "height": 72
        }
      },
      "source": [
        "# Classifiers comparison with Stratified KFold as train-test split\n",
        "\n",
        "classifiers = [\n",
        "    KNeighborsClassifier(3),\n",
        "    SVC(kernel=\"rbf\", C=0.025, probability=True),\n",
        "    NuSVC(probability=True),\n",
        "    DecisionTreeClassifier(),\n",
        "    RandomForestClassifier(),\n",
        "    AdaBoostClassifier(),\n",
        "    GradientBoostingClassifier(),\n",
        "    GaussianNB(),\n",
        "    LinearDiscriminantAnalysis(),\n",
        "    QuadraticDiscriminantAnalysis(),\n",
        "    optimised_logistic_reg]\n",
        "\n",
        "# Logging to strore the metrics of each classifier for each k fold\n",
        "log_cols=[\"Classifier\", \"Duration_seconds\", \"Accuracy_test\", \"Log_Loss_test\", \"F1_Score_test\", \"Accuracy_train\", \"Log_Loss_train\", \"F1_Score_train\"]\n",
        "log = pd.DataFrame(columns=log_cols)\n",
        "\n",
        "\n",
        "sss = StratifiedKFold(n_splits=10, shuffle=True, random_state = 42)\n",
        "\n",
        "for train_index, test_index in sss.split(X, y):\n",
        "  X_train, X_test = X.loc[train_index], X.loc[test_index]\n",
        "  y_train, y_test = y.loc[train_index], y.loc[test_index]\n",
        "  \n",
        "  for clf in classifiers:\n",
        "    start = perf_counter ()\n",
        "    clf.fit(X_train, y_train)\n",
        "    duration = perf_counter () - start\n",
        "    name = clf.__class__.__name__\n",
        "    \n",
        "    #Accuracy_test\n",
        "    train_predictions = clf.predict(X_test)\n",
        "    acc_test = accuracy_score(y_test, train_predictions)\n",
        "    \n",
        "    #F1 Score test\n",
        "    F1_test = f1_score(y_test, train_predictions, labels=None, pos_label=1, average='binary', sample_weight=None)\n",
        "    \n",
        "    #Log_loss test\n",
        "    train_predictions = clf.predict_proba(X_test)\n",
        "    ll_test = log_loss(y_test, train_predictions)\n",
        "    \n",
        "    #Accuracy_train\n",
        "    train_predictions = clf.predict(X_train)\n",
        "    acc_train = accuracy_score(y_train, train_predictions)\n",
        "    \n",
        "    #F1 Score train\n",
        "    F1_train = f1_score(y_train, train_predictions, labels=None, pos_label=1, average='binary', sample_weight=None)\n",
        "    \n",
        "    #Log_loss train\n",
        "    train_predictions = clf.predict_proba(X_train)\n",
        "    ll_train = log_loss(y_train, train_predictions)\n",
        "    \n",
        "    #Create dataframe log to store the results\n",
        "    log_entry = pd.DataFrame([[name, duration, acc_test*100, ll_test, F1_test, acc_train*100, ll_train, F1_train]], columns=log_cols)\n",
        "    log = log.append(log_entry)"
      ],
      "execution_count": 0,
      "outputs": [
        {
          "output_type": "stream",
          "text": [
            "/usr/local/lib/python3.6/dist-packages/sklearn/ensemble/forest.py:245: FutureWarning: The default value of n_estimators will change from 10 in version 0.20 to 100 in 0.22.\n",
            "  \"10 in version 0.20 to 100 in 0.22.\", FutureWarning)\n"
          ],
          "name": "stderr"
        }
      ]
    },
    {
      "cell_type": "code",
      "metadata": {
        "id": "h1t-8NWZqo33",
        "colab_type": "code",
        "outputId": "059e0b51-ded9-496b-ac69-ce98f9245530",
        "colab": {
          "base_uri": "https://localhost:8080/",
          "height": 243
        }
      },
      "source": [
        "print(log.shape)\n",
        "log.head() "
      ],
      "execution_count": 0,
      "outputs": [
        {
          "output_type": "stream",
          "text": [
            "(110, 8)\n"
          ],
          "name": "stdout"
        },
        {
          "output_type": "execute_result",
          "data": {
            "text/html": [
              "<div>\n",
              "<style scoped>\n",
              "    .dataframe tbody tr th:only-of-type {\n",
              "        vertical-align: middle;\n",
              "    }\n",
              "\n",
              "    .dataframe tbody tr th {\n",
              "        vertical-align: top;\n",
              "    }\n",
              "\n",
              "    .dataframe thead th {\n",
              "        text-align: right;\n",
              "    }\n",
              "</style>\n",
              "<table border=\"1\" class=\"dataframe\">\n",
              "  <thead>\n",
              "    <tr style=\"text-align: right;\">\n",
              "      <th></th>\n",
              "      <th>Classifier</th>\n",
              "      <th>Duration_seconds</th>\n",
              "      <th>Accuracy_test</th>\n",
              "      <th>Log_Loss_test</th>\n",
              "      <th>F1_Score_test</th>\n",
              "      <th>Accuracy_train</th>\n",
              "      <th>Log_Loss_train</th>\n",
              "      <th>F1_Score_train</th>\n",
              "    </tr>\n",
              "  </thead>\n",
              "  <tbody>\n",
              "    <tr>\n",
              "      <th>0</th>\n",
              "      <td>KNeighborsClassifier</td>\n",
              "      <td>0.013165</td>\n",
              "      <td>81.344902</td>\n",
              "      <td>2.550384</td>\n",
              "      <td>0.761111</td>\n",
              "      <td>90.048309</td>\n",
              "      <td>0.193851</td>\n",
              "      <td>0.871811</td>\n",
              "    </tr>\n",
              "    <tr>\n",
              "      <th>0</th>\n",
              "      <td>SVC</td>\n",
              "      <td>9.060091</td>\n",
              "      <td>60.520607</td>\n",
              "      <td>0.475908</td>\n",
              "      <td>0.000000</td>\n",
              "      <td>60.603865</td>\n",
              "      <td>0.443000</td>\n",
              "      <td>0.000000</td>\n",
              "    </tr>\n",
              "    <tr>\n",
              "      <th>0</th>\n",
              "      <td>NuSVC</td>\n",
              "      <td>9.251573</td>\n",
              "      <td>85.249458</td>\n",
              "      <td>0.347762</td>\n",
              "      <td>0.814208</td>\n",
              "      <td>94.299517</td>\n",
              "      <td>0.170318</td>\n",
              "      <td>0.925222</td>\n",
              "    </tr>\n",
              "    <tr>\n",
              "      <th>0</th>\n",
              "      <td>DecisionTreeClassifier</td>\n",
              "      <td>0.066854</td>\n",
              "      <td>93.275488</td>\n",
              "      <td>2.322564</td>\n",
              "      <td>0.915068</td>\n",
              "      <td>99.951691</td>\n",
              "      <td>0.000670</td>\n",
              "      <td>0.999387</td>\n",
              "    </tr>\n",
              "    <tr>\n",
              "      <th>0</th>\n",
              "      <td>RandomForestClassifier</td>\n",
              "      <td>0.064285</td>\n",
              "      <td>94.577007</td>\n",
              "      <td>0.425159</td>\n",
              "      <td>0.929178</td>\n",
              "      <td>99.637681</td>\n",
              "      <td>0.042387</td>\n",
              "      <td>0.995386</td>\n",
              "    </tr>\n",
              "  </tbody>\n",
              "</table>\n",
              "</div>"
            ],
            "text/plain": [
              "               Classifier  Duration_seconds  ...  Log_Loss_train  F1_Score_train\n",
              "0    KNeighborsClassifier          0.013165  ...        0.193851        0.871811\n",
              "0                     SVC          9.060091  ...        0.443000        0.000000\n",
              "0                   NuSVC          9.251573  ...        0.170318        0.925222\n",
              "0  DecisionTreeClassifier          0.066854  ...        0.000670        0.999387\n",
              "0  RandomForestClassifier          0.064285  ...        0.042387        0.995386\n",
              "\n",
              "[5 rows x 8 columns]"
            ]
          },
          "metadata": {
            "tags": []
          },
          "execution_count": 16
        }
      ]
    },
    {
      "cell_type": "code",
      "metadata": {
        "id": "RCNaGwvkqqNq",
        "colab_type": "code",
        "outputId": "d1f5c080-7c61-4248-9f09-de48db68f840",
        "colab": {
          "base_uri": "https://localhost:8080/",
          "height": 446
        }
      },
      "source": [
        "#Compute the mean accross the 10 stratified k-folds\n",
        "log_mean = log.groupby(['Classifier']).mean()\n",
        "log_mean.head(15)"
      ],
      "execution_count": 0,
      "outputs": [
        {
          "output_type": "execute_result",
          "data": {
            "text/html": [
              "<div>\n",
              "<style scoped>\n",
              "    .dataframe tbody tr th:only-of-type {\n",
              "        vertical-align: middle;\n",
              "    }\n",
              "\n",
              "    .dataframe tbody tr th {\n",
              "        vertical-align: top;\n",
              "    }\n",
              "\n",
              "    .dataframe thead th {\n",
              "        text-align: right;\n",
              "    }\n",
              "</style>\n",
              "<table border=\"1\" class=\"dataframe\">\n",
              "  <thead>\n",
              "    <tr style=\"text-align: right;\">\n",
              "      <th></th>\n",
              "      <th>Duration_seconds</th>\n",
              "      <th>Accuracy_test</th>\n",
              "      <th>Log_Loss_test</th>\n",
              "      <th>F1_Score_test</th>\n",
              "      <th>Accuracy_train</th>\n",
              "      <th>Log_Loss_train</th>\n",
              "      <th>F1_Score_train</th>\n",
              "    </tr>\n",
              "    <tr>\n",
              "      <th>Classifier</th>\n",
              "      <th></th>\n",
              "      <th></th>\n",
              "      <th></th>\n",
              "      <th></th>\n",
              "      <th></th>\n",
              "      <th></th>\n",
              "      <th></th>\n",
              "    </tr>\n",
              "  </thead>\n",
              "  <tbody>\n",
              "    <tr>\n",
              "      <th>AdaBoostClassifier</th>\n",
              "      <td>0.372127</td>\n",
              "      <td>93.544077</td>\n",
              "      <td>0.615814</td>\n",
              "      <td>0.917669</td>\n",
              "      <td>94.928637</td>\n",
              "      <td>0.614436</td>\n",
              "      <td>0.935309</td>\n",
              "    </tr>\n",
              "    <tr>\n",
              "      <th>DecisionTreeClassifier</th>\n",
              "      <td>0.078537</td>\n",
              "      <td>91.370394</td>\n",
              "      <td>2.958654</td>\n",
              "      <td>0.891793</td>\n",
              "      <td>99.942042</td>\n",
              "      <td>0.000803</td>\n",
              "      <td>0.999264</td>\n",
              "    </tr>\n",
              "    <tr>\n",
              "      <th>GaussianNB</th>\n",
              "      <td>0.005115</td>\n",
              "      <td>82.156716</td>\n",
              "      <td>4.583188</td>\n",
              "      <td>0.808973</td>\n",
              "      <td>82.233328</td>\n",
              "      <td>4.489500</td>\n",
              "      <td>0.809681</td>\n",
              "    </tr>\n",
              "    <tr>\n",
              "      <th>GradientBoostingClassifier</th>\n",
              "      <td>0.811902</td>\n",
              "      <td>94.609438</td>\n",
              "      <td>0.151526</td>\n",
              "      <td>0.930514</td>\n",
              "      <td>96.358273</td>\n",
              "      <td>0.115823</td>\n",
              "      <td>0.953413</td>\n",
              "    </tr>\n",
              "    <tr>\n",
              "      <th>KNeighborsClassifier</th>\n",
              "      <td>0.013275</td>\n",
              "      <td>80.807326</td>\n",
              "      <td>2.404674</td>\n",
              "      <td>0.754355</td>\n",
              "      <td>90.098750</td>\n",
              "      <td>0.192231</td>\n",
              "      <td>0.873410</td>\n",
              "    </tr>\n",
              "    <tr>\n",
              "      <th>LinearDiscriminantAnalysis</th>\n",
              "      <td>0.041080</td>\n",
              "      <td>88.719396</td>\n",
              "      <td>0.295781</td>\n",
              "      <td>0.845661</td>\n",
              "      <td>88.954086</td>\n",
              "      <td>0.281467</td>\n",
              "      <td>0.849168</td>\n",
              "    </tr>\n",
              "    <tr>\n",
              "      <th>NuSVC</th>\n",
              "      <td>9.237244</td>\n",
              "      <td>83.524770</td>\n",
              "      <td>0.361732</td>\n",
              "      <td>0.794986</td>\n",
              "      <td>94.515674</td>\n",
              "      <td>0.166978</td>\n",
              "      <td>0.928688</td>\n",
              "    </tr>\n",
              "    <tr>\n",
              "      <th>Pipeline</th>\n",
              "      <td>0.136951</td>\n",
              "      <td>92.740248</td>\n",
              "      <td>0.238230</td>\n",
              "      <td>0.906064</td>\n",
              "      <td>93.042580</td>\n",
              "      <td>0.203158</td>\n",
              "      <td>0.910038</td>\n",
              "    </tr>\n",
              "    <tr>\n",
              "      <th>QuadraticDiscriminantAnalysis</th>\n",
              "      <td>0.021290</td>\n",
              "      <td>82.549249</td>\n",
              "      <td>4.512916</td>\n",
              "      <td>0.812117</td>\n",
              "      <td>82.651005</td>\n",
              "      <td>4.427614</td>\n",
              "      <td>0.813191</td>\n",
              "    </tr>\n",
              "    <tr>\n",
              "      <th>RandomForestClassifier</th>\n",
              "      <td>0.059614</td>\n",
              "      <td>94.761707</td>\n",
              "      <td>0.302005</td>\n",
              "      <td>0.931768</td>\n",
              "      <td>99.572557</td>\n",
              "      <td>0.044547</td>\n",
              "      <td>0.994557</td>\n",
              "    </tr>\n",
              "    <tr>\n",
              "      <th>SVC</th>\n",
              "      <td>9.016542</td>\n",
              "      <td>60.595559</td>\n",
              "      <td>0.511962</td>\n",
              "      <td>0.000000</td>\n",
              "      <td>60.595523</td>\n",
              "      <td>0.446298</td>\n",
              "      <td>0.000000</td>\n",
              "    </tr>\n",
              "  </tbody>\n",
              "</table>\n",
              "</div>"
            ],
            "text/plain": [
              "                               Duration_seconds  ...  F1_Score_train\n",
              "Classifier                                       ...                \n",
              "AdaBoostClassifier                     0.372127  ...        0.935309\n",
              "DecisionTreeClassifier                 0.078537  ...        0.999264\n",
              "GaussianNB                             0.005115  ...        0.809681\n",
              "GradientBoostingClassifier             0.811902  ...        0.953413\n",
              "KNeighborsClassifier                   0.013275  ...        0.873410\n",
              "LinearDiscriminantAnalysis             0.041080  ...        0.849168\n",
              "NuSVC                                  9.237244  ...        0.928688\n",
              "Pipeline                               0.136951  ...        0.910038\n",
              "QuadraticDiscriminantAnalysis          0.021290  ...        0.813191\n",
              "RandomForestClassifier                 0.059614  ...        0.994557\n",
              "SVC                                    9.016542  ...        0.000000\n",
              "\n",
              "[11 rows x 7 columns]"
            ]
          },
          "metadata": {
            "tags": []
          },
          "execution_count": 17
        }
      ]
    },
    {
      "cell_type": "code",
      "metadata": {
        "id": "-KaKXXZ1qh3p",
        "colab_type": "code",
        "outputId": "73726faf-8be2-4318-b9b5-5f64bd2ce502",
        "colab": {
          "base_uri": "https://localhost:8080/",
          "height": 1000
        }
      },
      "source": [
        "#Print the results for each classifier\n",
        "i= 0\n",
        "while i < len(log_mean) :\n",
        "  name = log_mean.iloc[i].name\n",
        "  print(\"=\"*30)\n",
        "  print(name)\n",
        "    \n",
        "  print('****Results****')\n",
        "  \n",
        "  duration = log_mean.iloc[i].Duration_seconds\n",
        "  print(\"Duration: {} seconds\".format(duration))\n",
        "  \n",
        "  acc = log_mean.iloc[i].Accuracy_test\n",
        "  print(\"Accuracy test: {} %\".format(round(acc, 2)))\n",
        "  \n",
        "  acc = log_mean.iloc[i].Accuracy_train\n",
        "  print(\"Accuracy train: {} %\".format(round(acc, 2)))\n",
        "  \n",
        "  ll = log_mean.iloc[i]['Log_Loss_test']\n",
        "  print(\"Log Loss test: {}\".format(round(ll, 2)))\n",
        "  \n",
        "  ll = log_mean.iloc[i]['Log_Loss_train']\n",
        "  print(\"Log Loss train: {}\".format(round(ll, 2)))\n",
        "  \n",
        "  F1 = log_mean.iloc[i].F1_Score_test\n",
        "  print(\"F1 binary score test: {}\".format(round(F1, 2)))\n",
        "  \n",
        "  F1 = log_mean.iloc[i].F1_Score_train\n",
        "  print(\"F1 binary score train: {}\".format(round(F1, 2)))\n",
        "  i+=1\n",
        "     \n",
        "print(\"=\"*30)"
      ],
      "execution_count": 0,
      "outputs": [
        {
          "output_type": "stream",
          "text": [
            "==============================\n",
            "AdaBoostClassifier\n",
            "****Results****\n",
            "Duration: 0.3721270920999814 seconds\n",
            "Accuracy test: 93.54 %\n",
            "Accuracy train: 94.93 %\n",
            "Log Loss test: 0.62\n",
            "Log Loss train: 0.61\n",
            "F1 binary score test: 0.92\n",
            "F1 binary score train: 0.94\n",
            "==============================\n",
            "DecisionTreeClassifier\n",
            "****Results****\n",
            "Duration: 0.07853748399993492 seconds\n",
            "Accuracy test: 91.37 %\n",
            "Accuracy train: 99.94 %\n",
            "Log Loss test: 2.96\n",
            "Log Loss train: 0.0\n",
            "F1 binary score test: 0.89\n",
            "F1 binary score train: 1.0\n",
            "==============================\n",
            "GaussianNB\n",
            "****Results****\n",
            "Duration: 0.005115016300032948 seconds\n",
            "Accuracy test: 82.16 %\n",
            "Accuracy train: 82.23 %\n",
            "Log Loss test: 4.58\n",
            "Log Loss train: 4.49\n",
            "F1 binary score test: 0.81\n",
            "F1 binary score train: 0.81\n",
            "==============================\n",
            "GradientBoostingClassifier\n",
            "****Results****\n",
            "Duration: 0.8119019331000346 seconds\n",
            "Accuracy test: 94.61 %\n",
            "Accuracy train: 96.36 %\n",
            "Log Loss test: 0.15\n",
            "Log Loss train: 0.12\n",
            "F1 binary score test: 0.93\n",
            "F1 binary score train: 0.95\n",
            "==============================\n",
            "KNeighborsClassifier\n",
            "****Results****\n",
            "Duration: 0.013274777600008747 seconds\n",
            "Accuracy test: 80.81 %\n",
            "Accuracy train: 90.1 %\n",
            "Log Loss test: 2.4\n",
            "Log Loss train: 0.19\n",
            "F1 binary score test: 0.75\n",
            "F1 binary score train: 0.87\n",
            "==============================\n",
            "LinearDiscriminantAnalysis\n",
            "****Results****\n",
            "Duration: 0.04107973989989659 seconds\n",
            "Accuracy test: 88.72 %\n",
            "Accuracy train: 88.95 %\n",
            "Log Loss test: 0.3\n",
            "Log Loss train: 0.28\n",
            "F1 binary score test: 0.85\n",
            "F1 binary score train: 0.85\n",
            "==============================\n",
            "NuSVC\n",
            "****Results****\n",
            "Duration: 9.237243957900091 seconds\n",
            "Accuracy test: 83.52 %\n",
            "Accuracy train: 94.52 %\n",
            "Log Loss test: 0.36\n",
            "Log Loss train: 0.17\n",
            "F1 binary score test: 0.79\n",
            "F1 binary score train: 0.93\n",
            "==============================\n",
            "Pipeline\n",
            "****Results****\n",
            "Duration: 0.13695094079998854 seconds\n",
            "Accuracy test: 92.74 %\n",
            "Accuracy train: 93.04 %\n",
            "Log Loss test: 0.24\n",
            "Log Loss train: 0.2\n",
            "F1 binary score test: 0.91\n",
            "F1 binary score train: 0.91\n",
            "==============================\n",
            "QuadraticDiscriminantAnalysis\n",
            "****Results****\n",
            "Duration: 0.021290025400003288 seconds\n",
            "Accuracy test: 82.55 %\n",
            "Accuracy train: 82.65 %\n",
            "Log Loss test: 4.51\n",
            "Log Loss train: 4.43\n",
            "F1 binary score test: 0.81\n",
            "F1 binary score train: 0.81\n",
            "==============================\n",
            "RandomForestClassifier\n",
            "****Results****\n",
            "Duration: 0.05961404210015644 seconds\n",
            "Accuracy test: 94.76 %\n",
            "Accuracy train: 99.57 %\n",
            "Log Loss test: 0.3\n",
            "Log Loss train: 0.04\n",
            "F1 binary score test: 0.93\n",
            "F1 binary score train: 0.99\n",
            "==============================\n",
            "SVC\n",
            "****Results****\n",
            "Duration: 9.016542286299956 seconds\n",
            "Accuracy test: 60.6 %\n",
            "Accuracy train: 60.6 %\n",
            "Log Loss test: 0.51\n",
            "Log Loss train: 0.45\n",
            "F1 binary score test: 0.0\n",
            "F1 binary score train: 0.0\n",
            "==============================\n"
          ],
          "name": "stdout"
        }
      ]
    },
    {
      "cell_type": "code",
      "metadata": {
        "id": "LliOSJj7vx7T",
        "colab_type": "code",
        "outputId": "1ce65c77-758b-46a8-b0ce-c9ce89e9b64c",
        "colab": {
          "base_uri": "https://localhost:8080/",
          "height": 104
        }
      },
      "source": [
        "print(log_mean.index)"
      ],
      "execution_count": 0,
      "outputs": [
        {
          "output_type": "stream",
          "text": [
            "Index(['AdaBoostClassifier', 'DecisionTreeClassifier', 'GaussianNB',\n",
            "       'GradientBoostingClassifier', 'KNeighborsClassifier',\n",
            "       'LinearDiscriminantAnalysis', 'NuSVC', 'Pipeline',\n",
            "       'QuadraticDiscriminantAnalysis', 'RandomForestClassifier', 'SVC'],\n",
            "      dtype='object', name='Classifier')\n"
          ],
          "name": "stdout"
        }
      ]
    },
    {
      "cell_type": "markdown",
      "metadata": {
        "id": "9rSDgy9yNpsR",
        "colab_type": "text"
      },
      "source": [
        "# Visual illustration of models comparison"
      ]
    },
    {
      "cell_type": "code",
      "metadata": {
        "id": "cjTZG-mqNyZj",
        "colab_type": "code",
        "outputId": "6985b8c8-b62d-4fe1-845a-648696ec27ec",
        "colab": {
          "base_uri": "https://localhost:8080/",
          "height": 1000
        }
      },
      "source": [
        "import seaborn as sns\n",
        "\n",
        "#Plot accuracy Test\n",
        "sns.set_color_codes(\"muted\")\n",
        "order = log_mean.sort_values('Accuracy_test', ascending = False).index\n",
        "sns.barplot(x='Accuracy_test', y=log_mean.index, data=log_mean, color=\"b\", order = order)\n",
        "plt.xlabel('Accuracy_test %')\n",
        "plt.title('Classifier Accuracy Test')\n",
        "plt.show()\n",
        "\n",
        "#Plot accuracy train\n",
        "sns.set_color_codes(\"muted\")\n",
        "order = log_mean.sort_values('Accuracy_train', ascending = False).index\n",
        "sns.barplot(x='Accuracy_train', y=log_mean.index, data=log_mean, color=\"b\", order = order)\n",
        "plt.xlabel('Accuracy_train %')\n",
        "plt.title('Classifier Accuracy Train')\n",
        "plt.show()\n",
        "\n",
        "#Plot Log Loss test\n",
        "sns.set_color_codes(\"muted\")\n",
        "order = log_mean.sort_values('Log_Loss_test', ascending = True).index\n",
        "sns.barplot(x='Log_Loss_test', y=log_mean.index, data=log_mean, color=\"g\", order = order)\n",
        "plt.xlabel('Log_Loss_test')\n",
        "plt.title('Classifier Log Loss Test')\n",
        "plt.show()\n",
        "\n",
        "#Plot Log Loss train\n",
        "sns.set_color_codes(\"muted\")\n",
        "order = log_mean.sort_values('Log_Loss_train', ascending = True).index\n",
        "sns.barplot(x='Log_Loss_train', y=log_mean.index, data=log_mean, color=\"g\", order = order)\n",
        "plt.xlabel('Log_Loss_train')\n",
        "plt.title('Classifier Log Loss Train')\n",
        "plt.show()\n",
        "\n",
        "#Plot F1_scores test\n",
        "sns.set_color_codes(\"muted\")\n",
        "order = log_mean.sort_values('F1_Score_test', ascending = False).index\n",
        "sns.barplot(x='F1_Score_test', y=log_mean.index, data=log_mean, color=\"y\", order = order)\n",
        "plt.xlabel('F1_Score_test')\n",
        "plt.title('Classifier F1 Score test')\n",
        "plt.show()\n",
        "\n",
        "#Plot F1_scores train\n",
        "sns.set_color_codes(\"muted\")\n",
        "order = log_mean.sort_values('F1_Score_train', ascending = False).index\n",
        "sns.barplot(x='F1_Score_train', y=log_mean.index, data=log_mean, color=\"y\", order = order)\n",
        "plt.xlabel('F1_Score_test')\n",
        "plt.title('Classifier F1 Score train')\n",
        "plt.show()"
      ],
      "execution_count": 0,
      "outputs": [
        {
          "output_type": "display_data",
          "data": {
            "image/png": "[encoded data removed]",
            "text/plain": [
              "<Figure size 432x288 with 1 Axes>"
            ]
          },
          "metadata": {
            "tags": []
          }
        },
        {
          "output_type": "display_data",
          "data": {
            "image/png": "[encoded data removed]",
            "text/plain": [
              "<Figure size 432x288 with 1 Axes>"
            ]
          },
          "metadata": {
            "tags": []
          }
        },
        {
          "output_type": "display_data",
          "data": {
            "image/png": "[encoded data removed]",
            "text/plain": [
              "<Figure size 432x288 with 1 Axes>"
            ]
          },
          "metadata": {
            "tags": []
          }
        },
        {
          "output_type": "display_data",
          "data": {
            "image/png": "[encoded data removed]",
            "text/plain": [
              "<Figure size 432x288 with 1 Axes>"
            ]
          },
          "metadata": {
            "tags": []
          }
        },
        {
          "output_type": "display_data",
          "data": {
            "image/png": "[encoded data removed]",
            "text/plain": [
              "<Figure size 432x288 with 1 Axes>"
            ]
          },
          "metadata": {
            "tags": []
          }
        },
        {
          "output_type": "display_data",
          "data": {
            "image/png": "[encoded data removed]",
            "text/plain": [
              "<Figure size 432x288 with 1 Axes>"
            ]
          },
          "metadata": {
            "tags": []
          }
        }
      ]
    },
    {
      "cell_type": "markdown",
      "metadata": {
        "id": "42Rte9GqRLku",
        "colab_type": "text"
      },
      "source": [
        "# What is the best model when we add some noise?"
      ]
    },
    {
      "cell_type": "code",
      "metadata": {
        "id": "7IaJolnaSk_n",
        "colab_type": "code",
        "colab": {}
      },
      "source": [
        "n_samples, n_features = X.shape"
      ],
      "execution_count": 0,
      "outputs": []
    },
    {
      "cell_type": "code",
      "metadata": {
        "id": "3Ysg4Q50UHqo",
        "colab_type": "code",
        "outputId": "851cfecf-9910-48e9-8402-e4a03ce66e0c",
        "colab": {
          "base_uri": "https://localhost:8080/",
          "height": 34
        }
      },
      "source": [
        "# Add a lot of features that are pure noise\n",
        "random_state = np.random.RandomState(0)\n",
        "X_noise = np.c_[X, random_state.randn(n_samples, 200 * n_features)]\n",
        "print(X.shape, X_noise.shape)"
      ],
      "execution_count": 0,
      "outputs": [
        {
          "output_type": "stream",
          "text": [
            "(4601, 57) (4601, 11457)\n"
          ],
          "name": "stdout"
        }
      ]
    },
    {
      "cell_type": "code",
      "metadata": {
        "id": "whBcnikdWks7",
        "colab_type": "code",
        "outputId": "f6d79430-d28c-47f2-fcb3-68f2ad46b7a9",
        "colab": {
          "base_uri": "https://localhost:8080/",
          "height": 34
        }
      },
      "source": [
        "#Add noise to 50% of existing features\n",
        "from random import sample \n",
        "rng = np.random.RandomState(2)\n",
        "\n",
        "# Add noise to 50% of the sample\n",
        "list_index_to_perturb = sample(X.index.tolist(),int(len(X)/2))\n",
        "X_perturbated = X.iloc[list_index_to_perturb]\n",
        "X_perturbated = X_perturbated + 10 * rng.uniform(size=X_perturbated.shape)\n",
        "\n",
        "new_X = X.drop(list_index_to_perturb)\n",
        "\n",
        "# Concatenate the noisy sample and the 50% untouched from the original sample\n",
        "X_noise_bis = pd.concat([new_X, X_perturbated], verify_integrity=True)\n",
        "print(X.shape, new_X.shape, X_perturbated.shape, X_noise_bis.shape)"
      ],
      "execution_count": 0,
      "outputs": [
        {
          "output_type": "stream",
          "text": [
            "(4601, 57) (2301, 57) (2300, 57) (4601, 57)\n"
          ],
          "name": "stdout"
        }
      ]
    },
    {
      "cell_type": "code",
      "metadata": {
        "id": "FDq4ZYxvX9eR",
        "colab_type": "code",
        "colab": {}
      },
      "source": [
        "# Logging to strore the metrics of each classifier for each k fold\n",
        "log_cols=[\"Classifier\", \"Duration_seconds\", \"Accuracy_test\", \"Log_Loss_test\", \"F1_Score_test\", \"Accuracy_train\", \"Log_Loss_train\", \"F1_Score_train\"]\n",
        "log_noise = pd.DataFrame(columns=log_cols)\n",
        "\n",
        "\n",
        "#data = data.reset_index()\n",
        "\n",
        "sss = StratifiedKFold(n_splits=10, shuffle=True, random_state = 42)\n",
        "\n",
        "for train_index, test_index in sss.split(X_noise_bis, y):\n",
        "  X_train, X_test = X_noise_bis.loc[train_index], X_noise_bis.loc[test_index]\n",
        "  y_train, y_test = y.loc[train_index], y.loc[test_index]\n",
        "  \n",
        "  for clf in classifiers:\n",
        "    start = perf_counter ()\n",
        "    clf.fit(X_train, y_train)\n",
        "    duration = perf_counter () - start\n",
        "    name = clf.__class__.__name__\n",
        "    \n",
        "    #Accuracy_test\n",
        "    train_predictions = clf.predict(X_test)\n",
        "    acc_test = accuracy_score(y_test, train_predictions)\n",
        "    \n",
        "    #F1 Score test\n",
        "    F1_test = f1_score(y_test, train_predictions, labels=None, pos_label=1, average='binary', sample_weight=None)\n",
        "    \n",
        "    #Log_loss test\n",
        "    train_predictions = clf.predict_proba(X_test)\n",
        "    ll_test = log_loss(y_test, train_predictions)\n",
        "    \n",
        "    #Accuracy_train\n",
        "    train_predictions = clf.predict(X_train)\n",
        "    acc_train = accuracy_score(y_train, train_predictions)\n",
        "    \n",
        "    #F1 Score train\n",
        "    F1_train = f1_score(y_train, train_predictions, labels=None, pos_label=1, average='binary', sample_weight=None)\n",
        "    \n",
        "    #Log_loss train\n",
        "    train_predictions = clf.predict_proba(X_train)\n",
        "    ll_train = log_loss(y_train, train_predictions)\n",
        "    \n",
        "    #Create dataframe log to store the results\n",
        "    log_entry = pd.DataFrame([[name, duration, acc_test*100, ll_test, F1_test, acc_train*100, ll_train, F1_train]], columns=log_cols)\n",
        "    log_noise = log_noise.append(log_entry)"
      ],
      "execution_count": 0,
      "outputs": []
    },
    {
      "cell_type": "code",
      "metadata": {
        "id": "U4dPyGPaYkXs",
        "colab_type": "code",
        "outputId": "a20da594-1667-482f-aed7-d26e727b11dc",
        "colab": {
          "base_uri": "https://localhost:8080/",
          "height": 446
        }
      },
      "source": [
        "#Compute the mean accross the 10 stratified k-folds\n",
        "log_mean_noise = log_noise.groupby(['Classifier']).mean()\n",
        "log_mean_noise.head(15)"
      ],
      "execution_count": 0,
      "outputs": [
        {
          "output_type": "execute_result",
          "data": {
            "text/html": [
              "<div>\n",
              "<style scoped>\n",
              "    .dataframe tbody tr th:only-of-type {\n",
              "        vertical-align: middle;\n",
              "    }\n",
              "\n",
              "    .dataframe tbody tr th {\n",
              "        vertical-align: top;\n",
              "    }\n",
              "\n",
              "    .dataframe thead th {\n",
              "        text-align: right;\n",
              "    }\n",
              "</style>\n",
              "<table border=\"1\" class=\"dataframe\">\n",
              "  <thead>\n",
              "    <tr style=\"text-align: right;\">\n",
              "      <th></th>\n",
              "      <th>Duration_seconds</th>\n",
              "      <th>Accuracy_test</th>\n",
              "      <th>Log_Loss_test</th>\n",
              "      <th>F1_Score_test</th>\n",
              "      <th>Accuracy_train</th>\n",
              "      <th>Log_Loss_train</th>\n",
              "      <th>F1_Score_train</th>\n",
              "    </tr>\n",
              "    <tr>\n",
              "      <th>Classifier</th>\n",
              "      <th></th>\n",
              "      <th></th>\n",
              "      <th></th>\n",
              "      <th></th>\n",
              "      <th></th>\n",
              "      <th></th>\n",
              "      <th></th>\n",
              "    </tr>\n",
              "  </thead>\n",
              "  <tbody>\n",
              "    <tr>\n",
              "      <th>AdaBoostClassifier</th>\n",
              "      <td>1.107795</td>\n",
              "      <td>84.372697</td>\n",
              "      <td>0.659555</td>\n",
              "      <td>0.797161</td>\n",
              "      <td>86.580216</td>\n",
              "      <td>0.657870</td>\n",
              "      <td>0.825778</td>\n",
              "    </tr>\n",
              "    <tr>\n",
              "      <th>DecisionTreeClassifier</th>\n",
              "      <td>0.192073</td>\n",
              "      <td>79.765500</td>\n",
              "      <td>6.974065</td>\n",
              "      <td>0.743225</td>\n",
              "      <td>99.961361</td>\n",
              "      <td>0.000536</td>\n",
              "      <td>0.999509</td>\n",
              "    </tr>\n",
              "    <tr>\n",
              "      <th>GaussianNB</th>\n",
              "      <td>0.004474</td>\n",
              "      <td>67.312824</td>\n",
              "      <td>1.581240</td>\n",
              "      <td>0.343935</td>\n",
              "      <td>67.376655</td>\n",
              "      <td>1.558441</td>\n",
              "      <td>0.345971</td>\n",
              "    </tr>\n",
              "    <tr>\n",
              "      <th>GradientBoostingClassifier</th>\n",
              "      <td>1.462645</td>\n",
              "      <td>86.002613</td>\n",
              "      <td>0.327815</td>\n",
              "      <td>0.813076</td>\n",
              "      <td>89.982854</td>\n",
              "      <td>0.268002</td>\n",
              "      <td>0.866673</td>\n",
              "    </tr>\n",
              "    <tr>\n",
              "      <th>KNeighborsClassifier</th>\n",
              "      <td>0.012069</td>\n",
              "      <td>76.243326</td>\n",
              "      <td>2.947143</td>\n",
              "      <td>0.693875</td>\n",
              "      <td>87.514757</td>\n",
              "      <td>0.251855</td>\n",
              "      <td>0.839686</td>\n",
              "    </tr>\n",
              "    <tr>\n",
              "      <th>LinearDiscriminantAnalysis</th>\n",
              "      <td>0.039683</td>\n",
              "      <td>73.223755</td>\n",
              "      <td>0.545141</td>\n",
              "      <td>0.604448</td>\n",
              "      <td>74.404093</td>\n",
              "      <td>0.531227</td>\n",
              "      <td>0.621576</td>\n",
              "    </tr>\n",
              "    <tr>\n",
              "      <th>NuSVC</th>\n",
              "      <td>11.455709</td>\n",
              "      <td>69.766657</td>\n",
              "      <td>0.542061</td>\n",
              "      <td>0.441673</td>\n",
              "      <td>98.232264</td>\n",
              "      <td>0.104876</td>\n",
              "      <td>0.977287</td>\n",
              "    </tr>\n",
              "    <tr>\n",
              "      <th>Pipeline</th>\n",
              "      <td>0.070573</td>\n",
              "      <td>75.593090</td>\n",
              "      <td>0.501404</td>\n",
              "      <td>0.651099</td>\n",
              "      <td>76.604117</td>\n",
              "      <td>0.488849</td>\n",
              "      <td>0.664738</td>\n",
              "    </tr>\n",
              "    <tr>\n",
              "      <th>QuadraticDiscriminantAnalysis</th>\n",
              "      <td>0.020515</td>\n",
              "      <td>68.897990</td>\n",
              "      <td>1.767509</td>\n",
              "      <td>0.414774</td>\n",
              "      <td>71.426521</td>\n",
              "      <td>1.198468</td>\n",
              "      <td>0.476571</td>\n",
              "    </tr>\n",
              "    <tr>\n",
              "      <th>RandomForestClassifier</th>\n",
              "      <td>0.166607</td>\n",
              "      <td>84.697647</td>\n",
              "      <td>0.555962</td>\n",
              "      <td>0.789239</td>\n",
              "      <td>99.130630</td>\n",
              "      <td>0.096928</td>\n",
              "      <td>0.988883</td>\n",
              "    </tr>\n",
              "    <tr>\n",
              "      <th>SVC</th>\n",
              "      <td>10.472963</td>\n",
              "      <td>60.595559</td>\n",
              "      <td>0.608397</td>\n",
              "      <td>0.000000</td>\n",
              "      <td>60.595523</td>\n",
              "      <td>0.311350</td>\n",
              "      <td>0.000000</td>\n",
              "    </tr>\n",
              "  </tbody>\n",
              "</table>\n",
              "</div>"
            ],
            "text/plain": [
              "                               Duration_seconds  ...  F1_Score_train\n",
              "Classifier                                       ...                \n",
              "AdaBoostClassifier                     1.107795  ...        0.825778\n",
              "DecisionTreeClassifier                 0.192073  ...        0.999509\n",
              "GaussianNB                             0.004474  ...        0.345971\n",
              "GradientBoostingClassifier             1.462645  ...        0.866673\n",
              "KNeighborsClassifier                   0.012069  ...        0.839686\n",
              "LinearDiscriminantAnalysis             0.039683  ...        0.621576\n",
              "NuSVC                                 11.455709  ...        0.977287\n",
              "Pipeline                               0.070573  ...        0.664738\n",
              "QuadraticDiscriminantAnalysis          0.020515  ...        0.476571\n",
              "RandomForestClassifier                 0.166607  ...        0.988883\n",
              "SVC                                   10.472963  ...        0.000000\n",
              "\n",
              "[11 rows x 7 columns]"
            ]
          },
          "metadata": {
            "tags": []
          },
          "execution_count": 33
        }
      ]
    },
    {
      "cell_type": "code",
      "metadata": {
        "id": "vyAoAvpHYvIR",
        "colab_type": "code",
        "outputId": "df8d2ce7-7169-44aa-d2c0-88199fcb36ba",
        "colab": {
          "base_uri": "https://localhost:8080/",
          "height": 1000
        }
      },
      "source": [
        "#Print the results for each classifier\n",
        "i= 0\n",
        "while i < len(log_mean) :\n",
        "  name = log_noise.iloc[i].Classifier\n",
        "  print(\"=\"*30)\n",
        "  print(name)\n",
        "    \n",
        "  print('****Results****')\n",
        "  \n",
        "  duration = log_mean_noise.iloc[i].Duration_seconds\n",
        "  print(\"Duration: {} seconds\".format(duration))\n",
        "  \n",
        "  acc = log_mean_noise.iloc[i].Accuracy_test\n",
        "  print(\"Accuracy test: {} %\".format(round(acc, 2)))\n",
        "  \n",
        "  acc = log_mean_noise.iloc[i].Accuracy_train\n",
        "  print(\"Accuracy train: {} %\".format(round(acc, 2)))\n",
        "  \n",
        "  ll = log_mean_noise.iloc[i]['Log_Loss_test']\n",
        "  print(\"Log Loss test: {}\".format(round(ll, 2)))\n",
        "  \n",
        "  ll = log_mean_noise.iloc[i]['Log_Loss_train']\n",
        "  print(\"Log Loss train: {}\".format(round(ll, 2)))\n",
        "  \n",
        "  F1 = log_mean_noise.iloc[i].F1_Score_test\n",
        "  print(\"F1 binary score test: {}\".format(round(F1, 2)))\n",
        "  \n",
        "  F1 = log_mean_noise.iloc[i].F1_Score_train\n",
        "  print(\"F1 binary score train: {}\".format(round(F1, 2)))\n",
        "  i+=1\n",
        "     \n",
        "print(\"=\"*30)"
      ],
      "execution_count": 0,
      "outputs": [
        {
          "output_type": "stream",
          "text": [
            "==============================\n",
            "KNeighborsClassifier\n",
            "****Results****\n",
            "Duration: 1.1077950148999662 seconds\n",
            "Accuracy test: 84.37 %\n",
            "Accuracy train: 86.58 %\n",
            "Log Loss test: 0.66\n",
            "Log Loss train: 0.66\n",
            "F1 binary score test: 0.8\n",
            "F1 binary score train: 0.83\n",
            "==============================\n",
            "SVC\n",
            "****Results****\n",
            "Duration: 0.1920732353999483 seconds\n",
            "Accuracy test: 79.77 %\n",
            "Accuracy train: 99.96 %\n",
            "Log Loss test: 6.97\n",
            "Log Loss train: 0.0\n",
            "F1 binary score test: 0.74\n",
            "F1 binary score train: 1.0\n",
            "==============================\n",
            "NuSVC\n",
            "****Results****\n",
            "Duration: 0.004473974100073974 seconds\n",
            "Accuracy test: 67.31 %\n",
            "Accuracy train: 67.38 %\n",
            "Log Loss test: 1.58\n",
            "Log Loss train: 1.56\n",
            "F1 binary score test: 0.34\n",
            "F1 binary score train: 0.35\n",
            "==============================\n",
            "DecisionTreeClassifier\n",
            "****Results****\n",
            "Duration: 1.462645238100049 seconds\n",
            "Accuracy test: 86.0 %\n",
            "Accuracy train: 89.98 %\n",
            "Log Loss test: 0.33\n",
            "Log Loss train: 0.27\n",
            "F1 binary score test: 0.81\n",
            "F1 binary score train: 0.87\n",
            "==============================\n",
            "RandomForestClassifier\n",
            "****Results****\n",
            "Duration: 0.01206890969988308 seconds\n",
            "Accuracy test: 76.24 %\n",
            "Accuracy train: 87.51 %\n",
            "Log Loss test: 2.95\n",
            "Log Loss train: 0.25\n",
            "F1 binary score test: 0.69\n",
            "F1 binary score train: 0.84\n",
            "==============================\n",
            "AdaBoostClassifier\n",
            "****Results****\n",
            "Duration: 0.03968275110019022 seconds\n",
            "Accuracy test: 73.22 %\n",
            "Accuracy train: 74.4 %\n",
            "Log Loss test: 0.55\n",
            "Log Loss train: 0.53\n",
            "F1 binary score test: 0.6\n",
            "F1 binary score train: 0.62\n",
            "==============================\n",
            "GradientBoostingClassifier\n",
            "****Results****\n",
            "Duration: 11.455709212700004 seconds\n",
            "Accuracy test: 69.77 %\n",
            "Accuracy train: 98.23 %\n",
            "Log Loss test: 0.54\n",
            "Log Loss train: 0.1\n",
            "F1 binary score test: 0.44\n",
            "F1 binary score train: 0.98\n",
            "==============================\n",
            "GaussianNB\n",
            "****Results****\n",
            "Duration: 0.07057305559992529 seconds\n",
            "Accuracy test: 75.59 %\n",
            "Accuracy train: 76.6 %\n",
            "Log Loss test: 0.5\n",
            "Log Loss train: 0.49\n",
            "F1 binary score test: 0.65\n",
            "F1 binary score train: 0.66\n",
            "==============================\n",
            "LinearDiscriminantAnalysis\n",
            "****Results****\n",
            "Duration: 0.020514801499939495 seconds\n",
            "Accuracy test: 68.9 %\n",
            "Accuracy train: 71.43 %\n",
            "Log Loss test: 1.77\n",
            "Log Loss train: 1.2\n",
            "F1 binary score test: 0.41\n",
            "F1 binary score train: 0.48\n",
            "==============================\n",
            "QuadraticDiscriminantAnalysis\n",
            "****Results****\n",
            "Duration: 0.16660748539989073 seconds\n",
            "Accuracy test: 84.7 %\n",
            "Accuracy train: 99.13 %\n",
            "Log Loss test: 0.56\n",
            "Log Loss train: 0.1\n",
            "F1 binary score test: 0.79\n",
            "F1 binary score train: 0.99\n",
            "==============================\n",
            "Pipeline\n",
            "****Results****\n",
            "Duration: 10.472963113700008 seconds\n",
            "Accuracy test: 60.6 %\n",
            "Accuracy train: 60.6 %\n",
            "Log Loss test: 0.61\n",
            "Log Loss train: 0.31\n",
            "F1 binary score test: 0.0\n",
            "F1 binary score train: 0.0\n",
            "==============================\n"
          ],
          "name": "stdout"
        }
      ]
    },
    {
      "cell_type": "code",
      "metadata": {
        "id": "g9SZX--KY6mg",
        "colab_type": "code",
        "outputId": "a8799f27-cbe5-49e5-ca7a-151c67380ad3",
        "colab": {
          "base_uri": "https://localhost:8080/",
          "height": 1000
        }
      },
      "source": [
        "import seaborn as sns\n",
        "\n",
        "#Plot accuracy Test\n",
        "sns.set_color_codes(\"muted\")\n",
        "order = log_mean_noise.sort_values('Accuracy_test', ascending = False).index\n",
        "sns.barplot(x='Accuracy_test', y=log_mean_noise.index, data=log_mean_noise, color=\"b\", order = order)\n",
        "plt.xlabel('Accuracy_test %')\n",
        "plt.title('Classifier Accuracy Test')\n",
        "plt.show()\n",
        "\n",
        "#Plot accuracy train\n",
        "sns.set_color_codes(\"muted\")\n",
        "order = log_mean_noise.sort_values('Accuracy_train', ascending = False).index\n",
        "sns.barplot(x='Accuracy_train', y=log_mean_noise.index, data=log_mean_noise, color=\"b\", order = order)\n",
        "plt.xlabel('Accuracy_train %')\n",
        "plt.title('Classifier Accuracy Train')\n",
        "plt.show()\n",
        "\n",
        "#Plot Log Loss test\n",
        "sns.set_color_codes(\"muted\")\n",
        "order = log_mean_noise.sort_values('Log_Loss_test', ascending = True).index\n",
        "sns.barplot(x='Log_Loss_test', y=log_mean_noise.index, data=log_mean_noise, color=\"g\", order = order)\n",
        "plt.xlabel('Log_Loss_test')\n",
        "plt.title('Classifier Log Loss Test')\n",
        "plt.show()\n",
        "\n",
        "#Plot Log Loss train\n",
        "sns.set_color_codes(\"muted\")\n",
        "order = log_mean_noise.sort_values('Log_Loss_train', ascending = True).index\n",
        "sns.barplot(x='Log_Loss_train', y=log_mean_noise.index, data=log_mean_noise, color=\"g\", order = order)\n",
        "plt.xlabel('Log_Loss_train')\n",
        "plt.title('Classifier Log Loss Train')\n",
        "plt.show()\n",
        "\n",
        "#Plot F1_scores test\n",
        "sns.set_color_codes(\"muted\")\n",
        "order = log_mean_noise.sort_values('F1_Score_test', ascending = False).index\n",
        "sns.barplot(x='F1_Score_test', y=log_mean_noise.index, data=log_mean_noise, color=\"y\", order = order)\n",
        "plt.xlabel('F1_Score_test')\n",
        "plt.title('Classifier F1 Score test')\n",
        "plt.show()\n",
        "\n",
        "#Plot F1_scores train\n",
        "sns.set_color_codes(\"muted\")\n",
        "order = log_mean_noise.sort_values('F1_Score_train', ascending = False).index\n",
        "sns.barplot(x='F1_Score_train', y=log_mean_noise.index, data=log_mean_noise, color=\"y\", order = order)\n",
        "plt.xlabel('F1_Score_test')\n",
        "plt.title('Classifier F1 Score train')\n",
        "plt.show()"
      ],
      "execution_count": 0,
      "outputs": [
        {
          "output_type": "display_data",
          "data": {
            "image/png": "[encoded data removed]",
            "text/plain": [
              "<Figure size 432x288 with 1 Axes>"
            ]
          },
          "metadata": {
            "tags": []
          }
        },
        {
          "output_type": "display_data",
          "data": {
            "image/png": "[encoded data removed]",
            "text/plain": [
              "<Figure size 432x288 with 1 Axes>"
            ]
          },
          "metadata": {
            "tags": []
          }
        },
        {
          "output_type": "display_data",
          "data": {
            "image/png": "[encoded data removed]",
            "text/plain": [
              "<Figure size 432x288 with 1 Axes>"
            ]
          },
          "metadata": {
            "tags": []
          }
        },
        {
          "output_type": "display_data",
          "data": {
            "image/png": "[encoded data removed]",
            "text/plain": [
              "<Figure size 432x288 with 1 Axes>"
            ]
          },
          "metadata": {
            "tags": []
          }
        },
        {
          "output_type": "display_data",
          "data": {
            "image/png": "[encoded data removed]",
            "text/plain": [
              "<Figure size 432x288 with 1 Axes>"
            ]
          },
          "metadata": {
            "tags": []
          }
        },
        {
          "output_type": "display_data",
          "data": {
            "image/png": "[encoded data removed]",
            "text/plain": [
              "<Figure size 432x288 with 1 Axes>"
            ]
          },
          "metadata": {
            "tags": []
          }
        }
      ]
    }
  ]
}